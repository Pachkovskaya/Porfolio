{
 "cells": [
  {
   "cell_type": "markdown",
   "metadata": {},
   "source": [
    "# Исследование объявлений о продаже квартир\n",
    "\n",
    "В нашем распоряжении данные сервиса Яндекс Недвижимость — архив объявлений о продаже квартир в Санкт-Петербурге и соседних населённых пунктах за несколько лет. Нужно научиться определять рыночную стоимость объектов недвижимости. Моя задача сделать исследовательский анализ данных и установить параметры, влияющие на цену объектов. Это позволит построить автоматизированную систему: она отследит аномалии и мошенническую деятельность. \n",
    "По каждой квартире на продажу доступны два вида данных. Первые вписаны пользователем, вторые — получены автоматически на основе картографических данных.\n",
    "\n",
    "Цель исследования:\n",
    "\n",
    "1.Определить рыночную стоимость обьектов недвижимости.\n",
    "2.Постороить автоматизированную систему, которая позволит отследить аномалии и мошенническую деятельность.\n",
    "3.Установить какие факторы влияют на ценообразование стоимости квартиры.\n",
    "\n",
    "Ход исследования:\n",
    "\n",
    "Данные о недвижимости я получу из файла /datasets/real_estate_data.csv. О качестве данных ничего не известно. Поэтому перед тем, как приступить к целям исследования, понадобиться обзор данных.\n",
    "Я проверю данные на ошибки и оценю их влияние на исследование. Затем, на этапе предобработки я найду возможность исправить их, стараясь не искажать исходные данные, чтобы не было искажений в результатах исследования. Далее создам необходимые столбцы и приступлю к исследовательскому анализу.\n",
    "Таким образом мое исследование будет из семи этапов.\n",
    "\n",
    "1. Обзор данных.\n",
    "2. Предобработка данных.\n",
    "3. Расчеты и добавление результатов в таблицу.\n",
    "4. Проведение анализа для Ленинградской области.\n",
    "5. Проведение анализа для Санкт-Петербурга.\n",
    "6. Выявление факторов , которые влияют на ценообразование стоимости квартиры.\n",
    "7. Общий вывод."
   ]
  },
  {
   "cell_type": "markdown",
   "metadata": {},
   "source": []
  },
  {
   "cell_type": "markdown",
   "metadata": {
    "id": "aeFLH07FAwb9"
   },
   "source": [
    "## Обзор данных"
   ]
  },
  {
   "cell_type": "markdown",
   "metadata": {},
   "source": [
    "### Импорт библиотеки pandas."
   ]
  },
  {
   "cell_type": "code",
   "execution_count": 1,
   "metadata": {
    "id": "7MZxY65pAwb9"
   },
   "outputs": [],
   "source": [
    "import pandas as pd\n",
    "import matplotlib.pyplot as plt"
   ]
  },
  {
   "cell_type": "markdown",
   "metadata": {},
   "source": []
  },
  {
   "cell_type": "markdown",
   "metadata": {},
   "source": []
  },
  {
   "cell_type": "markdown",
   "metadata": {},
   "source": [
    "### Открытие данных \n",
    "\n",
    "Открываем файл из csv-файла в датафрейм c помощью библиотеки pandas. Данные склеились в одну строку из-за разделителей в формате csv. Для корректного открытия данных использовали разграничитель \\t. Выводим для ознакомления с файлом первые пять строк на экран и общую информацию о файле. Выводим основную информацию о датафрейме с помощью метода info()."
   ]
  },
  {
   "cell_type": "code",
   "execution_count": 2,
   "metadata": {},
   "outputs": [
    {
     "data": {
      "text/html": [
       "<div>\n",
       "<style scoped>\n",
       "    .dataframe tbody tr th:only-of-type {\n",
       "        vertical-align: middle;\n",
       "    }\n",
       "\n",
       "    .dataframe tbody tr th {\n",
       "        vertical-align: top;\n",
       "    }\n",
       "\n",
       "    .dataframe thead th {\n",
       "        text-align: right;\n",
       "    }\n",
       "</style>\n",
       "<table border=\"1\" class=\"dataframe\">\n",
       "  <thead>\n",
       "    <tr style=\"text-align: right;\">\n",
       "      <th></th>\n",
       "      <th>total_images</th>\n",
       "      <th>last_price</th>\n",
       "      <th>total_area</th>\n",
       "      <th>first_day_exposition</th>\n",
       "      <th>rooms</th>\n",
       "      <th>ceiling_height</th>\n",
       "      <th>floors_total</th>\n",
       "      <th>living_area</th>\n",
       "      <th>floor</th>\n",
       "      <th>is_apartment</th>\n",
       "      <th>...</th>\n",
       "      <th>kitchen_area</th>\n",
       "      <th>balcony</th>\n",
       "      <th>locality_name</th>\n",
       "      <th>airports_nearest</th>\n",
       "      <th>cityCenters_nearest</th>\n",
       "      <th>parks_around3000</th>\n",
       "      <th>parks_nearest</th>\n",
       "      <th>ponds_around3000</th>\n",
       "      <th>ponds_nearest</th>\n",
       "      <th>days_exposition</th>\n",
       "    </tr>\n",
       "  </thead>\n",
       "  <tbody>\n",
       "    <tr>\n",
       "      <th>0</th>\n",
       "      <td>20</td>\n",
       "      <td>13000000.0</td>\n",
       "      <td>108.0</td>\n",
       "      <td>2019-03-07T00:00:00</td>\n",
       "      <td>3</td>\n",
       "      <td>2.70</td>\n",
       "      <td>16.0</td>\n",
       "      <td>51.0</td>\n",
       "      <td>8</td>\n",
       "      <td>NaN</td>\n",
       "      <td>...</td>\n",
       "      <td>25.0</td>\n",
       "      <td>NaN</td>\n",
       "      <td>Санкт-Петербург</td>\n",
       "      <td>18863.0</td>\n",
       "      <td>16028.0</td>\n",
       "      <td>1.0</td>\n",
       "      <td>482.0</td>\n",
       "      <td>2.0</td>\n",
       "      <td>755.0</td>\n",
       "      <td>NaN</td>\n",
       "    </tr>\n",
       "    <tr>\n",
       "      <th>1</th>\n",
       "      <td>7</td>\n",
       "      <td>3350000.0</td>\n",
       "      <td>40.4</td>\n",
       "      <td>2018-12-04T00:00:00</td>\n",
       "      <td>1</td>\n",
       "      <td>NaN</td>\n",
       "      <td>11.0</td>\n",
       "      <td>18.6</td>\n",
       "      <td>1</td>\n",
       "      <td>NaN</td>\n",
       "      <td>...</td>\n",
       "      <td>11.0</td>\n",
       "      <td>2.0</td>\n",
       "      <td>посёлок Шушары</td>\n",
       "      <td>12817.0</td>\n",
       "      <td>18603.0</td>\n",
       "      <td>0.0</td>\n",
       "      <td>NaN</td>\n",
       "      <td>0.0</td>\n",
       "      <td>NaN</td>\n",
       "      <td>81.0</td>\n",
       "    </tr>\n",
       "    <tr>\n",
       "      <th>2</th>\n",
       "      <td>10</td>\n",
       "      <td>5196000.0</td>\n",
       "      <td>56.0</td>\n",
       "      <td>2015-08-20T00:00:00</td>\n",
       "      <td>2</td>\n",
       "      <td>NaN</td>\n",
       "      <td>5.0</td>\n",
       "      <td>34.3</td>\n",
       "      <td>4</td>\n",
       "      <td>NaN</td>\n",
       "      <td>...</td>\n",
       "      <td>8.3</td>\n",
       "      <td>0.0</td>\n",
       "      <td>Санкт-Петербург</td>\n",
       "      <td>21741.0</td>\n",
       "      <td>13933.0</td>\n",
       "      <td>1.0</td>\n",
       "      <td>90.0</td>\n",
       "      <td>2.0</td>\n",
       "      <td>574.0</td>\n",
       "      <td>558.0</td>\n",
       "    </tr>\n",
       "    <tr>\n",
       "      <th>3</th>\n",
       "      <td>0</td>\n",
       "      <td>64900000.0</td>\n",
       "      <td>159.0</td>\n",
       "      <td>2015-07-24T00:00:00</td>\n",
       "      <td>3</td>\n",
       "      <td>NaN</td>\n",
       "      <td>14.0</td>\n",
       "      <td>NaN</td>\n",
       "      <td>9</td>\n",
       "      <td>NaN</td>\n",
       "      <td>...</td>\n",
       "      <td>NaN</td>\n",
       "      <td>0.0</td>\n",
       "      <td>Санкт-Петербург</td>\n",
       "      <td>28098.0</td>\n",
       "      <td>6800.0</td>\n",
       "      <td>2.0</td>\n",
       "      <td>84.0</td>\n",
       "      <td>3.0</td>\n",
       "      <td>234.0</td>\n",
       "      <td>424.0</td>\n",
       "    </tr>\n",
       "    <tr>\n",
       "      <th>4</th>\n",
       "      <td>2</td>\n",
       "      <td>10000000.0</td>\n",
       "      <td>100.0</td>\n",
       "      <td>2018-06-19T00:00:00</td>\n",
       "      <td>2</td>\n",
       "      <td>3.03</td>\n",
       "      <td>14.0</td>\n",
       "      <td>32.0</td>\n",
       "      <td>13</td>\n",
       "      <td>NaN</td>\n",
       "      <td>...</td>\n",
       "      <td>41.0</td>\n",
       "      <td>NaN</td>\n",
       "      <td>Санкт-Петербург</td>\n",
       "      <td>31856.0</td>\n",
       "      <td>8098.0</td>\n",
       "      <td>2.0</td>\n",
       "      <td>112.0</td>\n",
       "      <td>1.0</td>\n",
       "      <td>48.0</td>\n",
       "      <td>121.0</td>\n",
       "    </tr>\n",
       "  </tbody>\n",
       "</table>\n",
       "<p>5 rows × 22 columns</p>\n",
       "</div>"
      ],
      "text/plain": [
       "   total_images  last_price  total_area first_day_exposition  rooms  \\\n",
       "0            20  13000000.0       108.0  2019-03-07T00:00:00      3   \n",
       "1             7   3350000.0        40.4  2018-12-04T00:00:00      1   \n",
       "2            10   5196000.0        56.0  2015-08-20T00:00:00      2   \n",
       "3             0  64900000.0       159.0  2015-07-24T00:00:00      3   \n",
       "4             2  10000000.0       100.0  2018-06-19T00:00:00      2   \n",
       "\n",
       "   ceiling_height  floors_total  living_area  floor is_apartment  ...  \\\n",
       "0            2.70          16.0         51.0      8          NaN  ...   \n",
       "1             NaN          11.0         18.6      1          NaN  ...   \n",
       "2             NaN           5.0         34.3      4          NaN  ...   \n",
       "3             NaN          14.0          NaN      9          NaN  ...   \n",
       "4            3.03          14.0         32.0     13          NaN  ...   \n",
       "\n",
       "   kitchen_area  balcony    locality_name  airports_nearest  \\\n",
       "0          25.0      NaN  Санкт-Петербург           18863.0   \n",
       "1          11.0      2.0   посёлок Шушары           12817.0   \n",
       "2           8.3      0.0  Санкт-Петербург           21741.0   \n",
       "3           NaN      0.0  Санкт-Петербург           28098.0   \n",
       "4          41.0      NaN  Санкт-Петербург           31856.0   \n",
       "\n",
       "  cityCenters_nearest  parks_around3000  parks_nearest  ponds_around3000  \\\n",
       "0             16028.0               1.0          482.0               2.0   \n",
       "1             18603.0               0.0            NaN               0.0   \n",
       "2             13933.0               1.0           90.0               2.0   \n",
       "3              6800.0               2.0           84.0               3.0   \n",
       "4              8098.0               2.0          112.0               1.0   \n",
       "\n",
       "   ponds_nearest  days_exposition  \n",
       "0          755.0              NaN  \n",
       "1            NaN             81.0  \n",
       "2          574.0            558.0  \n",
       "3          234.0            424.0  \n",
       "4           48.0            121.0  \n",
       "\n",
       "[5 rows x 22 columns]"
      ]
     },
     "metadata": {},
     "output_type": "display_data"
    },
    {
     "name": "stdout",
     "output_type": "stream",
     "text": [
      "<class 'pandas.core.frame.DataFrame'>\n",
      "RangeIndex: 23699 entries, 0 to 23698\n",
      "Data columns (total 22 columns):\n",
      " #   Column                Non-Null Count  Dtype  \n",
      "---  ------                --------------  -----  \n",
      " 0   total_images          23699 non-null  int64  \n",
      " 1   last_price            23699 non-null  float64\n",
      " 2   total_area            23699 non-null  float64\n",
      " 3   first_day_exposition  23699 non-null  object \n",
      " 4   rooms                 23699 non-null  int64  \n",
      " 5   ceiling_height        14504 non-null  float64\n",
      " 6   floors_total          23613 non-null  float64\n",
      " 7   living_area           21796 non-null  float64\n",
      " 8   floor                 23699 non-null  int64  \n",
      " 9   is_apartment          2775 non-null   object \n",
      " 10  studio                23699 non-null  bool   \n",
      " 11  open_plan             23699 non-null  bool   \n",
      " 12  kitchen_area          21421 non-null  float64\n",
      " 13  balcony               12180 non-null  float64\n",
      " 14  locality_name         23650 non-null  object \n",
      " 15  airports_nearest      18157 non-null  float64\n",
      " 16  cityCenters_nearest   18180 non-null  float64\n",
      " 17  parks_around3000      18181 non-null  float64\n",
      " 18  parks_nearest         8079 non-null   float64\n",
      " 19  ponds_around3000      18181 non-null  float64\n",
      " 20  ponds_nearest         9110 non-null   float64\n",
      " 21  days_exposition       20518 non-null  float64\n",
      "dtypes: bool(2), float64(14), int64(3), object(3)\n",
      "memory usage: 3.7+ MB\n"
     ]
    }
   ],
   "source": [
    "data = pd.read_csv('/datasets/real_estate_data.csv', sep='\\t')\n",
    "display (data.head())\n",
    "data.info()"
   ]
  },
  {
   "cell_type": "markdown",
   "metadata": {},
   "source": [
    "###  Вывод гистограмм датафрейма\n",
    "\n",
    "Строим гистограммы для датафрейма data."
   ]
  },
  {
   "cell_type": "code",
   "execution_count": 3,
   "metadata": {},
   "outputs": [
    {
     "data": {
      "text/plain": [
       "array([[<AxesSubplot:title={'center':'total_images'}>,\n",
       "        <AxesSubplot:title={'center':'last_price'}>,\n",
       "        <AxesSubplot:title={'center':'total_area'}>,\n",
       "        <AxesSubplot:title={'center':'rooms'}>],\n",
       "       [<AxesSubplot:title={'center':'ceiling_height'}>,\n",
       "        <AxesSubplot:title={'center':'floors_total'}>,\n",
       "        <AxesSubplot:title={'center':'living_area'}>,\n",
       "        <AxesSubplot:title={'center':'floor'}>],\n",
       "       [<AxesSubplot:title={'center':'kitchen_area'}>,\n",
       "        <AxesSubplot:title={'center':'balcony'}>,\n",
       "        <AxesSubplot:title={'center':'airports_nearest'}>,\n",
       "        <AxesSubplot:title={'center':'cityCenters_nearest'}>],\n",
       "       [<AxesSubplot:title={'center':'parks_around3000'}>,\n",
       "        <AxesSubplot:title={'center':'parks_nearest'}>,\n",
       "        <AxesSubplot:title={'center':'ponds_around3000'}>,\n",
       "        <AxesSubplot:title={'center':'ponds_nearest'}>],\n",
       "       [<AxesSubplot:title={'center':'days_exposition'}>, <AxesSubplot:>,\n",
       "        <AxesSubplot:>, <AxesSubplot:>]], dtype=object)"
      ]
     },
     "execution_count": 3,
     "metadata": {},
     "output_type": "execute_result"
    },
    {
     "data": {
      "image/png": "[encoded data removed]",
      "text/plain": [
       "<Figure size 1080x1440 with 20 Axes>"
      ]
     },
     "metadata": {
      "needs_background": "light"
     },
     "output_type": "display_data"
    }
   ],
   "source": [
    "data.hist(figsize=(15, 20))\n"
   ]
  },
  {
   "cell_type": "markdown",
   "metadata": {},
   "source": [
    "###  Вывод\n",
    "\n",
    "Всего 22 параметра и 23699 строки. Есть выбросы в отдельных столбцах. "
   ]
  },
  {
   "cell_type": "markdown",
   "metadata": {},
   "source": []
  },
  {
   "cell_type": "markdown",
   "metadata": {
    "id": "-O5NtivEAwb9"
   },
   "source": [
    "## Предобработка данных"
   ]
  },
  {
   "cell_type": "markdown",
   "metadata": {},
   "source": [
    "### Поиск пропущенных значений"
   ]
  },
  {
   "cell_type": "markdown",
   "metadata": {},
   "source": [
    "Для выявления пропущенных значений исподьзуем функцию isna. \n"
   ]
  },
  {
   "cell_type": "markdown",
   "metadata": {},
   "source": []
  },
  {
   "cell_type": "markdown",
   "metadata": {},
   "source": []
  },
  {
   "cell_type": "code",
   "execution_count": 4,
   "metadata": {
    "id": "7v3vAeTuAwb-"
   },
   "outputs": [
    {
     "data": {
      "text/html": [
       "<style  type=\"text/css\" >\n",
       "#T_ea758_row0_col0,#T_ea758_row1_col0,#T_ea758_row2_col0,#T_ea758_row3_col0,#T_ea758_row4_col0,#T_ea758_row6_col0,#T_ea758_row8_col0,#T_ea758_row10_col0,#T_ea758_row11_col0,#T_ea758_row14_col0{\n",
       "            background-color:  #3b4cc0;\n",
       "            color:  #f1f1f1;\n",
       "        }#T_ea758_row5_col0{\n",
       "            background-color:  #cdd9ec;\n",
       "            color:  #000000;\n",
       "        }#T_ea758_row7_col0{\n",
       "            background-color:  #5673e0;\n",
       "            color:  #000000;\n",
       "        }#T_ea758_row9_col0{\n",
       "            background-color:  #b40426;\n",
       "            color:  #f1f1f1;\n",
       "        }#T_ea758_row12_col0{\n",
       "            background-color:  #5e7de7;\n",
       "            color:  #000000;\n",
       "        }#T_ea758_row13_col0{\n",
       "            background-color:  #ead4c8;\n",
       "            color:  #000000;\n",
       "        }#T_ea758_row15_col0,#T_ea758_row16_col0,#T_ea758_row17_col0,#T_ea758_row19_col0{\n",
       "            background-color:  #90b2fe;\n",
       "            color:  #000000;\n",
       "        }#T_ea758_row18_col0{\n",
       "            background-color:  #f4987a;\n",
       "            color:  #000000;\n",
       "        }#T_ea758_row20_col0{\n",
       "            background-color:  #f7aa8c;\n",
       "            color:  #000000;\n",
       "        }#T_ea758_row21_col0{\n",
       "            background-color:  #688aef;\n",
       "            color:  #000000;\n",
       "        }</style><table id=\"T_ea758_\" ><thead>    <tr>        <th class=\"blank level0\" ></th>        <th class=\"col_heading level0 col0\" >0</th>    </tr></thead><tbody>\n",
       "                <tr>\n",
       "                        <th id=\"T_ea758_level0_row0\" class=\"row_heading level0 row0\" >total_images</th>\n",
       "                        <td id=\"T_ea758_row0_col0\" class=\"data row0 col0\" >0.000000</td>\n",
       "            </tr>\n",
       "            <tr>\n",
       "                        <th id=\"T_ea758_level0_row1\" class=\"row_heading level0 row1\" >last_price</th>\n",
       "                        <td id=\"T_ea758_row1_col0\" class=\"data row1 col0\" >0.000000</td>\n",
       "            </tr>\n",
       "            <tr>\n",
       "                        <th id=\"T_ea758_level0_row2\" class=\"row_heading level0 row2\" >total_area</th>\n",
       "                        <td id=\"T_ea758_row2_col0\" class=\"data row2 col0\" >0.000000</td>\n",
       "            </tr>\n",
       "            <tr>\n",
       "                        <th id=\"T_ea758_level0_row3\" class=\"row_heading level0 row3\" >first_day_exposition</th>\n",
       "                        <td id=\"T_ea758_row3_col0\" class=\"data row3 col0\" >0.000000</td>\n",
       "            </tr>\n",
       "            <tr>\n",
       "                        <th id=\"T_ea758_level0_row4\" class=\"row_heading level0 row4\" >rooms</th>\n",
       "                        <td id=\"T_ea758_row4_col0\" class=\"data row4 col0\" >0.000000</td>\n",
       "            </tr>\n",
       "            <tr>\n",
       "                        <th id=\"T_ea758_level0_row5\" class=\"row_heading level0 row5\" >ceiling_height</th>\n",
       "                        <td id=\"T_ea758_row5_col0\" class=\"data row5 col0\" >39.000000</td>\n",
       "            </tr>\n",
       "            <tr>\n",
       "                        <th id=\"T_ea758_level0_row6\" class=\"row_heading level0 row6\" >floors_total</th>\n",
       "                        <td id=\"T_ea758_row6_col0\" class=\"data row6 col0\" >0.000000</td>\n",
       "            </tr>\n",
       "            <tr>\n",
       "                        <th id=\"T_ea758_level0_row7\" class=\"row_heading level0 row7\" >living_area</th>\n",
       "                        <td id=\"T_ea758_row7_col0\" class=\"data row7 col0\" >8.000000</td>\n",
       "            </tr>\n",
       "            <tr>\n",
       "                        <th id=\"T_ea758_level0_row8\" class=\"row_heading level0 row8\" >floor</th>\n",
       "                        <td id=\"T_ea758_row8_col0\" class=\"data row8 col0\" >0.000000</td>\n",
       "            </tr>\n",
       "            <tr>\n",
       "                        <th id=\"T_ea758_level0_row9\" class=\"row_heading level0 row9\" >is_apartment</th>\n",
       "                        <td id=\"T_ea758_row9_col0\" class=\"data row9 col0\" >88.000000</td>\n",
       "            </tr>\n",
       "            <tr>\n",
       "                        <th id=\"T_ea758_level0_row10\" class=\"row_heading level0 row10\" >studio</th>\n",
       "                        <td id=\"T_ea758_row10_col0\" class=\"data row10 col0\" >0.000000</td>\n",
       "            </tr>\n",
       "            <tr>\n",
       "                        <th id=\"T_ea758_level0_row11\" class=\"row_heading level0 row11\" >open_plan</th>\n",
       "                        <td id=\"T_ea758_row11_col0\" class=\"data row11 col0\" >0.000000</td>\n",
       "            </tr>\n",
       "            <tr>\n",
       "                        <th id=\"T_ea758_level0_row12\" class=\"row_heading level0 row12\" >kitchen_area</th>\n",
       "                        <td id=\"T_ea758_row12_col0\" class=\"data row12 col0\" >10.000000</td>\n",
       "            </tr>\n",
       "            <tr>\n",
       "                        <th id=\"T_ea758_level0_row13\" class=\"row_heading level0 row13\" >balcony</th>\n",
       "                        <td id=\"T_ea758_row13_col0\" class=\"data row13 col0\" >49.000000</td>\n",
       "            </tr>\n",
       "            <tr>\n",
       "                        <th id=\"T_ea758_level0_row14\" class=\"row_heading level0 row14\" >locality_name</th>\n",
       "                        <td id=\"T_ea758_row14_col0\" class=\"data row14 col0\" >0.000000</td>\n",
       "            </tr>\n",
       "            <tr>\n",
       "                        <th id=\"T_ea758_level0_row15\" class=\"row_heading level0 row15\" >airports_nearest</th>\n",
       "                        <td id=\"T_ea758_row15_col0\" class=\"data row15 col0\" >23.000000</td>\n",
       "            </tr>\n",
       "            <tr>\n",
       "                        <th id=\"T_ea758_level0_row16\" class=\"row_heading level0 row16\" >cityCenters_nearest</th>\n",
       "                        <td id=\"T_ea758_row16_col0\" class=\"data row16 col0\" >23.000000</td>\n",
       "            </tr>\n",
       "            <tr>\n",
       "                        <th id=\"T_ea758_level0_row17\" class=\"row_heading level0 row17\" >parks_around3000</th>\n",
       "                        <td id=\"T_ea758_row17_col0\" class=\"data row17 col0\" >23.000000</td>\n",
       "            </tr>\n",
       "            <tr>\n",
       "                        <th id=\"T_ea758_level0_row18\" class=\"row_heading level0 row18\" >parks_nearest</th>\n",
       "                        <td id=\"T_ea758_row18_col0\" class=\"data row18 col0\" >66.000000</td>\n",
       "            </tr>\n",
       "            <tr>\n",
       "                        <th id=\"T_ea758_level0_row19\" class=\"row_heading level0 row19\" >ponds_around3000</th>\n",
       "                        <td id=\"T_ea758_row19_col0\" class=\"data row19 col0\" >23.000000</td>\n",
       "            </tr>\n",
       "            <tr>\n",
       "                        <th id=\"T_ea758_level0_row20\" class=\"row_heading level0 row20\" >ponds_nearest</th>\n",
       "                        <td id=\"T_ea758_row20_col0\" class=\"data row20 col0\" >62.000000</td>\n",
       "            </tr>\n",
       "            <tr>\n",
       "                        <th id=\"T_ea758_level0_row21\" class=\"row_heading level0 row21\" >days_exposition</th>\n",
       "                        <td id=\"T_ea758_row21_col0\" class=\"data row21 col0\" >13.000000</td>\n",
       "            </tr>\n",
       "    </tbody></table>"
      ],
      "text/plain": [
       "<pandas.io.formats.style.Styler at 0x7f7a0c7cebe0>"
      ]
     },
     "execution_count": 4,
     "metadata": {},
     "output_type": "execute_result"
    }
   ],
   "source": [
    "data.isna().sum()\n",
    "\n",
    "pd.DataFrame(round(data.isna().mean()*100,)).style.background_gradient('coolwarm')"
   ]
  },
  {
   "cell_type": "markdown",
   "metadata": {},
   "source": []
  },
  {
   "cell_type": "markdown",
   "metadata": {},
   "source": [
    "### Замена пропущенных значений"
   ]
  },
  {
   "cell_type": "markdown",
   "metadata": {},
   "source": [
    "В столбце с колличеством балконов пропущенные значения заменяем на ноль.\n",
    "Пропущенная высота потолков заполнена значением 2.50 .\n",
    "В столбце с количеством этажей исправила тип на целое число с помощью функции astype, пропущенные значения на значение этажа в строке.\n",
    "Количество дней публикации пропуски заменены на 0 и исправлен тип на целое число.Количество балконов исправляем тип на целое число.\n",
    "Решаем не удалять строки с пропусками, потому что явных дубликатов нет, проверили это с помощью функции duplicated().\n",
    "Для промежуточных уточнений своих действиq используем команду display. С помощью функции unique()) смотрим все возможные значения в столбцах с этажами."
   ]
  },
  {
   "cell_type": "code",
   "execution_count": 5,
   "metadata": {},
   "outputs": [
    {
     "data": {
      "text/plain": [
       "array([16, 11,  5, 14, 12, 26, 24, 27,  9,  6, 17, 25,  3, 23, 19, 18,  4,\n",
       "       22,  8,  2, 10,  7, 13, 15,  1, 20, 28, 36, 21, 35, 34, 60, 29, 33,\n",
       "       52, 37])"
      ]
     },
     "metadata": {},
     "output_type": "display_data"
    },
    {
     "data": {
      "text/plain": [
       "array([ 8,  1,  4,  9, 13,  5,  6, 22, 26,  7,  3,  2, 11, 15, 18, 10, 19,\n",
       "       16, 20, 27, 25, 17, 14, 12, 21, 28, 24, 23, 30, 29, 32, 33, 31])"
      ]
     },
     "execution_count": 5,
     "metadata": {},
     "output_type": "execute_result"
    }
   ],
   "source": [
    "\n",
    "#  замена пропущенных значений\n",
    "\n",
    "data['ceiling_height'] = data['ceiling_height'].fillna(2.50   )# где высота потолков Nan вводим 2.50\n",
    "data['balcony'] = data['balcony'].fillna(0)   # где пропущено кол-во балконов ставим 0\n",
    "data['living_area'] = data['living_area'].fillna(0)  # где пропущена жилая площадь ставим 0\n",
    "data['floors_total'] = data['floors_total'].fillna(data['floor']) # где пропущено кол-во этажей ставим этаж квартиры, чтобы не терять данные\n",
    "data['floors_total'] = data['floors_total'].astype('int') # меняем тип в кол-ве этажей в доме на целое значение\n",
    "data['balcony'] = data['balcony'].astype('int') # меняем тип в кол-ве этажей в доме на целое значение\n",
    "data['days_exposition'] = data['days_exposition'].fillna(0)  # где пропущена дни публикацц ставим 0\n",
    "data['cityCenters_nearest'] = data['cityCenters_nearest'].fillna(0)# где пропущено метры до центра ставим 0\n",
    "data.duplicated().sum()\n",
    "display (data['floors_total'].unique())\n",
    "(data['floor'].unique())"
   ]
  },
  {
   "cell_type": "markdown",
   "metadata": {},
   "source": []
  },
  {
   "cell_type": "markdown",
   "metadata": {},
   "source": [
    "### Сведение населенных пунктов к единому списку без дупликатов."
   ]
  },
  {
   "cell_type": "markdown",
   "metadata": {},
   "source": [
    "Избавляемся от неявных дубликатов в названии населенного пункта для дальнейшего расчета. Для этого с помощью команды replace заменяем букву ё на е , а все фразы перед наименованием населенного пункта заменяем на пробел. Таким образом у нас достигается список уникальных значений с населенными пунктами.\n",
    "Для проверки своих действий выводим эти уникальные значения на экран для вуализации своих действий. Заодно оценили частоту использования каждого населенного пункта функцией value_counts().\n",
    "Для ознакомления со столбцом расстояние до центра города (м) также выводим уникальные значения для убеждения, что нет отрицательных значений."
   ]
  },
  {
   "cell_type": "code",
   "execution_count": 6,
   "metadata": {},
   "outputs": [
    {
     "data": {
      "text/plain": [
       "array(['Санкт-Петербург', 'Шушары', 'Янино-1', 'Парголово', 'Мурино',\n",
       "       'Ломоносов', 'Сертолово', 'Петергоф', 'Пушкин', 'Кудрово',\n",
       "       'Коммунар', 'Колпино', 'Красный Бор', 'Гатчина', 'Федоровское',\n",
       "       'Выборг', 'Кронштадт', 'Кировск', 'Новое Девяткино',\n",
       "       'Металлострой', 'Лебяжье', 'Сиверский', 'Молодцово',\n",
       "       'Кузьмоловский', 'Новая Ропша', 'Павловск', 'Пикколово',\n",
       "       'Всеволожск', 'Волхов', 'Кингисепп', 'Приозерск', 'Сестрорецк',\n",
       "       'Куттузи', 'Аннино', 'Ефимовский', 'Плодовое', 'Заклинье',\n",
       "       'Торковичи', 'Первомайское', 'Красное Село', 'Понтонный',\n",
       "       'Сясьстрой', 'Старая', 'Лесколово', 'Новый Свет', 'Сланцы',\n",
       "       'Путилово', 'Ивангород', 'Шлиссельбург', 'Никольское',\n",
       "       'Зеленогорск', 'Сосновый Бор', 'Оржицы', 'Кальтино', 'Романовка',\n",
       "       'Бугры', 'Рощино', 'Кириши', 'Луга', 'Волосово', 'Отрадное',\n",
       "       'Павлово', 'Оредеж', 'Копорье', 'Молодежное', 'Тихвин', 'Победа',\n",
       "       'Нурма', 'Синявино', 'Тосно', 'Стрельна', 'Бокситогорск',\n",
       "       'Александровская', 'Лопухинка', 'Пикалево', 'Терволово',\n",
       "       'Советский', 'Подпорожье', 'Петровское', 'Токсово', 'Сельцо',\n",
       "       'Вырица', 'Кипень', 'Келози', 'Вартемяги', 'Тельмана',\n",
       "       'Севастьяново', 'Большая Ижора', nan, 'Агалатово', 'Новогорелово',\n",
       "       'Лесогорский', 'Лаголово', 'Цвелодубово', 'Рахья', 'Белогорка',\n",
       "       'Заводской', 'Новоселье', 'Большие Колпаны', 'Горбунки', 'Батово',\n",
       "       'Заневка', 'Иссад', 'Приморск', 'Мистолово', 'Новая Ладога',\n",
       "       'Зимитицы', 'Барышево', 'Разметелево', 'имени Свердлова', 'Пеники',\n",
       "       'Рябово', 'Пудомяги', 'Корнево', 'Низино', 'Бегуницы', 'Поляны',\n",
       "       'Мга', 'Елизаветино', 'Кузнечное', 'Колтуши', 'Запорожское',\n",
       "       'Гостилицы', 'Малое Карлино', 'Мичуринское', 'имени Морозова',\n",
       "       'Песочный', 'Сосново', 'Аро', 'Ильичево', 'Тайцы', 'Малое Верево',\n",
       "       'Извара', 'Вещево', 'Паша', 'Калитино', 'Ульяновка', 'Чудской Бор',\n",
       "       'Дубровка', 'Мины', 'Войсковицы', 'Коркино', 'Ропша',\n",
       "       'Приладожский', 'Щеглово', 'Гаврилово', 'Лодейное Поле',\n",
       "       'Рабитицы', 'Никольский', 'Кузьмолово', 'Малые Колпаны',\n",
       "       'Петро-Славянка', 'Назия', 'Репино', 'Углово', 'Старая Малукса',\n",
       "       'Меньково', 'Старые Бегуницы', 'Саперный', 'Семрино', 'Глажево',\n",
       "       'Кобринское', 'Гарболово', 'Юкки', 'Приветнинское', 'Мануйлово',\n",
       "       'Пчева', 'Цвылево', 'Мельниково', 'Пудость', 'Усть-Луга',\n",
       "       'Светогорск', 'Любань', 'Селезнево', 'Каменногорск', 'Кривко',\n",
       "       'Глебычево', 'Парицы', 'Жилпоселок', 'Войскорово', 'Стеклянный',\n",
       "       'Важины', 'Мыза-Ивановка', 'Русско-Высоцкое', 'Форносово',\n",
       "       'Старая Ладога', 'Житково', 'Виллози', 'Лампово', 'Шпаньково',\n",
       "       'Лаврики', 'Сумино', 'Возрождение', 'Старосиверская', 'Кикерино',\n",
       "       'Старое Хинколово', 'Пригородный', 'Торфяное', 'Будогощь',\n",
       "       'Суходолье', 'Красная Долина', 'Хапо-Ое', 'Дружная Горка',\n",
       "       'Лисий Нос', 'Яльгелево', 'Рождествено', 'Старополье', 'Левашово',\n",
       "       'Сяськелево', 'Камышовка', 'Лесная Поляна', 'Хязельки',\n",
       "       'Жилгородок', 'Ялгино', 'Новый Учхоз', 'Гончарово', 'Почап',\n",
       "       'Саперное', 'Платформа 69-й километр', 'Каложицы', 'Фалилеево',\n",
       "       'Пельгора', 'Торошковичи', 'Белоостров', 'Алексеевка',\n",
       "       'Серебрянский', 'Лукаши', 'Тарасово', 'Кингисеппский', 'Ушаки',\n",
       "       'Котлы', 'Сижно', 'Торосово', 'Форт Красная Горка', 'Новолисино',\n",
       "       'Громово', 'Глинка', 'Старая Пустошь', 'Коммунары', 'Починок',\n",
       "       'Вознесенье', 'Разбегаево', 'Гладкое', 'Тесово-4', 'Бор',\n",
       "       'Коробицыно', 'Большая Вруда', 'Курковицы', 'Кобралово',\n",
       "       'Суоранда', 'Кондратьево', 'Счастье', 'Реброво', 'Тойворово',\n",
       "       'Семиозерье', 'Лесное', 'Совхозный', 'Ленинское', 'Суйда',\n",
       "       'Нижние Осельки', 'Свирь', 'Перово', 'Высоцк', 'Шум', 'Котельский',\n",
       "       'Лужайка', 'Большая Пустомержа', 'Красносельское', 'Вахнова Кара',\n",
       "       'Пижма', 'Кивеннапа Север', 'Ромашки', 'Каськово', 'Куровицы',\n",
       "       'Плоское', 'Кирпичное', 'Ям-Тесово', 'Раздолье', 'Терпилицы',\n",
       "       'Шугозеро', 'Ваганово', 'Пушное', 'Садко', 'Усть-Ижора',\n",
       "       'Выскатка', 'Свирьстрой', 'Кисельня', 'Трубников Бор',\n",
       "       'Высокоключевой', 'Пансионат Зеленый Бор', 'Ненимяки',\n",
       "       'Снегиревка', 'Рапполово', 'Пустынка', 'Большой Сабск', 'Русско',\n",
       "       'Лупполово', 'Большое Рейзино', 'Малая Романовка', 'Дружноселье',\n",
       "       'Пчевжа', 'Володарское', 'Нижняя', 'Тихковицы', 'Борисова Грива',\n",
       "       'Дзержинского'], dtype=object)"
      ]
     },
     "metadata": {},
     "output_type": "display_data"
    },
    {
     "data": {
      "text/plain": [
       "Санкт-Петербург    15721\n",
       "Мурино               590\n",
       "Кудрово              472\n",
       "Шушары               440\n",
       "Всеволожск           398\n",
       "                   ...  \n",
       "Кирпичное              1\n",
       "Борисова Грива         1\n",
       "Садко                  1\n",
       "Коммунары              1\n",
       "Ялгино                 1\n",
       "Name: locality_name, Length: 305, dtype: int64"
      ]
     },
     "execution_count": 6,
     "metadata": {},
     "output_type": "execute_result"
    }
   ],
   "source": [
    "# избавляемся от неявных дубликатов в названии населенного пункта\n",
    "\n",
    "data['locality_name'].value_counts() # возвр. уникальные зн и кол-во их упоминаний\n",
    "data['locality_name'] = (\n",
    "    data['locality_name']\n",
    "    .str.replace('ё', 'е')\n",
    "    .replace(['поселок городского типа ', 'деревня ', 'село ', 'садовое товарищество ', \n",
    "    'городской поселок ', 'поселок ', 'городской ', 'городского типа ', \n",
    "    'садоводческое некоммерческое товарищество ', 'при железнодорожной станции ', 'станции ', 'коттеджный '], '',regex=True)\n",
    ") \n",
    "display (data['locality_name'].unique())\n",
    "data['locality_name'].value_counts()"
   ]
  },
  {
   "cell_type": "markdown",
   "metadata": {},
   "source": []
  },
  {
   "cell_type": "code",
   "execution_count": 7,
   "metadata": {},
   "outputs": [
    {
     "data": {
      "text/plain": [
       "array([16028., 18603., 13933., ..., 27977.,  7262.,  6263.])"
      ]
     },
     "execution_count": 7,
     "metadata": {},
     "output_type": "execute_result"
    }
   ],
   "source": [
    "data['cityCenters_nearest'].unique() #вывод уникальных зн"
   ]
  },
  {
   "cell_type": "markdown",
   "metadata": {},
   "source": []
  },
  {
   "cell_type": "markdown",
   "metadata": {},
   "source": [
    "Снова просматриваем информацию с исправленными данными."
   ]
  },
  {
   "cell_type": "code",
   "execution_count": 8,
   "metadata": {},
   "outputs": [
    {
     "name": "stdout",
     "output_type": "stream",
     "text": [
      "<class 'pandas.core.frame.DataFrame'>\n",
      "RangeIndex: 23699 entries, 0 to 23698\n",
      "Data columns (total 22 columns):\n",
      " #   Column                Non-Null Count  Dtype  \n",
      "---  ------                --------------  -----  \n",
      " 0   total_images          23699 non-null  int64  \n",
      " 1   last_price            23699 non-null  float64\n",
      " 2   total_area            23699 non-null  float64\n",
      " 3   first_day_exposition  23699 non-null  object \n",
      " 4   rooms                 23699 non-null  int64  \n",
      " 5   ceiling_height        23699 non-null  float64\n",
      " 6   floors_total          23699 non-null  int64  \n",
      " 7   living_area           23699 non-null  float64\n",
      " 8   floor                 23699 non-null  int64  \n",
      " 9   is_apartment          2775 non-null   object \n",
      " 10  studio                23699 non-null  bool   \n",
      " 11  open_plan             23699 non-null  bool   \n",
      " 12  kitchen_area          21421 non-null  float64\n",
      " 13  balcony               23699 non-null  int64  \n",
      " 14  locality_name         23650 non-null  object \n",
      " 15  airports_nearest      18157 non-null  float64\n",
      " 16  cityCenters_nearest   23699 non-null  float64\n",
      " 17  parks_around3000      18181 non-null  float64\n",
      " 18  parks_nearest         8079 non-null   float64\n",
      " 19  ponds_around3000      18181 non-null  float64\n",
      " 20  ponds_nearest         9110 non-null   float64\n",
      " 21  days_exposition       23699 non-null  float64\n",
      "dtypes: bool(2), float64(12), int64(5), object(3)\n",
      "memory usage: 3.7+ MB\n"
     ]
    }
   ],
   "source": [
    "data.info()"
   ]
  },
  {
   "cell_type": "markdown",
   "metadata": {},
   "source": []
  },
  {
   "cell_type": "markdown",
   "metadata": {},
   "source": []
  },
  {
   "cell_type": "markdown",
   "metadata": {},
   "source": [
    "### Выводы:\n",
    "\n",
    "Значения Nan были обнаружены в следующих столбцах: высота потолков, всего этажей в доме, апартаменты, жилая площадь в квадратных метрах, площадь кухни и других столбцах с цисловыми значениями. На эти пропуски влияет человеческий фактор: невнимание при вводе информации или ее отсутствие.\n",
    "В столбцах количество дней публикации, количество этажей и балконов был изменен тип на целое число для возможности подсчета и анализа в дальнейших вычислениях.\n",
    "В столбце с названием населенного пункта избавились от неявных дубликатов. Это позволит нам анализировать данные более достоверно."
   ]
  },
  {
   "cell_type": "markdown",
   "metadata": {
    "id": "QCcvyY6YAwb-"
   },
   "source": [
    "## Расчеты и добавление результатов в таблицу\n"
   ]
  },
  {
   "cell_type": "markdown",
   "metadata": {},
   "source": [
    "### Добавляем новый столбец цена одного квад. метра\n",
    "\n",
    "\n",
    "Цена одного кв. метра это отношение цены обьекта к общей площади. Используем блок try/except для обработки исключений, в частности деления на ноль. Это дополнительня мера, хотя ранее в столбце с обшей площадью нуля и пропущенных значений не обнаружили. Для наглядности результата используем функцию round с округлением до десятых.\n"
   ]
  },
  {
   "cell_type": "code",
   "execution_count": 9,
   "metadata": {
    "id": "Z8eJek3IAwb-"
   },
   "outputs": [
    {
     "data": {
      "text/plain": [
       "0     120370.37\n",
       "1      82920.79\n",
       "2      92785.71\n",
       "3     408176.10\n",
       "4     100000.00\n",
       "5      95065.79\n",
       "6      99195.71\n",
       "7     110544.69\n",
       "8      87454.76\n",
       "9      88524.59\n",
       "10    127525.25\n",
       "11     75000.00\n",
       "12     72037.04\n",
       "13     82943.93\n",
       "14    122222.22\n",
       "15    119230.77\n",
       "16     81707.32\n",
       "17    116111.11\n",
       "18    104838.71\n",
       "19    117355.37\n",
       "20     76500.00\n",
       "21    101265.82\n",
       "22     86206.90\n",
       "23     92187.50\n",
       "24     66872.43\n",
       "Name: price_m2, dtype: float64"
      ]
     },
     "metadata": {},
     "output_type": "display_data"
    }
   ],
   "source": [
    "#добавляем новые столбцы\n",
    "\n",
    "#цена одного квадратного метра\n",
    "\n",
    "try:\n",
    "    data['price_m2'] = data['last_price']/data['total_area']\n",
    "except:\n",
    "    data['price_m2'] = 0\n",
    "data['price_m2'] =round(data['price_m2'],2)\n",
    "display (data['price_m2'].head(25))\n",
    "\n"
   ]
  },
  {
   "cell_type": "markdown",
   "metadata": {},
   "source": [
    "### Добавляем столбцы:\n",
    "\n",
    "день недели публикации -  'weekday_exposition',  месяц публикации -   'month_exposition' и год публикации - 'year_exposition', используя данные в столбце 'first_day_exposition' . Для проверки результата выводим первые 25 строк новых столбцов. Все результаты правильные."
   ]
  },
  {
   "cell_type": "code",
   "execution_count": 10,
   "metadata": {},
   "outputs": [
    {
     "data": {
      "text/plain": [
       "0      3\n",
       "1     12\n",
       "2      8\n",
       "3      7\n",
       "4      6\n",
       "5      9\n",
       "6     11\n",
       "7      4\n",
       "8      5\n",
       "9      2\n",
       "10    11\n",
       "11     8\n",
       "12     6\n",
       "13     7\n",
       "14     6\n",
       "15    11\n",
       "16    11\n",
       "17     9\n",
       "18     1\n",
       "19     1\n",
       "20     9\n",
       "21     3\n",
       "22     4\n",
       "23    10\n",
       "24    10\n",
       "Name: month_exposition, dtype: int64"
      ]
     },
     "metadata": {},
     "output_type": "display_data"
    },
    {
     "data": {
      "text/plain": [
       "0     3\n",
       "1     1\n",
       "2     3\n",
       "3     4\n",
       "4     1\n",
       "5     0\n",
       "6     3\n",
       "7     3\n",
       "8     2\n",
       "9     6\n",
       "10    3\n",
       "11    0\n",
       "12    3\n",
       "13    5\n",
       "14    3\n",
       "15    5\n",
       "16    3\n",
       "17    4\n",
       "18    4\n",
       "19    2\n",
       "20    3\n",
       "21    2\n",
       "22    0\n",
       "23    5\n",
       "24    5\n",
       "Name: weekday_exposition, dtype: int64"
      ]
     },
     "metadata": {},
     "output_type": "display_data"
    },
    {
     "data": {
      "text/plain": [
       "0     2019\n",
       "1     2018\n",
       "2     2015\n",
       "3     2015\n",
       "4     2018\n",
       "5     2018\n",
       "6     2017\n",
       "7     2019\n",
       "8     2018\n",
       "9     2017\n",
       "10    2017\n",
       "11    2018\n",
       "12    2016\n",
       "13    2017\n",
       "14    2016\n",
       "15    2017\n",
       "16    2017\n",
       "17    2016\n",
       "18    2017\n",
       "19    2019\n",
       "20    2017\n",
       "21    2018\n",
       "22    2017\n",
       "23    2016\n",
       "24    2015\n",
       "Name: year_exposition, dtype: int64"
      ]
     },
     "metadata": {},
     "output_type": "display_data"
    }
   ],
   "source": [
    "# добавляем столбцы день недели публикации  месяц публикации  и год публикации  first_day_exposition \n",
    "\n",
    "data['month_exposition'] = pd.DatetimeIndex(data['first_day_exposition']).month\n",
    "display (data['month_exposition'].head(25))\n",
    "data['weekday_exposition'] = pd.DatetimeIndex(data['first_day_exposition']).weekday\n",
    "display (data['weekday_exposition'].head(25))\n",
    "data['year_exposition'] = pd.DatetimeIndex(data['first_day_exposition']).year\n",
    "display (data['year_exposition'].head(25))"
   ]
  },
  {
   "cell_type": "markdown",
   "metadata": {},
   "source": [
    "<div class=\"alert alert-block alert-success\">✔️\n",
    "    \n",
    "\n",
    "__Комментарий от ревьюера №3__\n",
    "\n",
    "Совет на будущие работы `(в этом проекте этот метод не нужен)`: обычно в датафреймах содержатся данные за несколько лет. Важно выбрать корректный метод для вычленения месяца, иначе месяца разных годов могут стать одним месяцем. Обрати внимание на метод astype('datetime64[M]'). Для его использования не нужно обращаться к pd.DatetimeIndex. \n",
    "    \n",
    "Вот хорошая статья на этот счёт: \n",
    "    \n",
    "     https://pandas.pydata.org/docs/reference/api/pandas.DataFrame.astype.html\n",
    "    \n",
    "    и\n",
    "    \n",
    "    https://www.sharpsightlabs.com/blog/pandas-astype/\n",
    "</div>"
   ]
  },
  {
   "cell_type": "markdown",
   "metadata": {},
   "source": [
    "### Добавляем столбец тип этажа квартиры\n",
    "\n",
    "(значения — «первый», «последний», «другой»). Используем условный оператор в нашей функции floor_group, в качестве параметров передаем строку. Выводим для проверки 25 строк. Функция сработала корректно."
   ]
  },
  {
   "cell_type": "code",
   "execution_count": 11,
   "metadata": {},
   "outputs": [
    {
     "data": {
      "text/plain": [
       "0        другой\n",
       "1        первый\n",
       "2        другой\n",
       "3        другой\n",
       "4        другой\n",
       "5        другой\n",
       "6        другой\n",
       "7        другой\n",
       "8        другой\n",
       "9        другой\n",
       "10       другой\n",
       "11       другой\n",
       "12    последний\n",
       "13    последний\n",
       "14       первый\n",
       "15       другой\n",
       "16       первый\n",
       "17       другой\n",
       "18       другой\n",
       "19       другой\n",
       "20       другой\n",
       "21       другой\n",
       "22       другой\n",
       "23    последний\n",
       "24       первый\n",
       "Name: floor_category, dtype: object"
      ]
     },
     "metadata": {},
     "output_type": "display_data"
    }
   ],
   "source": [
    "def floor_group(row):\n",
    "    floor = row['floor']\n",
    "    floors_total = row['floors_total']\n",
    "    if floor==1:\n",
    "        return 'первый'\n",
    "    if floor==floors_total:\n",
    "        return 'последний'\n",
    "    return 'другой'\n",
    "data['floor_category'] = data.apply(floor_group,axis=1)\n",
    "display (data['floor_category'].head(25))"
   ]
  },
  {
   "cell_type": "markdown",
   "metadata": {},
   "source": []
  },
  {
   "cell_type": "markdown",
   "metadata": {},
   "source": [
    "### Добавляем столбец - расстояние до центра города \n",
    "\n",
    "В километрах используя столбец cityCenters_nearest ( он в метрах) вычисляем тоже расстояние в других единицах измерения. Для наглядности результата выводим 25 первых значений в формате до 2 значений после запятой, используя функцию округления round."
   ]
  },
  {
   "cell_type": "code",
   "execution_count": 12,
   "metadata": {},
   "outputs": [
    {
     "data": {
      "text/plain": [
       "0     16.0\n",
       "1     19.0\n",
       "2     14.0\n",
       "3      7.0\n",
       "4      8.0\n",
       "5      0.0\n",
       "6     19.0\n",
       "7     12.0\n",
       "8      0.0\n",
       "9     15.0\n",
       "10    14.0\n",
       "11    52.0\n",
       "12     0.0\n",
       "13    33.0\n",
       "14    31.0\n",
       "15    14.0\n",
       "16    11.0\n",
       "17    15.0\n",
       "18    11.0\n",
       "19    13.0\n",
       "20    19.0\n",
       "21    10.0\n",
       "22     0.0\n",
       "23    14.0\n",
       "24     2.0\n",
       "Name: cityCenters_neares_km, dtype: float64"
      ]
     },
     "metadata": {},
     "output_type": "display_data"
    }
   ],
   "source": [
    "# добавляем столбец - расстояние до центра города в километрах из cityCenters_nearest в метрах\n",
    "data['cityCenters_neares_km'] = data['cityCenters_nearest']/1000\n",
    "data['cityCenters_neares_km'] = round(data['cityCenters_neares_km'],0)\n",
    "display (data['cityCenters_neares_km'].head(25))\n",
    "\n"
   ]
  },
  {
   "cell_type": "markdown",
   "metadata": {},
   "source": [
    "## Проводим исследовательский анализ данных\n"
   ]
  },
  {
   "cell_type": "markdown",
   "metadata": {},
   "source": [
    "Для визуализации данных в Python чаще всего используют библиотеки Matplotlib"
   ]
  },
  {
   "cell_type": "code",
   "execution_count": 13,
   "metadata": {},
   "outputs": [
    {
     "data": {
      "text/plain": [
       "<AxesSubplot:>"
      ]
     },
     "execution_count": 13,
     "metadata": {},
     "output_type": "execute_result"
    },
    {
     "data": {
      "image/png": "[encoded data removed]",
      "text/plain": [
       "<Figure size 432x288 with 1 Axes>"
      ]
     },
     "metadata": {
      "needs_background": "light"
     },
     "output_type": "display_data"
    }
   ],
   "source": [
    "import matplotlib.pyplot as plt\n",
    "plt.ylim(0, 900)\n",
    "plt.xlim(0, 22)\n",
    "data.boxplot()"
   ]
  },
  {
   "cell_type": "markdown",
   "metadata": {},
   "source": [
    "### Общая площадь\n"
   ]
  },
  {
   "cell_type": "markdown",
   "metadata": {},
   "source": [
    "Строим гистограму, ящик с усами и смотрим аномальные выбросы."
   ]
  },
  {
   "cell_type": "code",
   "execution_count": 14,
   "metadata": {
    "scrolled": false
   },
   "outputs": [
    {
     "data": {
      "image/png": "[encoded data removed]",
      "text/plain": [
       "<Figure size 432x288 with 1 Axes>"
      ]
     },
     "metadata": {
      "needs_background": "light"
     },
     "output_type": "display_data"
    },
    {
     "data": {
      "text/plain": [
       "count    23699.000000\n",
       "mean        60.348651\n",
       "std         35.654083\n",
       "min         12.000000\n",
       "25%         40.000000\n",
       "50%         52.000000\n",
       "75%         69.900000\n",
       "max        900.000000\n",
       "Name: total_area, dtype: float64"
      ]
     },
     "metadata": {},
     "output_type": "display_data"
    },
    {
     "data": {
      "text/html": [
       "<div>\n",
       "<style scoped>\n",
       "    .dataframe tbody tr th:only-of-type {\n",
       "        vertical-align: middle;\n",
       "    }\n",
       "\n",
       "    .dataframe tbody tr th {\n",
       "        vertical-align: top;\n",
       "    }\n",
       "\n",
       "    .dataframe thead th {\n",
       "        text-align: right;\n",
       "    }\n",
       "</style>\n",
       "<table border=\"1\" class=\"dataframe\">\n",
       "  <thead>\n",
       "    <tr style=\"text-align: right;\">\n",
       "      <th></th>\n",
       "      <th>total_images</th>\n",
       "      <th>last_price</th>\n",
       "      <th>total_area</th>\n",
       "      <th>first_day_exposition</th>\n",
       "      <th>rooms</th>\n",
       "      <th>ceiling_height</th>\n",
       "      <th>floors_total</th>\n",
       "      <th>living_area</th>\n",
       "      <th>floor</th>\n",
       "      <th>is_apartment</th>\n",
       "      <th>...</th>\n",
       "      <th>parks_nearest</th>\n",
       "      <th>ponds_around3000</th>\n",
       "      <th>ponds_nearest</th>\n",
       "      <th>days_exposition</th>\n",
       "      <th>price_m2</th>\n",
       "      <th>month_exposition</th>\n",
       "      <th>weekday_exposition</th>\n",
       "      <th>year_exposition</th>\n",
       "      <th>floor_category</th>\n",
       "      <th>cityCenters_neares_km</th>\n",
       "    </tr>\n",
       "  </thead>\n",
       "  <tbody>\n",
       "    <tr>\n",
       "      <th>3117</th>\n",
       "      <td>19</td>\n",
       "      <td>140000000.0</td>\n",
       "      <td>631.0</td>\n",
       "      <td>2019-03-30T00:00:00</td>\n",
       "      <td>7</td>\n",
       "      <td>2.50</td>\n",
       "      <td>5</td>\n",
       "      <td>0.0</td>\n",
       "      <td>5</td>\n",
       "      <td>NaN</td>\n",
       "      <td>...</td>\n",
       "      <td>NaN</td>\n",
       "      <td>2.0</td>\n",
       "      <td>210.0</td>\n",
       "      <td>0.0</td>\n",
       "      <td>221870.05</td>\n",
       "      <td>3</td>\n",
       "      <td>5</td>\n",
       "      <td>2019</td>\n",
       "      <td>последний</td>\n",
       "      <td>5.0</td>\n",
       "    </tr>\n",
       "    <tr>\n",
       "      <th>4237</th>\n",
       "      <td>1</td>\n",
       "      <td>50000000.0</td>\n",
       "      <td>517.0</td>\n",
       "      <td>2017-10-14T00:00:00</td>\n",
       "      <td>7</td>\n",
       "      <td>2.50</td>\n",
       "      <td>4</td>\n",
       "      <td>332.0</td>\n",
       "      <td>3</td>\n",
       "      <td>NaN</td>\n",
       "      <td>...</td>\n",
       "      <td>477.0</td>\n",
       "      <td>2.0</td>\n",
       "      <td>540.0</td>\n",
       "      <td>0.0</td>\n",
       "      <td>96711.80</td>\n",
       "      <td>10</td>\n",
       "      <td>5</td>\n",
       "      <td>2017</td>\n",
       "      <td>другой</td>\n",
       "      <td>2.0</td>\n",
       "    </tr>\n",
       "    <tr>\n",
       "      <th>5358</th>\n",
       "      <td>20</td>\n",
       "      <td>65000000.0</td>\n",
       "      <td>590.0</td>\n",
       "      <td>2019-02-14T00:00:00</td>\n",
       "      <td>15</td>\n",
       "      <td>3.50</td>\n",
       "      <td>6</td>\n",
       "      <td>409.0</td>\n",
       "      <td>3</td>\n",
       "      <td>NaN</td>\n",
       "      <td>...</td>\n",
       "      <td>767.0</td>\n",
       "      <td>0.0</td>\n",
       "      <td>NaN</td>\n",
       "      <td>14.0</td>\n",
       "      <td>110169.49</td>\n",
       "      <td>2</td>\n",
       "      <td>3</td>\n",
       "      <td>2019</td>\n",
       "      <td>другой</td>\n",
       "      <td>5.0</td>\n",
       "    </tr>\n",
       "    <tr>\n",
       "      <th>8018</th>\n",
       "      <td>20</td>\n",
       "      <td>84000000.0</td>\n",
       "      <td>507.0</td>\n",
       "      <td>2015-12-17T00:00:00</td>\n",
       "      <td>5</td>\n",
       "      <td>4.45</td>\n",
       "      <td>7</td>\n",
       "      <td>301.5</td>\n",
       "      <td>7</td>\n",
       "      <td>True</td>\n",
       "      <td>...</td>\n",
       "      <td>110.0</td>\n",
       "      <td>0.0</td>\n",
       "      <td>NaN</td>\n",
       "      <td>1078.0</td>\n",
       "      <td>165680.47</td>\n",
       "      <td>12</td>\n",
       "      <td>3</td>\n",
       "      <td>2015</td>\n",
       "      <td>последний</td>\n",
       "      <td>6.0</td>\n",
       "    </tr>\n",
       "    <tr>\n",
       "      <th>12859</th>\n",
       "      <td>20</td>\n",
       "      <td>140000000.0</td>\n",
       "      <td>631.2</td>\n",
       "      <td>2019-04-09T00:00:00</td>\n",
       "      <td>7</td>\n",
       "      <td>3.90</td>\n",
       "      <td>4</td>\n",
       "      <td>322.3</td>\n",
       "      <td>4</td>\n",
       "      <td>NaN</td>\n",
       "      <td>...</td>\n",
       "      <td>NaN</td>\n",
       "      <td>2.0</td>\n",
       "      <td>210.0</td>\n",
       "      <td>0.0</td>\n",
       "      <td>221799.75</td>\n",
       "      <td>4</td>\n",
       "      <td>1</td>\n",
       "      <td>2019</td>\n",
       "      <td>последний</td>\n",
       "      <td>5.0</td>\n",
       "    </tr>\n",
       "    <tr>\n",
       "      <th>15651</th>\n",
       "      <td>20</td>\n",
       "      <td>300000000.0</td>\n",
       "      <td>618.0</td>\n",
       "      <td>2017-12-18T00:00:00</td>\n",
       "      <td>7</td>\n",
       "      <td>3.40</td>\n",
       "      <td>7</td>\n",
       "      <td>258.0</td>\n",
       "      <td>5</td>\n",
       "      <td>NaN</td>\n",
       "      <td>...</td>\n",
       "      <td>NaN</td>\n",
       "      <td>2.0</td>\n",
       "      <td>198.0</td>\n",
       "      <td>111.0</td>\n",
       "      <td>485436.89</td>\n",
       "      <td>12</td>\n",
       "      <td>0</td>\n",
       "      <td>2017</td>\n",
       "      <td>другой</td>\n",
       "      <td>5.0</td>\n",
       "    </tr>\n",
       "    <tr>\n",
       "      <th>19540</th>\n",
       "      <td>8</td>\n",
       "      <td>420000000.0</td>\n",
       "      <td>900.0</td>\n",
       "      <td>2017-12-06T00:00:00</td>\n",
       "      <td>12</td>\n",
       "      <td>2.80</td>\n",
       "      <td>25</td>\n",
       "      <td>409.7</td>\n",
       "      <td>25</td>\n",
       "      <td>NaN</td>\n",
       "      <td>...</td>\n",
       "      <td>NaN</td>\n",
       "      <td>2.0</td>\n",
       "      <td>318.0</td>\n",
       "      <td>106.0</td>\n",
       "      <td>466666.67</td>\n",
       "      <td>12</td>\n",
       "      <td>2</td>\n",
       "      <td>2017</td>\n",
       "      <td>последний</td>\n",
       "      <td>8.0</td>\n",
       "    </tr>\n",
       "  </tbody>\n",
       "</table>\n",
       "<p>7 rows × 28 columns</p>\n",
       "</div>"
      ],
      "text/plain": [
       "       total_images   last_price  total_area first_day_exposition  rooms  \\\n",
       "3117             19  140000000.0       631.0  2019-03-30T00:00:00      7   \n",
       "4237              1   50000000.0       517.0  2017-10-14T00:00:00      7   \n",
       "5358             20   65000000.0       590.0  2019-02-14T00:00:00     15   \n",
       "8018             20   84000000.0       507.0  2015-12-17T00:00:00      5   \n",
       "12859            20  140000000.0       631.2  2019-04-09T00:00:00      7   \n",
       "15651            20  300000000.0       618.0  2017-12-18T00:00:00      7   \n",
       "19540             8  420000000.0       900.0  2017-12-06T00:00:00     12   \n",
       "\n",
       "       ceiling_height  floors_total  living_area  floor is_apartment  ...  \\\n",
       "3117             2.50             5          0.0      5          NaN  ...   \n",
       "4237             2.50             4        332.0      3          NaN  ...   \n",
       "5358             3.50             6        409.0      3          NaN  ...   \n",
       "8018             4.45             7        301.5      7         True  ...   \n",
       "12859            3.90             4        322.3      4          NaN  ...   \n",
       "15651            3.40             7        258.0      5          NaN  ...   \n",
       "19540            2.80            25        409.7     25          NaN  ...   \n",
       "\n",
       "       parks_nearest  ponds_around3000  ponds_nearest  days_exposition  \\\n",
       "3117             NaN               2.0          210.0              0.0   \n",
       "4237           477.0               2.0          540.0              0.0   \n",
       "5358           767.0               0.0            NaN             14.0   \n",
       "8018           110.0               0.0            NaN           1078.0   \n",
       "12859            NaN               2.0          210.0              0.0   \n",
       "15651            NaN               2.0          198.0            111.0   \n",
       "19540            NaN               2.0          318.0            106.0   \n",
       "\n",
       "        price_m2  month_exposition  weekday_exposition  year_exposition  \\\n",
       "3117   221870.05                 3                   5             2019   \n",
       "4237    96711.80                10                   5             2017   \n",
       "5358   110169.49                 2                   3             2019   \n",
       "8018   165680.47                12                   3             2015   \n",
       "12859  221799.75                 4                   1             2019   \n",
       "15651  485436.89                12                   0             2017   \n",
       "19540  466666.67                12                   2             2017   \n",
       "\n",
       "       floor_category  cityCenters_neares_km  \n",
       "3117        последний                    5.0  \n",
       "4237           другой                    2.0  \n",
       "5358           другой                    5.0  \n",
       "8018        последний                    6.0  \n",
       "12859       последний                    5.0  \n",
       "15651          другой                    5.0  \n",
       "19540       последний                    8.0  \n",
       "\n",
       "[7 rows x 28 columns]"
      ]
     },
     "execution_count": 14,
     "metadata": {},
     "output_type": "execute_result"
    },
    {
     "data": {
      "image/png": "[encoded data removed]",
      "text/plain": [
       "<Figure size 720x432 with 1 Axes>"
      ]
     },
     "metadata": {
      "needs_background": "light"
     },
     "output_type": "display_data"
    }
   ],
   "source": [
    "data['total_area'].hist(bins = 50, range = (0,200))\n",
    "plt.show()\n",
    "data['total_area'].plot(kind='box', figsize=(10, 6))\n",
    "display (data['total_area'].describe())\n",
    "data[data['total_area']>500]"
   ]
  },
  {
   "cell_type": "markdown",
   "metadata": {},
   "source": [
    "В столбце общая площадь есть выброс со значением общей площади 900 кв. м. Если проанализироватьвсю строку, то данные в этой строке также имеют анамальные значения. Это кол-во этажей и жилая площадь. Решаем избавиться от этой строки, удалив ее."
   ]
  },
  {
   "cell_type": "code",
   "execution_count": 15,
   "metadata": {},
   "outputs": [
    {
     "data": {
      "text/plain": [
       "<AxesSubplot:>"
      ]
     },
     "execution_count": 15,
     "metadata": {},
     "output_type": "execute_result"
    },
    {
     "data": {
      "image/png": "[encoded data removed]",
      "text/plain": [
       "<Figure size 720x432 with 1 Axes>"
      ]
     },
     "metadata": {
      "needs_background": "light"
     },
     "output_type": "display_data"
    }
   ],
   "source": [
    "data.drop(data.loc[data['total_area'] >899].index, inplace=True)\n",
    "\n",
    "data['total_area'].plot(kind='box', figsize=(10, 6))"
   ]
  },
  {
   "cell_type": "markdown",
   "metadata": {},
   "source": [
    "### Жилая площадь"
   ]
  },
  {
   "cell_type": "code",
   "execution_count": 16,
   "metadata": {},
   "outputs": [
    {
     "data": {
      "image/png": "[encoded data removed]",
      "text/plain": [
       "<Figure size 432x288 with 1 Axes>"
      ]
     },
     "metadata": {
      "needs_background": "light"
     },
     "output_type": "display_data"
    },
    {
     "data": {
      "text/plain": [
       "count    23698.000000\n",
       "mean        31.674979\n",
       "std         22.979318\n",
       "min          0.000000\n",
       "25%         17.800000\n",
       "50%         29.000000\n",
       "75%         41.100000\n",
       "max        409.000000\n",
       "Name: living_area, dtype: float64"
      ]
     },
     "metadata": {},
     "output_type": "display_data"
    },
    {
     "data": {
      "text/html": [
       "<div>\n",
       "<style scoped>\n",
       "    .dataframe tbody tr th:only-of-type {\n",
       "        vertical-align: middle;\n",
       "    }\n",
       "\n",
       "    .dataframe tbody tr th {\n",
       "        vertical-align: top;\n",
       "    }\n",
       "\n",
       "    .dataframe thead th {\n",
       "        text-align: right;\n",
       "    }\n",
       "</style>\n",
       "<table border=\"1\" class=\"dataframe\">\n",
       "  <thead>\n",
       "    <tr style=\"text-align: right;\">\n",
       "      <th></th>\n",
       "      <th>total_images</th>\n",
       "      <th>last_price</th>\n",
       "      <th>total_area</th>\n",
       "      <th>first_day_exposition</th>\n",
       "      <th>rooms</th>\n",
       "      <th>ceiling_height</th>\n",
       "      <th>floors_total</th>\n",
       "      <th>living_area</th>\n",
       "      <th>floor</th>\n",
       "      <th>is_apartment</th>\n",
       "      <th>...</th>\n",
       "      <th>parks_nearest</th>\n",
       "      <th>ponds_around3000</th>\n",
       "      <th>ponds_nearest</th>\n",
       "      <th>days_exposition</th>\n",
       "      <th>price_m2</th>\n",
       "      <th>month_exposition</th>\n",
       "      <th>weekday_exposition</th>\n",
       "      <th>year_exposition</th>\n",
       "      <th>floor_category</th>\n",
       "      <th>cityCenters_neares_km</th>\n",
       "    </tr>\n",
       "  </thead>\n",
       "  <tbody>\n",
       "    <tr>\n",
       "      <th>660</th>\n",
       "      <td>3</td>\n",
       "      <td>49950000.0</td>\n",
       "      <td>483.9</td>\n",
       "      <td>2017-10-04T00:00:00</td>\n",
       "      <td>7</td>\n",
       "      <td>3.20</td>\n",
       "      <td>6</td>\n",
       "      <td>312.5</td>\n",
       "      <td>4</td>\n",
       "      <td>NaN</td>\n",
       "      <td>...</td>\n",
       "      <td>461.0</td>\n",
       "      <td>3.0</td>\n",
       "      <td>22.0</td>\n",
       "      <td>391.0</td>\n",
       "      <td>103223.81</td>\n",
       "      <td>10</td>\n",
       "      <td>2</td>\n",
       "      <td>2017</td>\n",
       "      <td>другой</td>\n",
       "      <td>1.0</td>\n",
       "    </tr>\n",
       "    <tr>\n",
       "      <th>4237</th>\n",
       "      <td>1</td>\n",
       "      <td>50000000.0</td>\n",
       "      <td>517.0</td>\n",
       "      <td>2017-10-14T00:00:00</td>\n",
       "      <td>7</td>\n",
       "      <td>2.50</td>\n",
       "      <td>4</td>\n",
       "      <td>332.0</td>\n",
       "      <td>3</td>\n",
       "      <td>NaN</td>\n",
       "      <td>...</td>\n",
       "      <td>477.0</td>\n",
       "      <td>2.0</td>\n",
       "      <td>540.0</td>\n",
       "      <td>0.0</td>\n",
       "      <td>96711.80</td>\n",
       "      <td>10</td>\n",
       "      <td>5</td>\n",
       "      <td>2017</td>\n",
       "      <td>другой</td>\n",
       "      <td>2.0</td>\n",
       "    </tr>\n",
       "    <tr>\n",
       "      <th>5358</th>\n",
       "      <td>20</td>\n",
       "      <td>65000000.0</td>\n",
       "      <td>590.0</td>\n",
       "      <td>2019-02-14T00:00:00</td>\n",
       "      <td>15</td>\n",
       "      <td>3.50</td>\n",
       "      <td>6</td>\n",
       "      <td>409.0</td>\n",
       "      <td>3</td>\n",
       "      <td>NaN</td>\n",
       "      <td>...</td>\n",
       "      <td>767.0</td>\n",
       "      <td>0.0</td>\n",
       "      <td>NaN</td>\n",
       "      <td>14.0</td>\n",
       "      <td>110169.49</td>\n",
       "      <td>2</td>\n",
       "      <td>3</td>\n",
       "      <td>2019</td>\n",
       "      <td>другой</td>\n",
       "      <td>5.0</td>\n",
       "    </tr>\n",
       "    <tr>\n",
       "      <th>8018</th>\n",
       "      <td>20</td>\n",
       "      <td>84000000.0</td>\n",
       "      <td>507.0</td>\n",
       "      <td>2015-12-17T00:00:00</td>\n",
       "      <td>5</td>\n",
       "      <td>4.45</td>\n",
       "      <td>7</td>\n",
       "      <td>301.5</td>\n",
       "      <td>7</td>\n",
       "      <td>True</td>\n",
       "      <td>...</td>\n",
       "      <td>110.0</td>\n",
       "      <td>0.0</td>\n",
       "      <td>NaN</td>\n",
       "      <td>1078.0</td>\n",
       "      <td>165680.47</td>\n",
       "      <td>12</td>\n",
       "      <td>3</td>\n",
       "      <td>2015</td>\n",
       "      <td>последний</td>\n",
       "      <td>6.0</td>\n",
       "    </tr>\n",
       "    <tr>\n",
       "      <th>12401</th>\n",
       "      <td>20</td>\n",
       "      <td>91500000.0</td>\n",
       "      <td>495.0</td>\n",
       "      <td>2017-06-19T00:00:00</td>\n",
       "      <td>7</td>\n",
       "      <td>4.65</td>\n",
       "      <td>7</td>\n",
       "      <td>347.5</td>\n",
       "      <td>7</td>\n",
       "      <td>NaN</td>\n",
       "      <td>...</td>\n",
       "      <td>110.0</td>\n",
       "      <td>0.0</td>\n",
       "      <td>NaN</td>\n",
       "      <td>14.0</td>\n",
       "      <td>184848.48</td>\n",
       "      <td>6</td>\n",
       "      <td>0</td>\n",
       "      <td>2017</td>\n",
       "      <td>последний</td>\n",
       "      <td>6.0</td>\n",
       "    </tr>\n",
       "    <tr>\n",
       "      <th>12859</th>\n",
       "      <td>20</td>\n",
       "      <td>140000000.0</td>\n",
       "      <td>631.2</td>\n",
       "      <td>2019-04-09T00:00:00</td>\n",
       "      <td>7</td>\n",
       "      <td>3.90</td>\n",
       "      <td>4</td>\n",
       "      <td>322.3</td>\n",
       "      <td>4</td>\n",
       "      <td>NaN</td>\n",
       "      <td>...</td>\n",
       "      <td>NaN</td>\n",
       "      <td>2.0</td>\n",
       "      <td>210.0</td>\n",
       "      <td>0.0</td>\n",
       "      <td>221799.75</td>\n",
       "      <td>4</td>\n",
       "      <td>1</td>\n",
       "      <td>2019</td>\n",
       "      <td>последний</td>\n",
       "      <td>5.0</td>\n",
       "    </tr>\n",
       "  </tbody>\n",
       "</table>\n",
       "<p>6 rows × 28 columns</p>\n",
       "</div>"
      ],
      "text/plain": [
       "       total_images   last_price  total_area first_day_exposition  rooms  \\\n",
       "660               3   49950000.0       483.9  2017-10-04T00:00:00      7   \n",
       "4237              1   50000000.0       517.0  2017-10-14T00:00:00      7   \n",
       "5358             20   65000000.0       590.0  2019-02-14T00:00:00     15   \n",
       "8018             20   84000000.0       507.0  2015-12-17T00:00:00      5   \n",
       "12401            20   91500000.0       495.0  2017-06-19T00:00:00      7   \n",
       "12859            20  140000000.0       631.2  2019-04-09T00:00:00      7   \n",
       "\n",
       "       ceiling_height  floors_total  living_area  floor is_apartment  ...  \\\n",
       "660              3.20             6        312.5      4          NaN  ...   \n",
       "4237             2.50             4        332.0      3          NaN  ...   \n",
       "5358             3.50             6        409.0      3          NaN  ...   \n",
       "8018             4.45             7        301.5      7         True  ...   \n",
       "12401            4.65             7        347.5      7          NaN  ...   \n",
       "12859            3.90             4        322.3      4          NaN  ...   \n",
       "\n",
       "       parks_nearest  ponds_around3000  ponds_nearest  days_exposition  \\\n",
       "660            461.0               3.0           22.0            391.0   \n",
       "4237           477.0               2.0          540.0              0.0   \n",
       "5358           767.0               0.0            NaN             14.0   \n",
       "8018           110.0               0.0            NaN           1078.0   \n",
       "12401          110.0               0.0            NaN             14.0   \n",
       "12859            NaN               2.0          210.0              0.0   \n",
       "\n",
       "        price_m2  month_exposition  weekday_exposition  year_exposition  \\\n",
       "660    103223.81                10                   2             2017   \n",
       "4237    96711.80                10                   5             2017   \n",
       "5358   110169.49                 2                   3             2019   \n",
       "8018   165680.47                12                   3             2015   \n",
       "12401  184848.48                 6                   0             2017   \n",
       "12859  221799.75                 4                   1             2019   \n",
       "\n",
       "       floor_category  cityCenters_neares_km  \n",
       "660            другой                    1.0  \n",
       "4237           другой                    2.0  \n",
       "5358           другой                    5.0  \n",
       "8018        последний                    6.0  \n",
       "12401       последний                    6.0  \n",
       "12859       последний                    5.0  \n",
       "\n",
       "[6 rows x 28 columns]"
      ]
     },
     "execution_count": 16,
     "metadata": {},
     "output_type": "execute_result"
    },
    {
     "data": {
      "image/png": "[encoded data removed]",
      "text/plain": [
       "<Figure size 720x432 with 1 Axes>"
      ]
     },
     "metadata": {
      "needs_background": "light"
     },
     "output_type": "display_data"
    }
   ],
   "source": [
    "data['living_area'].hist(bins = 50, range = (0,200))\n",
    "plt.show()\n",
    "data['living_area'].plot(kind='box', figsize=(10, 6))\n",
    "display (data['living_area'].describe())\n",
    "data[data['living_area']>300]"
   ]
  },
  {
   "cell_type": "markdown",
   "metadata": {},
   "source": [
    "В столбце с жилой площадью есть также одно аномальное отклонение, решаем его оставить."
   ]
  },
  {
   "cell_type": "markdown",
   "metadata": {},
   "source": [
    "### Площадь кухни"
   ]
  },
  {
   "cell_type": "code",
   "execution_count": 17,
   "metadata": {},
   "outputs": [
    {
     "data": {
      "text/plain": [
       "count    21420.000000\n",
       "mean        10.565072\n",
       "std          5.864766\n",
       "min          1.300000\n",
       "25%          7.000000\n",
       "50%          9.100000\n",
       "75%         12.000000\n",
       "max        107.000000\n",
       "Name: kitchen_area, dtype: float64"
      ]
     },
     "metadata": {},
     "output_type": "display_data"
    },
    {
     "data": {
      "image/png": "[encoded data removed]",
      "text/plain": [
       "<Figure size 432x288 with 1 Axes>"
      ]
     },
     "metadata": {
      "needs_background": "light"
     },
     "output_type": "display_data"
    },
    {
     "data": {
      "text/plain": [
       "<AxesSubplot:>"
      ]
     },
     "execution_count": 17,
     "metadata": {},
     "output_type": "execute_result"
    },
    {
     "data": {
      "image/png": "[encoded data removed]",
      "text/plain": [
       "<Figure size 720x432 with 1 Axes>"
      ]
     },
     "metadata": {
      "needs_background": "light"
     },
     "output_type": "display_data"
    }
   ],
   "source": [
    "data['kitchen_area'].hist(bins = 50, range = (0,50))\n",
    "display (data['kitchen_area'].describe())\n",
    "plt.show()\n",
    "data['kitchen_area'].plot(kind='box', figsize=(10, 6))"
   ]
  },
  {
   "cell_type": "markdown",
   "metadata": {},
   "source": [
    "###  Цена объекта"
   ]
  },
  {
   "cell_type": "code",
   "execution_count": 18,
   "metadata": {},
   "outputs": [
    {
     "data": {
      "text/plain": [
       "count    2.369800e+04\n",
       "mean     6.524102e+06\n",
       "std      1.055073e+07\n",
       "min      1.219000e+04\n",
       "25%      3.400000e+06\n",
       "50%      4.650000e+06\n",
       "75%      6.799750e+06\n",
       "max      7.630000e+08\n",
       "Name: last_price, dtype: float64"
      ]
     },
     "metadata": {},
     "output_type": "display_data"
    },
    {
     "data": {
      "image/png": "[encoded data removed]",
      "text/plain": [
       "<Figure size 432x288 with 1 Axes>"
      ]
     },
     "metadata": {
      "needs_background": "light"
     },
     "output_type": "display_data"
    },
    {
     "data": {
      "text/html": [
       "<div>\n",
       "<style scoped>\n",
       "    .dataframe tbody tr th:only-of-type {\n",
       "        vertical-align: middle;\n",
       "    }\n",
       "\n",
       "    .dataframe tbody tr th {\n",
       "        vertical-align: top;\n",
       "    }\n",
       "\n",
       "    .dataframe thead th {\n",
       "        text-align: right;\n",
       "    }\n",
       "</style>\n",
       "<table border=\"1\" class=\"dataframe\">\n",
       "  <thead>\n",
       "    <tr style=\"text-align: right;\">\n",
       "      <th></th>\n",
       "      <th>total_images</th>\n",
       "      <th>last_price</th>\n",
       "      <th>total_area</th>\n",
       "      <th>first_day_exposition</th>\n",
       "      <th>rooms</th>\n",
       "      <th>ceiling_height</th>\n",
       "      <th>floors_total</th>\n",
       "      <th>living_area</th>\n",
       "      <th>floor</th>\n",
       "      <th>is_apartment</th>\n",
       "      <th>...</th>\n",
       "      <th>parks_nearest</th>\n",
       "      <th>ponds_around3000</th>\n",
       "      <th>ponds_nearest</th>\n",
       "      <th>days_exposition</th>\n",
       "      <th>price_m2</th>\n",
       "      <th>month_exposition</th>\n",
       "      <th>weekday_exposition</th>\n",
       "      <th>year_exposition</th>\n",
       "      <th>floor_category</th>\n",
       "      <th>cityCenters_neares_km</th>\n",
       "    </tr>\n",
       "  </thead>\n",
       "  <tbody>\n",
       "    <tr>\n",
       "      <th>12971</th>\n",
       "      <td>19</td>\n",
       "      <td>763000000.0</td>\n",
       "      <td>400.0</td>\n",
       "      <td>2017-09-30T00:00:00</td>\n",
       "      <td>7</td>\n",
       "      <td>2.5</td>\n",
       "      <td>10</td>\n",
       "      <td>250.0</td>\n",
       "      <td>10</td>\n",
       "      <td>NaN</td>\n",
       "      <td>...</td>\n",
       "      <td>530.0</td>\n",
       "      <td>3.0</td>\n",
       "      <td>756.0</td>\n",
       "      <td>33.0</td>\n",
       "      <td>1907500.0</td>\n",
       "      <td>9</td>\n",
       "      <td>5</td>\n",
       "      <td>2017</td>\n",
       "      <td>последний</td>\n",
       "      <td>4.0</td>\n",
       "    </tr>\n",
       "  </tbody>\n",
       "</table>\n",
       "<p>1 rows × 28 columns</p>\n",
       "</div>"
      ],
      "text/plain": [
       "       total_images   last_price  total_area first_day_exposition  rooms  \\\n",
       "12971            19  763000000.0       400.0  2017-09-30T00:00:00      7   \n",
       "\n",
       "       ceiling_height  floors_total  living_area  floor is_apartment  ...  \\\n",
       "12971             2.5            10        250.0     10          NaN  ...   \n",
       "\n",
       "       parks_nearest  ponds_around3000  ponds_nearest  days_exposition  \\\n",
       "12971          530.0               3.0          756.0             33.0   \n",
       "\n",
       "        price_m2  month_exposition  weekday_exposition  year_exposition  \\\n",
       "12971  1907500.0                 9                   5             2017   \n",
       "\n",
       "       floor_category  cityCenters_neares_km  \n",
       "12971       последний                    4.0  \n",
       "\n",
       "[1 rows x 28 columns]"
      ]
     },
     "execution_count": 18,
     "metadata": {},
     "output_type": "execute_result"
    },
    {
     "data": {
      "image/png": "[encoded data removed]",
      "text/plain": [
       "<Figure size 576x576 with 1 Axes>"
      ]
     },
     "metadata": {
      "needs_background": "light"
     },
     "output_type": "display_data"
    }
   ],
   "source": [
    "data['last_price'].hist(bins = 50, range = (0,11000000))\n",
    "display (data['last_price'].describe())\n",
    "plt.show()\n",
    "data['last_price'].plot(kind='box', figsize=(8, 8))\n",
    "data[data['last_price']>500000000]"
   ]
  },
  {
   "cell_type": "markdown",
   "metadata": {},
   "source": [
    "### Количество комнат"
   ]
  },
  {
   "cell_type": "code",
   "execution_count": 19,
   "metadata": {},
   "outputs": [
    {
     "data": {
      "text/plain": [
       "count    23698.000000\n",
       "mean         2.070217\n",
       "std          1.076497\n",
       "min          0.000000\n",
       "25%          1.000000\n",
       "50%          2.000000\n",
       "75%          3.000000\n",
       "max         19.000000\n",
       "Name: rooms, dtype: float64"
      ]
     },
     "execution_count": 19,
     "metadata": {},
     "output_type": "execute_result"
    },
    {
     "data": {
      "image/png": "[encoded data removed]",
      "text/plain": [
       "<Figure size 432x288 with 1 Axes>"
      ]
     },
     "metadata": {
      "needs_background": "light"
     },
     "output_type": "display_data"
    }
   ],
   "source": [
    "data['rooms'].hist(bins = 10, range = (0,19))\n",
    "data['rooms'].describe()"
   ]
  },
  {
   "cell_type": "markdown",
   "metadata": {},
   "source": [
    "### Высота потолков"
   ]
  },
  {
   "cell_type": "code",
   "execution_count": 20,
   "metadata": {},
   "outputs": [
    {
     "data": {
      "text/plain": [
       "count    23698.000000\n",
       "mean         2.666154\n",
       "std          0.995376\n",
       "min          1.000000\n",
       "25%          2.500000\n",
       "50%          2.500000\n",
       "75%          2.700000\n",
       "max        100.000000\n",
       "Name: ceiling_height, dtype: float64"
      ]
     },
     "execution_count": 20,
     "metadata": {},
     "output_type": "execute_result"
    },
    {
     "data": {
      "image/png": "[encoded data removed]",
      "text/plain": [
       "<Figure size 432x288 with 1 Axes>"
      ]
     },
     "metadata": {
      "needs_background": "light"
     },
     "output_type": "display_data"
    }
   ],
   "source": [
    "data['ceiling_height'].hist(bins = 10, range = (2,3))\n",
    "data['ceiling_height'].describe()\n"
   ]
  },
  {
   "cell_type": "markdown",
   "metadata": {},
   "source": [
    "В высоте потолков есть явные выбросы. Попробуем от них избавиться. Все, что выше 23 метров,считаем за человеческий фактор при вводе информации.Поэтому делим значение на 10.\n"
   ]
  },
  {
   "cell_type": "code",
   "execution_count": 21,
   "metadata": {},
   "outputs": [
    {
     "data": {
      "text/plain": [
       "array([ 2.7 ,  2.5 ,  3.03,  2.67,  2.56,  3.05,  2.75,  2.6 ,  2.9 ,\n",
       "        2.8 ,  2.55,  3.  ,  2.65,  3.2 ,  2.61,  3.25,  3.45,  2.77,\n",
       "        2.85,  2.64,  2.57,  4.15,  3.5 ,  3.3 ,  2.71,  4.  ,  2.47,\n",
       "        2.73,  2.84,  3.1 ,  2.34,  3.4 ,  3.06,  2.72,  2.54,  2.51,\n",
       "        2.78,  2.76,  2.58,  3.7 ,  2.52,  5.2 ,  2.87,  2.66,  2.59,\n",
       "        2.  ,  2.45,  3.6 ,  2.92,  3.11,  3.13,  3.8 ,  3.15,  3.55,\n",
       "        3.16,  3.62,  3.12,  2.53,  2.74,  2.96,  2.46,  5.3 ,  5.  ,\n",
       "        2.79,  2.95,  4.06,  2.94,  3.82,  3.54,  3.53,  2.83,  4.7 ,\n",
       "        2.4 ,  3.38,  3.01,  5.6 ,  3.65,  3.9 ,  3.18,  3.35,  2.3 ,\n",
       "        3.57,  2.48,  2.62,  2.82,  3.98,  2.63,  3.83,  3.52,  3.95,\n",
       "        3.75,  2.88,  3.67,  3.87,  3.66,  3.85,  3.86,  4.19,  3.24,\n",
       "        4.8 ,  4.5 ,  4.2 ,  3.36,  3.08,  3.68,  3.07,  3.37,  3.09,\n",
       "        8.  ,  3.26,  3.34,  2.81,  3.44,  2.97,  3.14,  4.37,  2.68,\n",
       "        3.22,  3.27,  4.1 ,  2.93,  3.46,  3.47,  3.33,  3.63,  3.32,\n",
       "        1.2 ,  8.3 ,  2.98,  2.86,  3.17,  4.4 ,  3.28,  3.04,  4.45,\n",
       "        5.5 ,  3.84,  3.23,  3.02,  3.21,  3.43,  3.78,  4.3 ,  3.39,\n",
       "        2.69,  3.31,  4.65,  3.56,  2.2 ,  3.51,  3.93,  3.42,  2.99,\n",
       "        3.49, 14.  ,  4.14,  2.91,  3.88,  1.75,  4.25,  3.29, 20.  ,\n",
       "        2.25,  3.76,  3.69,  6.  , 22.6 ,  2.89,  3.58,  5.8 ,  2.49,\n",
       "        4.9 ,  3.48, 10.3 ,  1.  , 10.  ,  3.59])"
      ]
     },
     "execution_count": 21,
     "metadata": {},
     "output_type": "execute_result"
    }
   ],
   "source": [
    "data['ceiling_height'] = data['ceiling_height'].apply(lambda x:x/10 if x>23 else x)\n",
    "\n",
    "data['ceiling_height'].unique()"
   ]
  },
  {
   "cell_type": "markdown",
   "metadata": {},
   "source": [
    "### Тип этажа квартиры («первый», «последний», «другой»)"
   ]
  },
  {
   "cell_type": "code",
   "execution_count": 22,
   "metadata": {},
   "outputs": [
    {
     "data": {
      "text/plain": [
       "count      23698\n",
       "unique         3\n",
       "top       другой\n",
       "freq       17363\n",
       "Name: floor_category, dtype: object"
      ]
     },
     "execution_count": 22,
     "metadata": {},
     "output_type": "execute_result"
    },
    {
     "data": {
      "image/png": "[encoded data removed]",
      "text/plain": [
       "<Figure size 432x288 with 1 Axes>"
      ]
     },
     "metadata": {
      "needs_background": "light"
     },
     "output_type": "display_data"
    }
   ],
   "source": [
    "data['floor_category'].hist(bins = 4, range = (0,3))\n",
    "data['floor_category'].describe()"
   ]
  },
  {
   "cell_type": "markdown",
   "metadata": {},
   "source": [
    "###  Общее количество этажей в доме"
   ]
  },
  {
   "cell_type": "code",
   "execution_count": 23,
   "metadata": {},
   "outputs": [
    {
     "data": {
      "image/png": "[encoded data removed]",
      "text/plain": [
       "<Figure size 432x288 with 1 Axes>"
      ]
     },
     "metadata": {
      "needs_background": "light"
     },
     "output_type": "display_data"
    },
    {
     "data": {
      "text/html": [
       "<div>\n",
       "<style scoped>\n",
       "    .dataframe tbody tr th:only-of-type {\n",
       "        vertical-align: middle;\n",
       "    }\n",
       "\n",
       "    .dataframe tbody tr th {\n",
       "        vertical-align: top;\n",
       "    }\n",
       "\n",
       "    .dataframe thead th {\n",
       "        text-align: right;\n",
       "    }\n",
       "</style>\n",
       "<table border=\"1\" class=\"dataframe\">\n",
       "  <thead>\n",
       "    <tr style=\"text-align: right;\">\n",
       "      <th></th>\n",
       "      <th>total_images</th>\n",
       "      <th>last_price</th>\n",
       "      <th>total_area</th>\n",
       "      <th>first_day_exposition</th>\n",
       "      <th>rooms</th>\n",
       "      <th>ceiling_height</th>\n",
       "      <th>floors_total</th>\n",
       "      <th>living_area</th>\n",
       "      <th>floor</th>\n",
       "      <th>is_apartment</th>\n",
       "      <th>...</th>\n",
       "      <th>parks_nearest</th>\n",
       "      <th>ponds_around3000</th>\n",
       "      <th>ponds_nearest</th>\n",
       "      <th>days_exposition</th>\n",
       "      <th>price_m2</th>\n",
       "      <th>month_exposition</th>\n",
       "      <th>weekday_exposition</th>\n",
       "      <th>year_exposition</th>\n",
       "      <th>floor_category</th>\n",
       "      <th>cityCenters_neares_km</th>\n",
       "    </tr>\n",
       "  </thead>\n",
       "  <tbody>\n",
       "    <tr>\n",
       "      <th>2253</th>\n",
       "      <td>12</td>\n",
       "      <td>3800000.0</td>\n",
       "      <td>45.5</td>\n",
       "      <td>2018-06-28T00:00:00</td>\n",
       "      <td>2</td>\n",
       "      <td>2.88</td>\n",
       "      <td>60</td>\n",
       "      <td>27.4</td>\n",
       "      <td>4</td>\n",
       "      <td>NaN</td>\n",
       "      <td>...</td>\n",
       "      <td>342.0</td>\n",
       "      <td>3.0</td>\n",
       "      <td>614.0</td>\n",
       "      <td>166.0</td>\n",
       "      <td>83516.48</td>\n",
       "      <td>6</td>\n",
       "      <td>3</td>\n",
       "      <td>2018</td>\n",
       "      <td>другой</td>\n",
       "      <td>49.0</td>\n",
       "    </tr>\n",
       "    <tr>\n",
       "      <th>16731</th>\n",
       "      <td>9</td>\n",
       "      <td>3978000.0</td>\n",
       "      <td>40.0</td>\n",
       "      <td>2018-09-24T00:00:00</td>\n",
       "      <td>1</td>\n",
       "      <td>2.65</td>\n",
       "      <td>52</td>\n",
       "      <td>10.5</td>\n",
       "      <td>18</td>\n",
       "      <td>NaN</td>\n",
       "      <td>...</td>\n",
       "      <td>793.0</td>\n",
       "      <td>0.0</td>\n",
       "      <td>NaN</td>\n",
       "      <td>45.0</td>\n",
       "      <td>99450.00</td>\n",
       "      <td>9</td>\n",
       "      <td>0</td>\n",
       "      <td>2018</td>\n",
       "      <td>другой</td>\n",
       "      <td>13.0</td>\n",
       "    </tr>\n",
       "  </tbody>\n",
       "</table>\n",
       "<p>2 rows × 28 columns</p>\n",
       "</div>"
      ],
      "text/plain": [
       "       total_images  last_price  total_area first_day_exposition  rooms  \\\n",
       "2253             12   3800000.0        45.5  2018-06-28T00:00:00      2   \n",
       "16731             9   3978000.0        40.0  2018-09-24T00:00:00      1   \n",
       "\n",
       "       ceiling_height  floors_total  living_area  floor is_apartment  ...  \\\n",
       "2253             2.88            60         27.4      4          NaN  ...   \n",
       "16731            2.65            52         10.5     18          NaN  ...   \n",
       "\n",
       "       parks_nearest  ponds_around3000  ponds_nearest  days_exposition  \\\n",
       "2253           342.0               3.0          614.0            166.0   \n",
       "16731          793.0               0.0            NaN             45.0   \n",
       "\n",
       "       price_m2  month_exposition  weekday_exposition  year_exposition  \\\n",
       "2253   83516.48                 6                   3             2018   \n",
       "16731  99450.00                 9                   0             2018   \n",
       "\n",
       "       floor_category  cityCenters_neares_km  \n",
       "2253           другой                   49.0  \n",
       "16731          другой                   13.0  \n",
       "\n",
       "[2 rows x 28 columns]"
      ]
     },
     "execution_count": 23,
     "metadata": {},
     "output_type": "execute_result"
    },
    {
     "data": {
      "image/png": "[encoded data removed]",
      "text/plain": [
       "<Figure size 576x576 with 1 Axes>"
      ]
     },
     "metadata": {
      "needs_background": "light"
     },
     "output_type": "display_data"
    }
   ],
   "source": [
    "data['floors_total'].hist(bins = 6, range = (0,60))\n",
    "data['floors_total'].describe()\n",
    "plt.show()\n",
    "data['floors_total'].plot(kind='box', figsize=(8, 8))\n",
    "data[data['floors_total']>50]"
   ]
  },
  {
   "cell_type": "markdown",
   "metadata": {},
   "source": [
    "По этажам есть два выброса, но они не влияют на исследуемые данные."
   ]
  },
  {
   "cell_type": "markdown",
   "metadata": {},
   "source": [
    "###  Расстояние до центра города в метрах"
   ]
  },
  {
   "cell_type": "code",
   "execution_count": 24,
   "metadata": {},
   "outputs": [
    {
     "data": {
      "image/png": "[encoded data removed]",
      "text/plain": [
       "<Figure size 432x288 with 1 Axes>"
      ]
     },
     "metadata": {
      "needs_background": "light"
     },
     "output_type": "display_data"
    },
    {
     "data": {
      "text/plain": [
       "<AxesSubplot:>"
      ]
     },
     "execution_count": 24,
     "metadata": {},
     "output_type": "execute_result"
    },
    {
     "data": {
      "image/png": "[encoded data removed]",
      "text/plain": [
       "<Figure size 576x576 with 1 Axes>"
      ]
     },
     "metadata": {
      "needs_background": "light"
     },
     "output_type": "display_data"
    }
   ],
   "source": [
    "data['cityCenters_nearest'].hist(bins = 20, range = (0,20000))\n",
    "data['cityCenters_nearest'].describe()\n",
    "plt.show()\n",
    "data['cityCenters_nearest'].plot(kind='box', figsize=(8, 8))"
   ]
  },
  {
   "cell_type": "markdown",
   "metadata": {},
   "source": [
    "### Расстояние до ближайшего парка"
   ]
  },
  {
   "cell_type": "code",
   "execution_count": 25,
   "metadata": {},
   "outputs": [
    {
     "data": {
      "text/plain": [
       "count    8079.000000\n",
       "mean      490.804555\n",
       "std       342.317995\n",
       "min         1.000000\n",
       "25%       288.000000\n",
       "50%       455.000000\n",
       "75%       612.000000\n",
       "max      3190.000000\n",
       "Name: parks_nearest, dtype: float64"
      ]
     },
     "execution_count": 25,
     "metadata": {},
     "output_type": "execute_result"
    },
    {
     "data": {
      "image/png": "[encoded data removed]",
      "text/plain": [
       "<Figure size 432x288 with 1 Axes>"
      ]
     },
     "metadata": {
      "needs_background": "light"
     },
     "output_type": "display_data"
    }
   ],
   "source": [
    "data['parks_nearest'].hist(bins = 20, range = (0,3000))\n",
    "data['parks_nearest'].describe()"
   ]
  },
  {
   "cell_type": "markdown",
   "metadata": {},
   "source": []
  },
  {
   "cell_type": "markdown",
   "metadata": {},
   "source": []
  },
  {
   "cell_type": "markdown",
   "metadata": {},
   "source": []
  },
  {
   "cell_type": "markdown",
   "metadata": {},
   "source": [
    "Комментарий от Ирины N 4.\n",
    "Решения (по 4.2 в разделе 7 -  это перенесла в 4 раздел) а по  4.3 теперь в разделе 7. В 7 очень много ячеек, поэтому не переношу. К сожалению не сразу заметила последовательность заданий.\n",
    "По поводу быстрых и медленных продаж - построила как просят в задании гистограмму и посчитала среднюю и медиану. А также как ты рекомендовал применила метод describe() и более того почтроила гистограмму на срезе. Визуально определила быстрые и медленные продажи. Что еще необходимо не очень понимаю(."
   ]
  },
  {
   "cell_type": "markdown",
   "metadata": {},
   "source": []
  },
  {
   "cell_type": "markdown",
   "metadata": {},
   "source": [
    "### Изучаем, как быстро продавались квартиры\n",
    "(столбец days_exposition). Этот параметр показывает, сколько дней было размещено каждое объявление\n",
    "Смотрим какие продажи считать быстрыми, а какие долгими. "
   ]
  },
  {
   "cell_type": "code",
   "execution_count": 26,
   "metadata": {},
   "outputs": [
    {
     "data": {
      "image/png": "[encoded data removed]",
      "text/plain": [
       "<Figure size 720x432 with 1 Axes>"
      ]
     },
     "metadata": {
      "needs_background": "light"
     },
     "output_type": "display_data"
    },
    {
     "data": {
      "text/plain": [
       "count    23698.000000\n",
       "mean       156.610980\n",
       "std        213.551126\n",
       "min          0.000000\n",
       "25%         22.000000\n",
       "50%         74.000000\n",
       "75%        199.000000\n",
       "max       1580.000000\n",
       "Name: days_exposition, dtype: float64"
      ]
     },
     "metadata": {},
     "output_type": "display_data"
    },
    {
     "data": {
      "text/plain": [
       "<AxesSubplot:ylabel='Frequency'>"
      ]
     },
     "execution_count": 26,
     "metadata": {},
     "output_type": "execute_result"
    },
    {
     "data": {
      "image/png": "[encoded data removed]",
      "text/plain": [
       "<Figure size 720x432 with 1 Axes>"
      ]
     },
     "metadata": {
      "needs_background": "light"
     },
     "output_type": "display_data"
    }
   ],
   "source": [
    "data['days_exposition'].plot(kind='box', figsize=(10, 6))\n",
    "plt.show()\n",
    "display (data['days_exposition'].describe())\n",
    "data['days_exposition'].plot(kind='hist', figsize=(10, 6))"
   ]
  },
  {
   "cell_type": "markdown",
   "metadata": {},
   "source": [
    "На диаграмме с усами видно, что средняя величина публикаций до продажи обьекта недвижимости три месяца. Медийное значение 95 дней. Также видим , что необычно долгие обьявления все, что более 600 дней."
   ]
  },
  {
   "cell_type": "markdown",
   "metadata": {},
   "source": [
    "Для исследования более быстрых продаж делаем срез по дням публикации до 180 дней и не менее 0 дней. Затем строим гистограму и сортировку по срезу."
   ]
  },
  {
   "cell_type": "code",
   "execution_count": 27,
   "metadata": {},
   "outputs": [
    {
     "data": {
      "text/plain": [
       "45.0     880\n",
       "60.0     538\n",
       "7.0      234\n",
       "30.0     208\n",
       "90.0     204\n",
       "        ... \n",
       "129.0     27\n",
       "171.0     26\n",
       "148.0     16\n",
       "2.0        3\n",
       "1.0        1\n",
       "Name: days_exposition, Length: 179, dtype: int64"
      ]
     },
     "execution_count": 27,
     "metadata": {},
     "output_type": "execute_result"
    },
    {
     "data": {
      "image/png": "[encoded data removed]",
      "text/plain": [
       "<Figure size 432x288 with 1 Axes>"
      ]
     },
     "metadata": {
      "needs_background": "light"
     },
     "output_type": "display_data"
    }
   ],
   "source": [
    "data_query = data.query('days_exposition>0 and days_exposition< 180')\n",
    "data_query['days_exposition'].hist(bins=10)\n",
    "data_query['days_exposition'].value_counts()"
   ]
  },
  {
   "cell_type": "markdown",
   "metadata": {},
   "source": [
    "Самые быстрые продажи до 50 дней."
   ]
  },
  {
   "cell_type": "markdown",
   "metadata": {},
   "source": [
    "### Вывод\n",
    "На диаграмме с усами видно, что средняя величина публикаций до продажи обьекта недвижимости 156 дней. Медийное значение 75 дней. Также видим , что необычно долгие обьявления все, что более 500 дней.\n",
    "Самые быстрые продажи до 50 дней определили по срезу до 180 дней."
   ]
  },
  {
   "cell_type": "markdown",
   "metadata": {},
   "source": []
  },
  {
   "cell_type": "markdown",
   "metadata": {},
   "source": [
    "## Проведение анализа для Ленинградской области."
   ]
  },
  {
   "cell_type": "markdown",
   "metadata": {},
   "source": [
    "Посчитаем среднюю цену одного квадратного метра в 10 населённых пунктах с наибольшим числом объявлений — построим  таблицу с количеством объявлений и средней ценой квадратного метра для этих населенных пунктов. Выделим населённые пункты с самой высокой и низкой стоимостью квадратного метра.\n",
    "С помощью среза [:10] по самым 10 наибольшим (т.е. длинным) по числу обращений насел. пунктов  создаем список 10 топ населенных пунктов - top_10.\n",
    "Среднюю цену для топа 10 населенных пунктов считаем используя функцию mean,сгруппировав датафрейм по имени населенного пункта locality_name, предварительно проверив, что населенный пункт входит в список  топ 10 ."
   ]
  },
  {
   "cell_type": "markdown",
   "metadata": {
    "id": "pPyxrKWTAwb-"
   },
   "source": [
    "\n",
    "\n"
   ]
  },
  {
   "cell_type": "code",
   "execution_count": 28,
   "metadata": {
    "id": "V2f0D3kLAwb-",
    "scrolled": false
   },
   "outputs": [
    {
     "data": {
      "text/plain": [
       "locality_name\n",
       "Санкт-Петербург    114826.628535\n",
       "Пушкин             103125.819377\n",
       "Кудрово             95324.930508\n",
       "Парголово           90175.913089\n",
       "Мурино              86087.512017\n",
       "Шушары              78677.364318\n",
       "Колпино             75424.579112\n",
       "Гатчина             68746.146515\n",
       "Всеволожск          68654.473970\n",
       "Выборг              58141.909325\n",
       "Name: price_m2, dtype: float64"
      ]
     },
     "metadata": {},
     "output_type": "display_data"
    },
    {
     "data": {
      "text/plain": [
       "'Самая высокая средняя цена квадратного метра:'"
      ]
     },
     "metadata": {},
     "output_type": "display_data"
    },
    {
     "data": {
      "text/plain": [
       "114826.63"
      ]
     },
     "metadata": {},
     "output_type": "display_data"
    },
    {
     "data": {
      "text/plain": [
       "'Самая низкая из 10 топ пунктов средняя цена квадратного метра:'"
      ]
     },
     "metadata": {},
     "output_type": "display_data"
    },
    {
     "data": {
      "text/plain": [
       "58141.91"
      ]
     },
     "metadata": {},
     "output_type": "display_data"
    }
   ],
   "source": [
    "top_10 = data['locality_name'].value_counts()[:10].index.tolist()\n",
    "data_top = data[data['locality_name'].isin(top_10)].groupby('locality_name')['price_m2'].mean().sort_values(ascending=False)\n",
    "display (data_top)\n",
    "display ('Самая высокая средняя цена квадратного метра:',round (data_top.max(),2))\n",
    "display ('Самая низкая из 10 топ пунктов средняя цена квадратного метра:',round (data_top.min(),2))\n"
   ]
  },
  {
   "cell_type": "code",
   "execution_count": 29,
   "metadata": {},
   "outputs": [
    {
     "data": {
      "text/html": [
       "<div>\n",
       "<style scoped>\n",
       "    .dataframe tbody tr th:only-of-type {\n",
       "        vertical-align: middle;\n",
       "    }\n",
       "\n",
       "    .dataframe tbody tr th {\n",
       "        vertical-align: top;\n",
       "    }\n",
       "\n",
       "    .dataframe thead th {\n",
       "        text-align: right;\n",
       "    }\n",
       "</style>\n",
       "<table border=\"1\" class=\"dataframe\">\n",
       "  <thead>\n",
       "    <tr style=\"text-align: right;\">\n",
       "      <th></th>\n",
       "      <th>balcony</th>\n",
       "      <th>last_price</th>\n",
       "    </tr>\n",
       "    <tr>\n",
       "      <th>locality_name</th>\n",
       "      <th></th>\n",
       "      <th></th>\n",
       "    </tr>\n",
       "  </thead>\n",
       "  <tbody>\n",
       "    <tr>\n",
       "      <th>Санкт-Петербург</th>\n",
       "      <td>15720</td>\n",
       "      <td>5500000.0</td>\n",
       "    </tr>\n",
       "    <tr>\n",
       "      <th>Мурино</th>\n",
       "      <td>590</td>\n",
       "      <td>3400000.0</td>\n",
       "    </tr>\n",
       "    <tr>\n",
       "      <th>Кудрово</th>\n",
       "      <td>472</td>\n",
       "      <td>3890000.0</td>\n",
       "    </tr>\n",
       "    <tr>\n",
       "      <th>Шушары</th>\n",
       "      <td>440</td>\n",
       "      <td>3950000.0</td>\n",
       "    </tr>\n",
       "    <tr>\n",
       "      <th>Всеволожск</th>\n",
       "      <td>398</td>\n",
       "      <td>3450000.0</td>\n",
       "    </tr>\n",
       "    <tr>\n",
       "      <th>Пушкин</th>\n",
       "      <td>369</td>\n",
       "      <td>5180000.0</td>\n",
       "    </tr>\n",
       "    <tr>\n",
       "      <th>Колпино</th>\n",
       "      <td>338</td>\n",
       "      <td>3600000.0</td>\n",
       "    </tr>\n",
       "    <tr>\n",
       "      <th>Парголово</th>\n",
       "      <td>327</td>\n",
       "      <td>4100000.0</td>\n",
       "    </tr>\n",
       "    <tr>\n",
       "      <th>Гатчина</th>\n",
       "      <td>307</td>\n",
       "      <td>3100000.0</td>\n",
       "    </tr>\n",
       "    <tr>\n",
       "      <th>Выборг</th>\n",
       "      <td>237</td>\n",
       "      <td>2897000.0</td>\n",
       "    </tr>\n",
       "  </tbody>\n",
       "</table>\n",
       "</div>"
      ],
      "text/plain": [
       "                 balcony  last_price\n",
       "locality_name                       \n",
       "Санкт-Петербург    15720   5500000.0\n",
       "Мурино               590   3400000.0\n",
       "Кудрово              472   3890000.0\n",
       "Шушары               440   3950000.0\n",
       "Всеволожск           398   3450000.0\n",
       "Пушкин               369   5180000.0\n",
       "Колпино              338   3600000.0\n",
       "Парголово            327   4100000.0\n",
       "Гатчина              307   3100000.0\n",
       "Выборг               237   2897000.0"
      ]
     },
     "execution_count": 29,
     "metadata": {},
     "output_type": "execute_result"
    }
   ],
   "source": [
    "data.groupby('locality_name').agg({'balcony':'count', 'last_price':'median'}) \\\n",
    "    .sort_values(by = 'balcony', ascending = False) \\\n",
    "    .head(10)"
   ]
  },
  {
   "cell_type": "markdown",
   "metadata": {},
   "source": [
    "### Вывод\n",
    "В Ленинградской области самая высокая средняя цена за квадратный метр в Санкт-Петербурге. Она соаставляет 114849.01 руб. Самая низкая цена из 10 наиболее частоупоминаемых в обьявлениях цена в Выборге. Там средняя цена квадратного метра 58141.91 руб. Ниже почти в два раза максимальной цены. Вывели таблицу 10 топ населенных пунктов со средней ценой кв. метра."
   ]
  },
  {
   "cell_type": "markdown",
   "metadata": {},
   "source": [
    "## Проведение анализа для Санкт-Петербурга"
   ]
  },
  {
   "cell_type": "markdown",
   "metadata": {},
   "source": [
    "Ранее мы посчитали расстояние до центра в километрах. Теперь выделим квартиры в Санкт-Петербурге с помощью столбца locality_name и вычислим их среднюю стоимость на разном удалении от центра. Учитывая каждый километр расстояния: узнаем среднюю цену квартир в одном километре от центра, в двух и так далее. Построим график изменения средней цены для каждого километра от центра Петербурга.\n",
    "Для этого я создаю еще один столбец который на основе столбца cityCenters_neares_km округляет его до целых значений, как нам нужно для выполнения задания разбивки на километрам.\n",
    "Сгруппировав по новому столбцу датафрейм ищу для каждого километра среднее значение кв. метра и сортирую в порядке возрастания этой цены.\n",
    "Для наглядности полученных вычислений использую метод plot, указав оси соотвествено в зависимости х - удаленности  от у - цены квадратного метра.\n",
    "На втором графике используем метод plot для удаленности обьекта недвижимости до 30 км, чтобы разглядеть зависимость."
   ]
  },
  {
   "cell_type": "code",
   "execution_count": 30,
   "metadata": {},
   "outputs": [
    {
     "data": {
      "text/plain": [
       "cityCenters_neares_km\n",
       "1.0     176640.649741\n",
       "2.0     157944.348103\n",
       "7.0     156176.879524\n",
       "6.0     151012.193673\n",
       "5.0     140324.467478\n",
       "            ...      \n",
       "60.0     65221.775000\n",
       "0.0      63388.020555\n",
       "63.0     62500.000000\n",
       "42.0     62479.371667\n",
       "61.0     60606.060000\n",
       "Name: price_m2, Length: 61, dtype: float64"
      ]
     },
     "metadata": {},
     "output_type": "display_data"
    },
    {
     "data": {
      "text/plain": [
       "<AxesSubplot:xlabel='cityCenters_neares_km'>"
      ]
     },
     "execution_count": 30,
     "metadata": {},
     "output_type": "execute_result"
    },
    {
     "data": {
      "image/png": "[encoded data removed]",
      "text/plain": [
       "<Figure size 432x288 with 1 Axes>"
      ]
     },
     "metadata": {
      "needs_background": "light"
     },
     "output_type": "display_data"
    },
    {
     "data": {
      "image/png": "[encoded data removed]",
      "text/plain": [
       "<Figure size 432x288 with 1 Axes>"
      ]
     },
     "metadata": {
      "needs_background": "light"
     },
     "output_type": "display_data"
    }
   ],
   "source": [
    "display (data.groupby('cityCenters_neares_km')['price_m2'].mean().sort_values(ascending=False))\n",
    "data.sort_values('cityCenters_neares_km').plot(x = 'cityCenters_neares_km',y = 'price_m2',kind = 'scatter', alpha=0.3 )\n",
    "data.sort_values('cityCenters_neares_km').plot(x = 'cityCenters_neares_km',y = 'price_m2',xlim=(0,30),grid = True )"
   ]
  },
  {
   "cell_type": "code",
   "execution_count": 31,
   "metadata": {},
   "outputs": [
    {
     "data": {
      "image/png": "[encoded data removed]",
      "text/plain": [
       "<Figure size 432x288 with 1 Axes>"
      ]
     },
     "metadata": {
      "needs_background": "light"
     },
     "output_type": "display_data"
    },
    {
     "data": {
      "text/plain": [
       "<AxesSubplot:xlabel='cityCenters_neares_km'>"
      ]
     },
     "execution_count": 31,
     "metadata": {},
     "output_type": "execute_result"
    },
    {
     "data": {
      "image/png": "[encoded data removed]",
      "text/plain": [
       "<Figure size 720x360 with 1 Axes>"
      ]
     },
     "metadata": {
      "needs_background": "light"
     },
     "output_type": "display_data"
    }
   ],
   "source": [
    "data.pivot_table(index = 'cityCenters_neares_km', values = 'last_price', aggfunc = 'mean')\\\n",
    "    .plot()\n",
    "plt.show()\n",
    "data.pivot_table(index = 'cityCenters_neares_km', values = 'last_price', aggfunc = 'mean')\\\n",
    "    .plot(y='last_price', kind = 'bar',figsize=(10,5))"
   ]
  },
  {
   "cell_type": "markdown",
   "metadata": {},
   "source": [
    "Сделали сводную таблицу  по зависиомсти: удаленность от центра населенногопункта - средняя цена , линейный график и столбчатый графики. "
   ]
  },
  {
   "cell_type": "markdown",
   "metadata": {},
   "source": []
  },
  {
   "cell_type": "code",
   "execution_count": 41,
   "metadata": {},
   "outputs": [
    {
     "data": {
      "image/png": "[encoded data removed]",
      "text/plain": [
       "<Figure size 720x360 with 1 Axes>"
      ]
     },
     "metadata": {
      "needs_background": "light"
     },
     "output_type": "display_data"
    }
   ],
   "source": [
    "value = 'Санкт-Петербург'\n",
    "data.query('locality_name == @value')\\\n",
    "    .pivot_table(index = 'cityCenters_neares_km', values = 'last_price', aggfunc = 'mean')\\\n",
    "    .plot(y='last_price', kind = 'bar',figsize=(10,5), xlabel = 'Расстояние до центра СПб', ylabel = 'Средняя цена', title = 'Заголовок') \n",
    "plt.show()"
   ]
  },
  {
   "cell_type": "markdown",
   "metadata": {},
   "source": [
    "Сделали сводную таблицу по СПБ и по зависиомсти: удаленность от центра  - средняя цена, построили столбчатую диаграмму. "
   ]
  },
  {
   "cell_type": "markdown",
   "metadata": {},
   "source": [
    "### Вывод\n",
    "На стоимость квадратного метра влияет удаленность квартиры от центра. В пределах 7 км от центра Санкт-Петербурга самая большая цена квадратного метра."
   ]
  },
  {
   "cell_type": "markdown",
   "metadata": {},
   "source": [
    "## Выявление факторов , которые влияют на ценообразование стоимости квартиры."
   ]
  },
  {
   "cell_type": "markdown",
   "metadata": {},
   "source": [
    "Определим факторы, которые больше всего влияют на общую (полную) стоимость объекта.\n",
    "Изучим, зависит ли цена от:\n",
    "o\tобщей площади;\n",
    "o\tжилой площади;\n",
    "o\tплощади кухни;\n",
    "o\tколичества комнат;\n",
    "o\tэтажа, на котором расположена квартира (первый, последний, другой);\n",
    "o\tдаты размещения (день недели, месяц, год).\n",
    "Построим графики, которые покажут зависимость цены от указанных выше параметров.\n"
   ]
  },
  {
   "cell_type": "code",
   "execution_count": 33,
   "metadata": {
    "scrolled": false
   },
   "outputs": [
    {
     "data": {
      "text/plain": [
       "0.0       3181\n",
       "45.0       880\n",
       "60.0       538\n",
       "7.0        234\n",
       "30.0       208\n",
       "          ... \n",
       "1114.0       1\n",
       "1105.0       1\n",
       "920.0        1\n",
       "1135.0       1\n",
       "1174.0       1\n",
       "Name: days_exposition, Length: 1142, dtype: int64"
      ]
     },
     "metadata": {},
     "output_type": "display_data"
    },
    {
     "data": {
      "text/plain": [
       "156.61097982952148"
      ]
     },
     "metadata": {},
     "output_type": "display_data"
    },
    {
     "data": {
      "text/plain": [
       "74.0"
      ]
     },
     "metadata": {},
     "output_type": "display_data"
    },
    {
     "data": {
      "text/plain": [
       "count    23698.000000\n",
       "mean       156.610980\n",
       "std        213.551126\n",
       "min          0.000000\n",
       "25%         22.000000\n",
       "50%         74.000000\n",
       "75%        199.000000\n",
       "max       1580.000000\n",
       "Name: days_exposition, dtype: float64"
      ]
     },
     "metadata": {},
     "output_type": "display_data"
    }
   ],
   "source": [
    "display (data['days_exposition'].value_counts()) #вывод уникальных зн\n",
    "#data['days_exposition'].hist(bins=20,range=(0,300))\n",
    "#data['days_exposition'].hist(bins=20,range=(100,200))\n",
    "#data['days_exposition'].hist(bins=20,range=(200,300))\n",
    "display (data['days_exposition'].mean())\n",
    "display (data['days_exposition'].median())\n",
    "display (data['days_exposition'].describe())\n",
    "#data.sort_values('last_price').plot(x = 'last_price',y = 'floor_category',kind = 'scatter', alpha=0.3 )\n",
    "\n",
    "#data.plot(x = 'last_price',y = 'floor_category',kind = 'hexbin', gridsize=20, figsize=(8,6), sharex=False, grid=True)\n",
    "#data_agr = data[['locality_name', 'price_m2']].agg(['mean', 'median', 'min', 'max'])"
   ]
  },
  {
   "cell_type": "code",
   "execution_count": 34,
   "metadata": {},
   "outputs": [
    {
     "data": {
      "text/plain": [
       "('Коэфициент корриляции цена-общ.площадь=', 0.6431493531735254)"
      ]
     },
     "execution_count": 34,
     "metadata": {},
     "output_type": "execute_result"
    },
    {
     "data": {
      "image/png": "[encoded data removed]",
      "text/plain": [
       "<Figure size 432x288 with 1 Axes>"
      ]
     },
     "metadata": {
      "needs_background": "light"
     },
     "output_type": "display_data"
    }
   ],
   "source": [
    "data.sort_values('last_price').plot(x = 'last_price',y = 'total_area',kind = 'scatter', alpha=0.3 )\n",
    "('Коэфициент корриляции цена-общ.площадь=',data['last_price'].corr(data['total_area']))"
   ]
  },
  {
   "cell_type": "code",
   "execution_count": 35,
   "metadata": {},
   "outputs": [
    {
     "data": {
      "text/plain": [
       "('Коэфициент корриляции цена-жилая площадь=', 0.48203525966983124)"
      ]
     },
     "execution_count": 35,
     "metadata": {},
     "output_type": "execute_result"
    },
    {
     "data": {
      "image/png": "[encoded data removed]",
      "text/plain": [
       "<Figure size 432x288 with 1 Axes>"
      ]
     },
     "metadata": {
      "needs_background": "light"
     },
     "output_type": "display_data"
    }
   ],
   "source": [
    "data.sort_values('last_price').plot(x = 'last_price',y = 'living_area',kind = 'scatter', alpha=0.3 )\n",
    "('Коэфициент корриляции цена-жилая площадь=',data['last_price'].corr(data['living_area']))"
   ]
  },
  {
   "cell_type": "code",
   "execution_count": 36,
   "metadata": {},
   "outputs": [
    {
     "data": {
      "text/plain": [
       "('Коэфициент корриляции цена-площадь кухни=', 0.5112001537972394)"
      ]
     },
     "execution_count": 36,
     "metadata": {},
     "output_type": "execute_result"
    },
    {
     "data": {
      "image/png": "[encoded data removed]",
      "text/plain": [
       "<Figure size 432x288 with 1 Axes>"
      ]
     },
     "metadata": {
      "needs_background": "light"
     },
     "output_type": "display_data"
    }
   ],
   "source": [
    "data.sort_values('last_price').plot(x = 'last_price',y = 'kitchen_area',kind = 'scatter', alpha=0.3 )\n",
    "('Коэфициент корриляции цена-площадь кухни=',data['last_price'].corr(data['kitchen_area']))"
   ]
  },
  {
   "cell_type": "code",
   "execution_count": 37,
   "metadata": {},
   "outputs": [
    {
     "data": {
      "text/plain": [
       "<AxesSubplot:xlabel='rooms'>"
      ]
     },
     "execution_count": 37,
     "metadata": {},
     "output_type": "execute_result"
    },
    {
     "data": {
      "image/png": "[encoded data removed]",
      "text/plain": [
       "<Figure size 720x360 with 1 Axes>"
      ]
     },
     "metadata": {
      "needs_background": "light"
     },
     "output_type": "display_data"
    }
   ],
   "source": [
    "#data.sort_values('last_price').plot(x = 'last_price',y = 'rooms',kind = 'scatter', alpha=0.3 )\n",
    "#('Коэфициент корриляции цена-кол-во комнат=',data['last_price'].corr(data['rooms']))\n",
    "data.pivot_table(index = 'rooms', values = 'last_price', aggfunc = 'mean')\\\n",
    "    .plot(kind = 'bar',figsize=(10,5))"
   ]
  },
  {
   "cell_type": "code",
   "execution_count": 38,
   "metadata": {},
   "outputs": [
    {
     "data": {
      "text/plain": [
       "'Коэфициент корриляции цена-месяц ='"
      ]
     },
     "metadata": {},
     "output_type": "display_data"
    },
    {
     "data": {
      "text/plain": [
       "0.0002154613291751138"
      ]
     },
     "metadata": {},
     "output_type": "display_data"
    },
    {
     "data": {
      "text/plain": [
       "<AxesSubplot:xlabel='month_exposition'>"
      ]
     },
     "execution_count": 38,
     "metadata": {},
     "output_type": "execute_result"
    },
    {
     "data": {
      "image/png": "[encoded data removed]",
      "text/plain": [
       "<Figure size 720x360 with 1 Axes>"
      ]
     },
     "metadata": {
      "needs_background": "light"
     },
     "output_type": "display_data"
    }
   ],
   "source": [
    "#data.sort_values('last_price').plot(x = 'last_price',y = 'month_exposition',kind = 'scatter', alpha=0.3 )\n",
    "display ('Коэфициент корриляции цена-месяц =',data['last_price'].corr(data['month_exposition']))\n",
    "data.pivot_table(index = 'month_exposition', values = 'last_price', aggfunc = 'mean')\\\n",
    "    .plot(kind = 'bar',figsize=(10,5))"
   ]
  },
  {
   "cell_type": "code",
   "execution_count": 39,
   "metadata": {},
   "outputs": [
    {
     "data": {
      "text/plain": [
       "<AxesSubplot:xlabel='year_exposition'>"
      ]
     },
     "execution_count": 39,
     "metadata": {},
     "output_type": "execute_result"
    },
    {
     "data": {
      "image/png": "[encoded data removed]",
      "text/plain": [
       "<Figure size 720x360 with 1 Axes>"
      ]
     },
     "metadata": {
      "needs_background": "light"
     },
     "output_type": "display_data"
    }
   ],
   "source": [
    "#data.sort_values('last_price').plot(x = 'last_price',y = 'year_exposition',kind = 'scatter', alpha=0.3 )\n",
    "#('Коэфициент корриляции цена-год =',data['last_price'].corr(data['year_exposition']))\n",
    "data.pivot_table(index = 'year_exposition', values = 'last_price', aggfunc = 'mean')\\\n",
    "    .plot(kind = 'bar',figsize=(10,5))"
   ]
  },
  {
   "cell_type": "code",
   "execution_count": 40,
   "metadata": {},
   "outputs": [
    {
     "data": {
      "text/plain": [
       "<AxesSubplot:xlabel='weekday_exposition'>"
      ]
     },
     "execution_count": 40,
     "metadata": {},
     "output_type": "execute_result"
    },
    {
     "data": {
      "image/png": "[encoded data removed]",
      "text/plain": [
       "<Figure size 720x360 with 1 Axes>"
      ]
     },
     "metadata": {
      "needs_background": "light"
     },
     "output_type": "display_data"
    }
   ],
   "source": [
    "#data.sort_values('last_price').plot(x = 'last_price',y = 'weekday_exposition',kind = 'scatter', alpha=0.3 )\n",
    "#('Коэфициент корриляции цена-день недели =',data['last_price'].corr(data['weekday_exposition']))\n",
    "data.pivot_table(index = 'weekday_exposition', values = 'last_price', aggfunc = 'mean')\\\n",
    "    .plot(kind = 'bar',figsize=(10,5))"
   ]
  },
  {
   "cell_type": "markdown",
   "metadata": {},
   "source": [
    "Используя метод plot и вычислив коэффициент корреляции методом corr пришли к следующим выводам. Коэфициенты корриляции цена-общ.площадь, цена-жилая площадь, цена-площадь кухни близки к 0.5, это говорит о зависимости этих величин друг от друга. В меньшей зависиомсти соотношение цена-кол-во комнат. А от даты дубликации( месяца, года и дня недели) нет никакой зависимости."
   ]
  },
  {
   "cell_type": "markdown",
   "metadata": {
    "id": "h7VpzkIDAwb-"
   },
   "source": [
    "## Общий вывод"
   ]
  },
  {
   "cell_type": "markdown",
   "metadata": {
    "id": "3H4lnp_KAwb-"
   },
   "source": [
    "При анализе данных с продолжительностью публикации до продажи, выявлено: \n",
    "есть выбросы в исследуемом столбце - это значения более шестиста дней,\n",
    "медийное значение 95 дней, среднее значение 180 дней. Самые быстрые продажи до 50 дней.\n",
    "\n",
    "На гистограмме видно, что наибольшее колличество продаж в диапазоне до 90 дней. \n",
    "\n",
    "Построили сводную таблицу, сгруппированную по названиям населенных пунктов и посчитали среднюю стоимость квадратного метра по каждому пункту.\n",
    "\n",
    "Проведение анализа для Ленинградской области показало, что самая высокая средняя цена за квадратный метр в Санкт-Петербурге. Она соаставляет 114849.01 руб. Самая низкая цена из 10 наиболее частоупоминаемых в обьявлениях цена в Выборге. Там средняя цена квадратного метра 58141.91 руб. Ниже почти в два раза максимальной цены.\n",
    "\n",
    "При проведении анализа для Санкт-Петербурга выявили, что на  стоимость квадратного метра влияет удаленность квартиры от центра. Самая высокая стоимость в предалах 10 км от центра.\n",
    "\n",
    "Изучили факторы, которые больше всего влияют на общую (полную) стоимость объекта, опираясь на данные графиков и коэффициентов корреляции.\n",
    "Т.к коэффиценты  у общая площадь; жилая площадь; площадь кухни; количество комнат; тип этажа около 0.5 они влияют на общую стоимость жилья.\n",
    "Наибольшее влияние показателя с общей площадью. \n",
    "Месяц, год и день недели публикации на стоимость не влияют.\n",
    "\n"
   ]
  }
 ],
 "metadata": {
  "ExecuteTimeLog": [
   {
    "duration": 807,
    "start_time": "2024-01-02T14:21:04.223Z"
   },
   {
    "duration": 49,
    "start_time": "2024-01-02T14:25:12.693Z"
   },
   {
    "duration": 488,
    "start_time": "2024-01-02T14:25:27.069Z"
   },
   {
    "duration": 1823,
    "start_time": "2024-01-02T14:45:03.398Z"
   },
   {
    "duration": 1677,
    "start_time": "2024-01-02T15:53:11.249Z"
   },
   {
    "duration": 13,
    "start_time": "2024-01-02T15:53:23.602Z"
   },
   {
    "duration": 78,
    "start_time": "2024-01-02T18:32:19.707Z"
   },
   {
    "duration": 73,
    "start_time": "2024-01-03T15:29:51.880Z"
   },
   {
    "duration": 2876,
    "start_time": "2024-01-03T15:30:12.672Z"
   },
   {
    "duration": 69,
    "start_time": "2024-01-03T15:30:20.945Z"
   },
   {
    "duration": 15,
    "start_time": "2024-01-03T15:30:52.232Z"
   },
   {
    "duration": 19,
    "start_time": "2024-01-03T15:31:54.338Z"
   },
   {
    "duration": 10,
    "start_time": "2024-01-03T16:19:16.244Z"
   },
   {
    "duration": 9,
    "start_time": "2024-01-03T16:26:15.637Z"
   },
   {
    "duration": 8,
    "start_time": "2024-01-03T16:27:37.393Z"
   },
   {
    "duration": 72,
    "start_time": "2024-01-03T16:28:01.079Z"
   },
   {
    "duration": 11,
    "start_time": "2024-01-03T16:28:23.705Z"
   },
   {
    "duration": 79,
    "start_time": "2024-01-03T16:29:26.812Z"
   },
   {
    "duration": 8,
    "start_time": "2024-01-03T16:29:54.125Z"
   },
   {
    "duration": 15,
    "start_time": "2024-01-03T16:30:42.980Z"
   },
   {
    "duration": 10,
    "start_time": "2024-01-03T16:50:53.584Z"
   },
   {
    "duration": 52,
    "start_time": "2024-01-03T16:52:43.402Z"
   },
   {
    "duration": 39,
    "start_time": "2024-01-03T17:07:06.939Z"
   },
   {
    "duration": 13,
    "start_time": "2024-01-03T17:42:00.716Z"
   },
   {
    "duration": 12,
    "start_time": "2024-01-03T18:31:23.234Z"
   },
   {
    "duration": 2050,
    "start_time": "2024-01-03T18:35:57.688Z"
   },
   {
    "duration": 12,
    "start_time": "2024-01-03T18:38:41.287Z"
   },
   {
    "duration": 55,
    "start_time": "2024-01-04T14:56:16.646Z"
   },
   {
    "duration": 3188,
    "start_time": "2024-01-04T14:56:27.736Z"
   },
   {
    "duration": 21,
    "start_time": "2024-01-04T14:56:35.712Z"
   },
   {
    "duration": 1109,
    "start_time": "2024-01-04T15:23:51.544Z"
   },
   {
    "duration": 1895,
    "start_time": "2024-01-04T15:24:04.809Z"
   },
   {
    "duration": 1144,
    "start_time": "2024-01-04T15:24:11.871Z"
   },
   {
    "duration": 12,
    "start_time": "2024-01-04T15:24:24.145Z"
   },
   {
    "duration": 51,
    "start_time": "2024-01-04T17:31:20.412Z"
   },
   {
    "duration": 2937,
    "start_time": "2024-01-04T17:31:47.277Z"
   },
   {
    "duration": 34,
    "start_time": "2024-01-04T17:31:58.074Z"
   },
   {
    "duration": 25,
    "start_time": "2024-01-04T17:32:18.407Z"
   },
   {
    "duration": 41,
    "start_time": "2024-01-04T17:48:29.947Z"
   },
   {
    "duration": 33,
    "start_time": "2024-01-04T17:49:54.299Z"
   },
   {
    "duration": 2001,
    "start_time": "2024-01-04T17:50:01.183Z"
   },
   {
    "duration": 30,
    "start_time": "2024-01-04T17:50:08.924Z"
   },
   {
    "duration": 225,
    "start_time": "2024-01-04T18:19:47.434Z"
   },
   {
    "duration": 223,
    "start_time": "2024-01-04T18:22:08.741Z"
   },
   {
    "duration": 248,
    "start_time": "2024-01-04T18:26:06.308Z"
   },
   {
    "duration": 298,
    "start_time": "2024-01-04T18:28:52.627Z"
   },
   {
    "duration": 289,
    "start_time": "2024-01-04T18:30:22.130Z"
   },
   {
    "duration": 319,
    "start_time": "2024-01-04T18:31:43.645Z"
   },
   {
    "duration": 53,
    "start_time": "2024-01-05T18:00:24.389Z"
   },
   {
    "duration": 2893,
    "start_time": "2024-01-05T18:00:31.729Z"
   },
   {
    "duration": 284,
    "start_time": "2024-01-05T18:00:41.323Z"
   },
   {
    "duration": 4,
    "start_time": "2024-01-05T18:00:47.592Z"
   },
   {
    "duration": 4,
    "start_time": "2024-01-05T18:01:34.394Z"
   },
   {
    "duration": 1186,
    "start_time": "2024-01-05T18:07:29.010Z"
   },
   {
    "duration": 271,
    "start_time": "2024-01-05T18:15:04.138Z"
   },
   {
    "duration": 97,
    "start_time": "2024-01-05T18:15:13.172Z"
   },
   {
    "duration": 4,
    "start_time": "2024-01-05T18:15:31.731Z"
   },
   {
    "duration": 7,
    "start_time": "2024-01-05T18:16:15.749Z"
   },
   {
    "duration": 46,
    "start_time": "2024-01-06T19:03:14.832Z"
   },
   {
    "duration": 2875,
    "start_time": "2024-01-06T19:06:22.374Z"
   },
   {
    "duration": 296,
    "start_time": "2024-01-06T19:06:34.782Z"
   },
   {
    "duration": 27,
    "start_time": "2024-01-06T19:07:00.392Z"
   },
   {
    "duration": 2856,
    "start_time": "2024-01-07T06:13:14.450Z"
   },
   {
    "duration": 301,
    "start_time": "2024-01-07T06:13:37.991Z"
   },
   {
    "duration": 29,
    "start_time": "2024-01-07T06:13:45.755Z"
   },
   {
    "duration": 27,
    "start_time": "2024-01-07T06:17:12.215Z"
   },
   {
    "duration": 27,
    "start_time": "2024-01-07T06:18:32.755Z"
   },
   {
    "duration": 2965,
    "start_time": "2024-01-07T15:38:48.465Z"
   },
   {
    "duration": 311,
    "start_time": "2024-01-07T15:38:57.467Z"
   },
   {
    "duration": 76,
    "start_time": "2024-01-07T15:39:09.995Z"
   },
   {
    "duration": 72,
    "start_time": "2024-01-07T15:40:05.478Z"
   },
   {
    "duration": 106,
    "start_time": "2024-01-07T15:40:26.509Z"
   },
   {
    "duration": 84,
    "start_time": "2024-01-07T15:58:01.257Z"
   },
   {
    "duration": 80,
    "start_time": "2024-01-07T16:00:35.280Z"
   },
   {
    "duration": 2141,
    "start_time": "2024-01-07T16:01:06.686Z"
   },
   {
    "duration": 312,
    "start_time": "2024-01-07T16:01:15.263Z"
   },
   {
    "duration": 74,
    "start_time": "2024-01-07T16:01:25.804Z"
   },
   {
    "duration": 104,
    "start_time": "2024-01-07T16:17:24.628Z"
   },
   {
    "duration": 37,
    "start_time": "2024-01-07T16:21:00.272Z"
   },
   {
    "duration": 2052,
    "start_time": "2024-01-07T16:24:29.920Z"
   },
   {
    "duration": 34,
    "start_time": "2024-01-07T16:24:43.270Z"
   },
   {
    "duration": 302,
    "start_time": "2024-01-07T16:38:10.853Z"
   },
   {
    "duration": 79,
    "start_time": "2024-01-07T16:38:35.514Z"
   },
   {
    "duration": 78,
    "start_time": "2024-01-07T16:40:05.556Z"
   },
   {
    "duration": 294,
    "start_time": "2024-01-07T16:43:32.611Z"
   },
   {
    "duration": 301,
    "start_time": "2024-01-07T16:44:27.474Z"
   },
   {
    "duration": 100,
    "start_time": "2024-01-07T16:58:15.271Z"
   },
   {
    "duration": 93,
    "start_time": "2024-01-07T17:11:37.180Z"
   },
   {
    "duration": 92,
    "start_time": "2024-01-07T17:22:29.238Z"
   },
   {
    "duration": 86,
    "start_time": "2024-01-07T17:24:29.310Z"
   },
   {
    "duration": 83,
    "start_time": "2024-01-07T17:30:31.134Z"
   },
   {
    "duration": 74,
    "start_time": "2024-01-07T17:30:56.774Z"
   },
   {
    "duration": 5,
    "start_time": "2024-01-07T17:38:12.280Z"
   },
   {
    "duration": 1882,
    "start_time": "2024-01-07T17:39:25.120Z"
   },
   {
    "duration": 422,
    "start_time": "2024-01-07T17:39:36.393Z"
   },
   {
    "duration": 6,
    "start_time": "2024-01-07T17:39:47.714Z"
   },
   {
    "duration": 5,
    "start_time": "2024-01-07T17:40:30.871Z"
   },
   {
    "duration": 6,
    "start_time": "2024-01-07T17:42:41.992Z"
   },
   {
    "duration": 6,
    "start_time": "2024-01-07T17:43:31.400Z"
   },
   {
    "duration": 5,
    "start_time": "2024-01-07T17:44:43.489Z"
   },
   {
    "duration": 9,
    "start_time": "2024-01-07T17:45:07.153Z"
   },
   {
    "duration": 5,
    "start_time": "2024-01-07T17:45:25.127Z"
   },
   {
    "duration": 1880,
    "start_time": "2024-01-07T17:45:55.318Z"
   },
   {
    "duration": 296,
    "start_time": "2024-01-07T17:46:01.335Z"
   },
   {
    "duration": 4,
    "start_time": "2024-01-07T17:46:10.305Z"
   },
   {
    "duration": 28,
    "start_time": "2024-01-07T17:47:24.776Z"
   },
   {
    "duration": 31,
    "start_time": "2024-01-07T17:47:59.739Z"
   },
   {
    "duration": 27,
    "start_time": "2024-01-07T17:48:19.873Z"
   },
   {
    "duration": 75,
    "start_time": "2024-01-07T17:48:46.549Z"
   },
   {
    "duration": 5,
    "start_time": "2024-01-07T17:49:13.736Z"
   },
   {
    "duration": 76,
    "start_time": "2024-01-07T17:49:47.651Z"
   },
   {
    "duration": 5,
    "start_time": "2024-01-07T17:50:15.422Z"
   },
   {
    "duration": 5,
    "start_time": "2024-01-07T17:51:39.777Z"
   },
   {
    "duration": 7,
    "start_time": "2024-01-07T17:52:28.262Z"
   },
   {
    "duration": 89,
    "start_time": "2024-01-07T17:53:01.354Z"
   },
   {
    "duration": 28,
    "start_time": "2024-01-07T17:54:17.375Z"
   },
   {
    "duration": 243,
    "start_time": "2024-01-07T17:54:46.858Z"
   },
   {
    "duration": 243,
    "start_time": "2024-01-07T17:55:22.369Z"
   },
   {
    "duration": 243,
    "start_time": "2024-01-07T17:59:45.258Z"
   },
   {
    "duration": 249,
    "start_time": "2024-01-07T18:54:05.274Z"
   },
   {
    "duration": 101,
    "start_time": "2024-01-07T19:06:57.984Z"
   },
   {
    "duration": 242,
    "start_time": "2024-01-07T19:07:20.596Z"
   },
   {
    "duration": 234,
    "start_time": "2024-01-07T19:08:36.339Z"
   },
   {
    "duration": 221,
    "start_time": "2024-01-07T19:09:28.962Z"
   },
   {
    "duration": 107,
    "start_time": "2024-01-07T19:14:45.149Z"
   },
   {
    "duration": 1525,
    "start_time": "2024-01-07T19:15:00.268Z"
   },
   {
    "duration": 254,
    "start_time": "2024-01-07T19:16:35.204Z"
   },
   {
    "duration": 259,
    "start_time": "2024-01-07T19:20:19.041Z"
   },
   {
    "duration": 249,
    "start_time": "2024-01-07T19:20:55.984Z"
   },
   {
    "duration": 232,
    "start_time": "2024-01-07T19:21:18.454Z"
   },
   {
    "duration": 226,
    "start_time": "2024-01-07T19:21:42.236Z"
   },
   {
    "duration": 227,
    "start_time": "2024-01-07T19:22:11.499Z"
   },
   {
    "duration": 232,
    "start_time": "2024-01-07T19:22:49.342Z"
   },
   {
    "duration": 226,
    "start_time": "2024-01-07T19:24:08.346Z"
   },
   {
    "duration": 82,
    "start_time": "2024-01-07T19:29:11.705Z"
   },
   {
    "duration": 3,
    "start_time": "2024-01-07T19:29:25.082Z"
   },
   {
    "duration": 3160,
    "start_time": "2024-01-08T06:34:08.628Z"
   },
   {
    "duration": 334,
    "start_time": "2024-01-08T06:34:18.860Z"
   },
   {
    "duration": 242,
    "start_time": "2024-01-08T06:34:26.228Z"
   },
   {
    "duration": 4,
    "start_time": "2024-01-08T06:34:38.328Z"
   },
   {
    "duration": 266,
    "start_time": "2024-01-08T06:40:42.484Z"
   },
   {
    "duration": 4,
    "start_time": "2024-01-08T06:41:07.760Z"
   },
   {
    "duration": 276,
    "start_time": "2024-01-08T06:43:04.033Z"
   },
   {
    "duration": 4,
    "start_time": "2024-01-08T06:45:48.630Z"
   },
   {
    "duration": 138,
    "start_time": "2024-01-08T06:47:15.204Z"
   },
   {
    "duration": 263,
    "start_time": "2024-01-08T06:50:45.872Z"
   },
   {
    "duration": 146,
    "start_time": "2024-01-08T06:50:52.674Z"
   },
   {
    "duration": 139,
    "start_time": "2024-01-08T06:52:08.948Z"
   },
   {
    "duration": 136,
    "start_time": "2024-01-08T06:53:52.748Z"
   },
   {
    "duration": 139,
    "start_time": "2024-01-08T06:54:20.801Z"
   },
   {
    "duration": 237,
    "start_time": "2024-01-08T07:58:26.555Z"
   },
   {
    "duration": 272,
    "start_time": "2024-01-08T07:59:16.429Z"
   },
   {
    "duration": 266,
    "start_time": "2024-01-08T07:59:26.731Z"
   },
   {
    "duration": 243,
    "start_time": "2024-01-08T07:59:33.462Z"
   },
   {
    "duration": 131,
    "start_time": "2024-01-08T07:59:41.587Z"
   },
   {
    "duration": 1871,
    "start_time": "2024-01-08T08:00:33.529Z"
   },
   {
    "duration": 364,
    "start_time": "2024-01-08T08:00:42.077Z"
   },
   {
    "duration": 237,
    "start_time": "2024-01-08T08:00:52.531Z"
   },
   {
    "duration": 151,
    "start_time": "2024-01-08T08:00:59.806Z"
   },
   {
    "duration": 256,
    "start_time": "2024-01-08T08:26:54.519Z"
   },
   {
    "duration": 245,
    "start_time": "2024-01-08T08:27:08.920Z"
   },
   {
    "duration": 141,
    "start_time": "2024-01-08T08:27:20.730Z"
   },
   {
    "duration": 1839,
    "start_time": "2024-01-08T08:27:37.539Z"
   },
   {
    "duration": 213,
    "start_time": "2024-01-08T08:27:44.323Z"
   },
   {
    "duration": 278,
    "start_time": "2024-01-08T08:28:32.266Z"
   },
   {
    "duration": 241,
    "start_time": "2024-01-08T08:28:42.072Z"
   },
   {
    "duration": 145,
    "start_time": "2024-01-08T08:28:53.240Z"
   },
   {
    "duration": 1819,
    "start_time": "2024-01-08T08:29:42.572Z"
   },
   {
    "duration": 277,
    "start_time": "2024-01-08T08:29:52.202Z"
   },
   {
    "duration": 260,
    "start_time": "2024-01-08T08:30:02.641Z"
   },
   {
    "duration": 144,
    "start_time": "2024-01-08T08:30:10.068Z"
   },
   {
    "duration": 141,
    "start_time": "2024-01-08T08:31:15.596Z"
   },
   {
    "duration": 268,
    "start_time": "2024-01-08T08:31:41.742Z"
   },
   {
    "duration": 141,
    "start_time": "2024-01-08T08:34:49.609Z"
   },
   {
    "duration": 142,
    "start_time": "2024-01-08T08:36:58.660Z"
   },
   {
    "duration": 111,
    "start_time": "2024-01-08T08:39:53.236Z"
   },
   {
    "duration": 149,
    "start_time": "2024-01-08T08:47:45.612Z"
   },
   {
    "duration": 174,
    "start_time": "2024-01-08T08:55:08.893Z"
   },
   {
    "duration": 135,
    "start_time": "2024-01-08T08:55:40.115Z"
   },
   {
    "duration": 128,
    "start_time": "2024-01-08T08:56:25.114Z"
   },
   {
    "duration": 133,
    "start_time": "2024-01-08T08:56:54.381Z"
   },
   {
    "duration": 2082,
    "start_time": "2024-01-08T08:58:08.316Z"
   },
   {
    "duration": 259,
    "start_time": "2024-01-08T08:58:15.860Z"
   },
   {
    "duration": 248,
    "start_time": "2024-01-08T08:58:25.757Z"
   },
   {
    "duration": 136,
    "start_time": "2024-01-08T08:58:31.661Z"
   },
   {
    "duration": 177,
    "start_time": "2024-01-08T08:59:56.676Z"
   },
   {
    "duration": 192,
    "start_time": "2024-01-08T09:08:19.113Z"
   },
   {
    "duration": 195,
    "start_time": "2024-01-08T09:09:03.543Z"
   },
   {
    "duration": 132,
    "start_time": "2024-01-08T09:21:40.325Z"
   },
   {
    "duration": 138,
    "start_time": "2024-01-08T09:22:03.382Z"
   },
   {
    "duration": 173,
    "start_time": "2024-01-08T09:49:27.675Z"
   },
   {
    "duration": 3064,
    "start_time": "2024-01-08T11:34:24.054Z"
   },
   {
    "duration": 307,
    "start_time": "2024-01-08T11:34:38.359Z"
   },
   {
    "duration": 303,
    "start_time": "2024-01-08T11:34:48.966Z"
   },
   {
    "duration": 158,
    "start_time": "2024-01-08T11:34:58.340Z"
   },
   {
    "duration": 281,
    "start_time": "2024-01-08T11:37:16.416Z"
   },
   {
    "duration": 221,
    "start_time": "2024-01-08T11:47:07.008Z"
   },
   {
    "duration": 339,
    "start_time": "2024-01-08T11:47:26.751Z"
   },
   {
    "duration": 414,
    "start_time": "2024-01-08T11:48:56.247Z"
   },
   {
    "duration": 347,
    "start_time": "2024-01-08T11:49:33.864Z"
   },
   {
    "duration": 302,
    "start_time": "2024-01-08T11:50:44.958Z"
   },
   {
    "duration": 299,
    "start_time": "2024-01-08T11:51:40.807Z"
   },
   {
    "duration": 309,
    "start_time": "2024-01-08T11:52:06.509Z"
   },
   {
    "duration": 325,
    "start_time": "2024-01-08T11:53:36.774Z"
   },
   {
    "duration": 354,
    "start_time": "2024-01-08T11:56:15.580Z"
   },
   {
    "duration": 423,
    "start_time": "2024-01-08T12:22:54.091Z"
   },
   {
    "duration": 75,
    "start_time": "2024-01-08T12:24:39.092Z"
   },
   {
    "duration": 323,
    "start_time": "2024-01-08T12:24:58.234Z"
   },
   {
    "duration": 321,
    "start_time": "2024-01-08T12:26:10.585Z"
   },
   {
    "duration": 531,
    "start_time": "2024-01-08T12:31:06.067Z"
   },
   {
    "duration": 700,
    "start_time": "2024-01-08T12:33:28.177Z"
   },
   {
    "duration": 1053,
    "start_time": "2024-01-08T12:36:17.882Z"
   },
   {
    "duration": 1498,
    "start_time": "2024-01-08T12:38:28.321Z"
   },
   {
    "duration": 1101,
    "start_time": "2024-01-08T12:40:22.115Z"
   },
   {
    "duration": 10,
    "start_time": "2024-01-08T12:52:06.442Z"
   },
   {
    "duration": 11,
    "start_time": "2024-01-08T12:53:41.261Z"
   },
   {
    "duration": 973,
    "start_time": "2024-01-08T12:55:02.098Z"
   },
   {
    "duration": 1038,
    "start_time": "2024-01-08T12:56:50.504Z"
   },
   {
    "duration": 1106,
    "start_time": "2024-01-08T12:58:07.786Z"
   },
   {
    "duration": 1265,
    "start_time": "2024-01-08T13:00:44.056Z"
   },
   {
    "duration": 1531,
    "start_time": "2024-01-08T13:02:01.761Z"
   },
   {
    "duration": 1598,
    "start_time": "2024-01-08T13:03:33.645Z"
   },
   {
    "duration": 1705,
    "start_time": "2024-01-08T13:29:31.993Z"
   },
   {
    "duration": 90,
    "start_time": "2024-01-08T13:32:31.689Z"
   },
   {
    "duration": 1642,
    "start_time": "2024-01-08T13:37:46.851Z"
   },
   {
    "duration": 1594,
    "start_time": "2024-01-08T13:40:04.628Z"
   },
   {
    "duration": 250,
    "start_time": "2024-01-08T13:44:31.272Z"
   },
   {
    "duration": 1780,
    "start_time": "2024-01-08T13:45:05.672Z"
   },
   {
    "duration": 78,
    "start_time": "2024-01-08T13:53:09.923Z"
   },
   {
    "duration": 1631,
    "start_time": "2024-01-08T13:54:19.988Z"
   },
   {
    "duration": 1764,
    "start_time": "2024-01-08T13:54:43.418Z"
   },
   {
    "duration": 1716,
    "start_time": "2024-01-08T13:56:20.054Z"
   },
   {
    "duration": 2365,
    "start_time": "2024-01-08T13:57:07.959Z"
   },
   {
    "duration": 2419,
    "start_time": "2024-01-08T13:57:22.841Z"
   },
   {
    "duration": 2190,
    "start_time": "2024-01-08T13:58:20.086Z"
   },
   {
    "duration": 375,
    "start_time": "2024-01-08T13:58:30.537Z"
   },
   {
    "duration": 271,
    "start_time": "2024-01-08T13:58:43.000Z"
   },
   {
    "duration": 1963,
    "start_time": "2024-01-08T13:59:10.395Z"
   },
   {
    "duration": 2219,
    "start_time": "2024-01-08T14:03:36.678Z"
   },
   {
    "duration": 1927,
    "start_time": "2024-01-08T14:05:01.816Z"
   },
   {
    "duration": 1921,
    "start_time": "2024-01-08T14:11:51.821Z"
   },
   {
    "duration": 1645,
    "start_time": "2024-01-08T14:13:00.963Z"
   },
   {
    "duration": 1622,
    "start_time": "2024-01-08T14:13:52.389Z"
   },
   {
    "duration": 3042,
    "start_time": "2024-01-08T14:16:00.097Z"
   },
   {
    "duration": 1722,
    "start_time": "2024-01-08T14:18:07.769Z"
   },
   {
    "duration": 2161,
    "start_time": "2024-01-08T14:18:54.677Z"
   },
   {
    "duration": 340,
    "start_time": "2024-01-08T14:19:01.951Z"
   },
   {
    "duration": 287,
    "start_time": "2024-01-08T14:19:11.927Z"
   },
   {
    "duration": 1695,
    "start_time": "2024-01-08T14:19:21.648Z"
   },
   {
    "duration": 1879,
    "start_time": "2024-01-08T14:21:43.352Z"
   },
   {
    "duration": 1769,
    "start_time": "2024-01-08T14:35:50.823Z"
   },
   {
    "duration": 1665,
    "start_time": "2024-01-08T14:36:07.465Z"
   },
   {
    "duration": 1676,
    "start_time": "2024-01-08T14:36:46.359Z"
   },
   {
    "duration": 1632,
    "start_time": "2024-01-08T14:37:25.598Z"
   },
   {
    "duration": 2005,
    "start_time": "2024-01-08T14:37:59.052Z"
   },
   {
    "duration": 1687,
    "start_time": "2024-01-08T14:49:59.617Z"
   },
   {
    "duration": 86,
    "start_time": "2024-01-08T14:50:28.696Z"
   },
   {
    "duration": 2768,
    "start_time": "2024-01-08T14:50:49.858Z"
   },
   {
    "duration": 1956,
    "start_time": "2024-01-08T14:51:08.105Z"
   },
   {
    "duration": 93,
    "start_time": "2024-01-08T14:57:32.926Z"
   },
   {
    "duration": 1736,
    "start_time": "2024-01-08T14:57:59.435Z"
   },
   {
    "duration": 81,
    "start_time": "2024-01-08T14:58:43.859Z"
   },
   {
    "duration": 89,
    "start_time": "2024-01-08T14:59:20.760Z"
   },
   {
    "duration": 82,
    "start_time": "2024-01-08T14:59:37.280Z"
   },
   {
    "duration": 1815,
    "start_time": "2024-01-08T15:01:34.120Z"
   },
   {
    "duration": 1638,
    "start_time": "2024-01-08T15:56:35.461Z"
   },
   {
    "duration": 1900,
    "start_time": "2024-01-08T16:22:21.944Z"
   },
   {
    "duration": 84,
    "start_time": "2024-01-08T16:46:08.998Z"
   },
   {
    "duration": 1894,
    "start_time": "2024-01-08T16:46:18.181Z"
   },
   {
    "duration": 2014,
    "start_time": "2024-01-08T16:47:15.566Z"
   },
   {
    "duration": 2123,
    "start_time": "2024-01-08T16:47:46.885Z"
   },
   {
    "duration": 1841,
    "start_time": "2024-01-08T16:51:26.187Z"
   },
   {
    "duration": 1866,
    "start_time": "2024-01-08T16:52:02.354Z"
   },
   {
    "duration": 1828,
    "start_time": "2024-01-08T16:53:34.276Z"
   },
   {
    "duration": 1968,
    "start_time": "2024-01-08T16:56:48.174Z"
   },
   {
    "duration": 1723,
    "start_time": "2024-01-08T16:57:19.653Z"
   },
   {
    "duration": 2812,
    "start_time": "2024-01-08T17:02:37.497Z"
   },
   {
    "duration": 3131,
    "start_time": "2024-01-08T17:03:00.176Z"
   },
   {
    "duration": 1785,
    "start_time": "2024-01-08T17:03:54.384Z"
   },
   {
    "duration": 1637,
    "start_time": "2024-01-08T17:05:06.271Z"
   },
   {
    "duration": 1728,
    "start_time": "2024-01-08T17:09:34.860Z"
   },
   {
    "duration": 3289,
    "start_time": "2024-01-08T17:09:51.210Z"
   },
   {
    "duration": 2286,
    "start_time": "2024-01-08T17:14:30.617Z"
   },
   {
    "duration": 1906,
    "start_time": "2024-01-08T17:15:03.196Z"
   },
   {
    "duration": 2170,
    "start_time": "2024-01-08T17:19:51.443Z"
   },
   {
    "duration": 1675,
    "start_time": "2024-01-08T17:37:53.260Z"
   },
   {
    "duration": 2914,
    "start_time": "2024-01-08T18:22:12.945Z"
   },
   {
    "duration": 298,
    "start_time": "2024-01-08T18:22:15.861Z"
   },
   {
    "duration": 274,
    "start_time": "2024-01-08T18:22:16.161Z"
   },
   {
    "duration": 1671,
    "start_time": "2024-01-08T18:22:16.436Z"
   },
   {
    "duration": 3466,
    "start_time": "2024-01-09T12:02:44.786Z"
   },
   {
    "duration": 2222,
    "start_time": "2024-01-09T12:51:08.119Z"
   },
   {
    "duration": 341,
    "start_time": "2024-01-09T12:51:43.901Z"
   },
   {
    "duration": 3021,
    "start_time": "2024-01-09T13:51:45.187Z"
   },
   {
    "duration": 374,
    "start_time": "2024-01-09T13:51:48.210Z"
   },
   {
    "duration": 124,
    "start_time": "2024-01-09T13:51:48.600Z"
   },
   {
    "duration": 0,
    "start_time": "2024-01-09T13:51:48.727Z"
   },
   {
    "duration": 2982,
    "start_time": "2024-01-10T11:30:50.754Z"
   },
   {
    "duration": 275,
    "start_time": "2024-01-10T11:31:04.819Z"
   },
   {
    "duration": 83,
    "start_time": "2024-01-10T11:31:19.949Z"
   },
   {
    "duration": 255,
    "start_time": "2024-01-10T11:33:30.398Z"
   },
   {
    "duration": 1641,
    "start_time": "2024-01-10T11:33:51.211Z"
   },
   {
    "duration": 3,
    "start_time": "2024-01-10T12:36:17.766Z"
   },
   {
    "duration": 2,
    "start_time": "2024-01-10T12:38:33.740Z"
   },
   {
    "duration": 126,
    "start_time": "2024-01-10T12:38:39.148Z"
   },
   {
    "duration": 1857,
    "start_time": "2024-01-10T12:38:48.990Z"
   },
   {
    "duration": 3,
    "start_time": "2024-01-10T13:01:57.315Z"
   },
   {
    "duration": 126,
    "start_time": "2024-01-10T13:02:03.467Z"
   },
   {
    "duration": 1888,
    "start_time": "2024-01-10T13:02:11.540Z"
   },
   {
    "duration": 8,
    "start_time": "2024-01-10T13:02:23.469Z"
   },
   {
    "duration": 30,
    "start_time": "2024-01-10T13:02:31.900Z"
   },
   {
    "duration": 253,
    "start_time": "2024-01-10T13:02:42.332Z"
   },
   {
    "duration": 5,
    "start_time": "2024-01-10T13:02:50.381Z"
   },
   {
    "duration": 8,
    "start_time": "2024-01-10T13:07:11.068Z"
   },
   {
    "duration": 29,
    "start_time": "2024-01-10T13:07:23.668Z"
   },
   {
    "duration": 231,
    "start_time": "2024-01-10T13:07:31.443Z"
   },
   {
    "duration": 7,
    "start_time": "2024-01-10T13:07:40.187Z"
   },
   {
    "duration": 37,
    "start_time": "2024-01-10T13:48:01.858Z"
   },
   {
    "duration": 100,
    "start_time": "2024-01-11T08:55:24.821Z"
   },
   {
    "duration": 444,
    "start_time": "2024-01-11T12:33:03.449Z"
   },
   {
    "duration": 195,
    "start_time": "2024-01-11T12:33:13.579Z"
   },
   {
    "duration": 2549,
    "start_time": "2024-01-11T12:33:21.732Z"
   },
   {
    "duration": 10,
    "start_time": "2024-01-11T12:33:32.438Z"
   },
   {
    "duration": 37,
    "start_time": "2024-01-11T12:33:38.553Z"
   },
   {
    "duration": 266,
    "start_time": "2024-01-11T12:33:48.122Z"
   },
   {
    "duration": 5,
    "start_time": "2024-01-11T12:33:59.210Z"
   },
   {
    "duration": 8,
    "start_time": "2024-01-11T12:34:06.453Z"
   },
   {
    "duration": 33,
    "start_time": "2024-01-11T12:34:12.963Z"
   },
   {
    "duration": 245,
    "start_time": "2024-01-11T12:34:22.103Z"
   },
   {
    "duration": 7,
    "start_time": "2024-01-11T12:34:30.032Z"
   },
   {
    "duration": 74,
    "start_time": "2024-01-11T12:34:40.081Z"
   },
   {
    "duration": 94,
    "start_time": "2024-01-11T12:35:50.236Z"
   },
   {
    "duration": 1816,
    "start_time": "2024-01-11T12:36:13.540Z"
   },
   {
    "duration": 1828,
    "start_time": "2024-01-11T12:39:57.892Z"
   },
   {
    "duration": 1785,
    "start_time": "2024-01-11T12:44:10.212Z"
   },
   {
    "duration": 1846,
    "start_time": "2024-01-11T12:44:58.174Z"
   },
   {
    "duration": 86,
    "start_time": "2024-01-11T12:46:17.412Z"
   },
   {
    "duration": 1722,
    "start_time": "2024-01-11T12:46:30.257Z"
   },
   {
    "duration": 1857,
    "start_time": "2024-01-11T12:47:10.642Z"
   },
   {
    "duration": 20,
    "start_time": "2024-01-11T12:56:51.640Z"
   },
   {
    "duration": 1688,
    "start_time": "2024-01-11T12:56:59.992Z"
   },
   {
    "duration": 10,
    "start_time": "2024-01-11T13:02:43.055Z"
   },
   {
    "duration": 8,
    "start_time": "2024-01-11T13:03:45.200Z"
   },
   {
    "duration": 8,
    "start_time": "2024-01-11T13:04:37.327Z"
   },
   {
    "duration": 80,
    "start_time": "2024-01-11T13:08:15.566Z"
   },
   {
    "duration": 11,
    "start_time": "2024-01-11T13:08:37.034Z"
   },
   {
    "duration": 10,
    "start_time": "2024-01-11T13:08:42.873Z"
   },
   {
    "duration": 74,
    "start_time": "2024-01-11T13:10:18.372Z"
   },
   {
    "duration": 10,
    "start_time": "2024-01-11T13:10:31.565Z"
   },
   {
    "duration": 8,
    "start_time": "2024-01-11T13:11:05.985Z"
   },
   {
    "duration": 10,
    "start_time": "2024-01-11T13:25:42.342Z"
   },
   {
    "duration": 212,
    "start_time": "2024-01-11T13:28:02.607Z"
   },
   {
    "duration": 402,
    "start_time": "2024-01-11T13:35:17.130Z"
   },
   {
    "duration": 395,
    "start_time": "2024-01-11T13:37:20.818Z"
   },
   {
    "duration": 432,
    "start_time": "2024-01-12T13:48:16.827Z"
   },
   {
    "duration": 145,
    "start_time": "2024-01-12T13:48:17.260Z"
   },
   {
    "duration": 2071,
    "start_time": "2024-01-12T13:48:17.407Z"
   },
   {
    "duration": 9,
    "start_time": "2024-01-12T13:48:19.480Z"
   },
   {
    "duration": 45,
    "start_time": "2024-01-12T13:48:19.490Z"
   },
   {
    "duration": 267,
    "start_time": "2024-01-12T13:48:19.537Z"
   },
   {
    "duration": 5,
    "start_time": "2024-01-12T13:48:19.806Z"
   },
   {
    "duration": 21,
    "start_time": "2024-01-12T13:48:19.812Z"
   },
   {
    "duration": 37,
    "start_time": "2024-01-12T13:48:19.835Z"
   },
   {
    "duration": 222,
    "start_time": "2024-01-12T13:48:19.874Z"
   },
   {
    "duration": 6,
    "start_time": "2024-01-12T13:48:20.098Z"
   },
   {
    "duration": 28,
    "start_time": "2024-01-12T13:48:20.106Z"
   },
   {
    "duration": 371,
    "start_time": "2024-01-12T13:48:20.136Z"
   },
   {
    "duration": 1637,
    "start_time": "2024-01-12T13:48:20.508Z"
   },
   {
    "duration": 69,
    "start_time": "2024-01-12T13:53:27.495Z"
   },
   {
    "duration": 10,
    "start_time": "2024-01-12T13:53:30.688Z"
   },
   {
    "duration": 17,
    "start_time": "2024-01-12T13:54:15.073Z"
   },
   {
    "duration": 14,
    "start_time": "2024-01-12T13:57:03.596Z"
   },
   {
    "duration": 77,
    "start_time": "2024-01-12T17:03:34.752Z"
   },
   {
    "duration": 77,
    "start_time": "2024-01-12T17:04:42.320Z"
   },
   {
    "duration": 42,
    "start_time": "2024-01-12T17:04:58.222Z"
   },
   {
    "duration": 7,
    "start_time": "2024-01-12T17:05:10.038Z"
   },
   {
    "duration": 388,
    "start_time": "2024-01-12T17:05:21.173Z"
   },
   {
    "duration": 341,
    "start_time": "2024-01-12T17:05:31.248Z"
   },
   {
    "duration": 445,
    "start_time": "2024-01-12T17:05:47.208Z"
   },
   {
    "duration": 280,
    "start_time": "2024-01-12T17:11:21.534Z"
   },
   {
    "duration": 36,
    "start_time": "2024-01-12T17:11:37.065Z"
   },
   {
    "duration": 238,
    "start_time": "2024-01-12T17:11:51.334Z"
   },
   {
    "duration": 6,
    "start_time": "2024-01-12T17:12:16.605Z"
   },
   {
    "duration": 15,
    "start_time": "2024-01-12T17:20:49.270Z"
   },
   {
    "duration": 32,
    "start_time": "2024-01-12T17:21:15.506Z"
   },
   {
    "duration": 264,
    "start_time": "2024-01-12T17:21:27.057Z"
   },
   {
    "duration": 5,
    "start_time": "2024-01-12T17:21:39.808Z"
   },
   {
    "duration": 23,
    "start_time": "2024-01-12T17:21:43.752Z"
   },
   {
    "duration": 8,
    "start_time": "2024-01-12T17:36:10.288Z"
   },
   {
    "duration": 56,
    "start_time": "2024-01-13T06:45:12.197Z"
   },
   {
    "duration": 407,
    "start_time": "2024-01-13T06:46:13.291Z"
   },
   {
    "duration": 359,
    "start_time": "2024-01-13T06:46:28.360Z"
   },
   {
    "duration": 512,
    "start_time": "2024-01-13T06:46:41.297Z"
   },
   {
    "duration": 42,
    "start_time": "2024-01-13T06:46:52.301Z"
   },
   {
    "duration": 285,
    "start_time": "2024-01-13T06:47:00.354Z"
   },
   {
    "duration": 5,
    "start_time": "2024-01-13T06:47:14.617Z"
   },
   {
    "duration": 23,
    "start_time": "2024-01-13T06:47:21.515Z"
   },
   {
    "duration": 8,
    "start_time": "2024-01-13T06:47:34.138Z"
   },
   {
    "duration": 33,
    "start_time": "2024-01-13T06:47:45.180Z"
   },
   {
    "duration": 263,
    "start_time": "2024-01-13T06:47:54.460Z"
   },
   {
    "duration": 10,
    "start_time": "2024-01-13T06:48:09.916Z"
   },
   {
    "duration": 1227,
    "start_time": "2024-01-13T06:48:17.854Z"
   },
   {
    "duration": 134,
    "start_time": "2024-01-13T06:48:30.533Z"
   },
   {
    "duration": 144,
    "start_time": "2024-01-13T06:48:46.386Z"
   },
   {
    "duration": 155,
    "start_time": "2024-01-13T06:49:08.062Z"
   },
   {
    "duration": 234,
    "start_time": "2024-01-13T06:49:29.514Z"
   },
   {
    "duration": 187,
    "start_time": "2024-01-13T06:53:59.587Z"
   },
   {
    "duration": 194,
    "start_time": "2024-01-13T06:55:40.781Z"
   },
   {
    "duration": 192,
    "start_time": "2024-01-13T06:56:44.344Z"
   },
   {
    "duration": 207,
    "start_time": "2024-01-13T07:16:22.187Z"
   },
   {
    "duration": 829,
    "start_time": "2024-01-13T07:16:45.465Z"
   },
   {
    "duration": 841,
    "start_time": "2024-01-13T07:17:22.301Z"
   },
   {
    "duration": 765,
    "start_time": "2024-01-13T07:18:43.477Z"
   },
   {
    "duration": 738,
    "start_time": "2024-01-13T07:19:07.059Z"
   },
   {
    "duration": 817,
    "start_time": "2024-01-13T07:20:09.106Z"
   },
   {
    "duration": 944,
    "start_time": "2024-01-13T07:20:41.621Z"
   },
   {
    "duration": 823,
    "start_time": "2024-01-13T07:21:15.652Z"
   },
   {
    "duration": 797,
    "start_time": "2024-01-13T07:21:30.237Z"
   },
   {
    "duration": 869,
    "start_time": "2024-01-13T07:21:41.577Z"
   },
   {
    "duration": 996,
    "start_time": "2024-01-13T07:21:55.934Z"
   },
   {
    "duration": 911,
    "start_time": "2024-01-13T07:49:20.169Z"
   },
   {
    "duration": 162,
    "start_time": "2024-01-13T07:49:44.817Z"
   },
   {
    "duration": 139,
    "start_time": "2024-01-13T08:01:28.035Z"
   },
   {
    "duration": 143,
    "start_time": "2024-01-13T08:02:31.638Z"
   },
   {
    "duration": 13,
    "start_time": "2024-01-13T08:03:14.583Z"
   },
   {
    "duration": 13,
    "start_time": "2024-01-13T08:06:30.925Z"
   },
   {
    "duration": 12,
    "start_time": "2024-01-13T08:07:18.157Z"
   },
   {
    "duration": 11,
    "start_time": "2024-01-13T08:08:25.615Z"
   },
   {
    "duration": 903,
    "start_time": "2024-01-13T08:09:00.886Z"
   },
   {
    "duration": 8,
    "start_time": "2024-01-13T08:13:37.377Z"
   },
   {
    "duration": 471,
    "start_time": "2024-01-13T08:14:33.734Z"
   },
   {
    "duration": 484,
    "start_time": "2024-01-13T08:15:37.803Z"
   },
   {
    "duration": 506,
    "start_time": "2024-01-13T08:16:07.942Z"
   },
   {
    "duration": 229,
    "start_time": "2024-01-13T08:16:34.082Z"
   },
   {
    "duration": 263,
    "start_time": "2024-01-13T08:17:27.090Z"
   },
   {
    "duration": 17,
    "start_time": "2024-01-13T08:18:38.942Z"
   },
   {
    "duration": 14,
    "start_time": "2024-01-13T08:19:36.356Z"
   },
   {
    "duration": 1153,
    "start_time": "2024-01-13T08:31:00.894Z"
   },
   {
    "duration": 963,
    "start_time": "2024-01-13T08:31:34.205Z"
   },
   {
    "duration": 1024,
    "start_time": "2024-01-13T08:32:27.216Z"
   },
   {
    "duration": 908,
    "start_time": "2024-01-13T08:33:16.208Z"
   },
   {
    "duration": 195,
    "start_time": "2024-01-13T08:39:58.637Z"
   },
   {
    "duration": 189,
    "start_time": "2024-01-13T08:43:08.770Z"
   },
   {
    "duration": 198,
    "start_time": "2024-01-13T08:46:00.705Z"
   },
   {
    "duration": 182,
    "start_time": "2024-01-13T08:47:09.096Z"
   },
   {
    "duration": 215,
    "start_time": "2024-01-13T08:47:37.528Z"
   },
   {
    "duration": 189,
    "start_time": "2024-01-13T08:48:12.034Z"
   },
   {
    "duration": 337,
    "start_time": "2024-01-13T08:48:31.046Z"
   },
   {
    "duration": 187,
    "start_time": "2024-01-13T08:58:48.428Z"
   },
   {
    "duration": 148,
    "start_time": "2024-01-13T08:59:11.065Z"
   },
   {
    "duration": 137,
    "start_time": "2024-01-13T09:01:49.297Z"
   },
   {
    "duration": 127,
    "start_time": "2024-01-13T09:02:03.234Z"
   },
   {
    "duration": 161,
    "start_time": "2024-01-13T09:02:29.974Z"
   },
   {
    "duration": 139,
    "start_time": "2024-01-13T09:02:42.469Z"
   },
   {
    "duration": 124,
    "start_time": "2024-01-13T09:07:20.440Z"
   },
   {
    "duration": 118,
    "start_time": "2024-01-13T09:07:50.750Z"
   },
   {
    "duration": 124,
    "start_time": "2024-01-13T09:08:03.969Z"
   },
   {
    "duration": 122,
    "start_time": "2024-01-13T09:08:35.369Z"
   },
   {
    "duration": 134,
    "start_time": "2024-01-13T09:10:46.877Z"
   },
   {
    "duration": 137,
    "start_time": "2024-01-13T09:11:16.003Z"
   },
   {
    "duration": 137,
    "start_time": "2024-01-13T09:13:53.431Z"
   },
   {
    "duration": 157,
    "start_time": "2024-01-13T09:14:17.189Z"
   },
   {
    "duration": 135,
    "start_time": "2024-01-13T09:14:49.358Z"
   },
   {
    "duration": 282,
    "start_time": "2024-01-13T09:15:16.453Z"
   },
   {
    "duration": 151,
    "start_time": "2024-01-13T09:15:50.516Z"
   },
   {
    "duration": 162,
    "start_time": "2024-01-13T09:16:15.756Z"
   },
   {
    "duration": 171,
    "start_time": "2024-01-13T09:18:52.627Z"
   },
   {
    "duration": 177,
    "start_time": "2024-01-13T09:19:09.021Z"
   },
   {
    "duration": 204,
    "start_time": "2024-01-13T09:29:02.740Z"
   },
   {
    "duration": 204,
    "start_time": "2024-01-13T09:29:50.283Z"
   },
   {
    "duration": 208,
    "start_time": "2024-01-13T09:30:34.673Z"
   },
   {
    "duration": 198,
    "start_time": "2024-01-13T09:30:47.163Z"
   },
   {
    "duration": 222,
    "start_time": "2024-01-13T09:31:32.273Z"
   },
   {
    "duration": 210,
    "start_time": "2024-01-13T09:32:46.354Z"
   },
   {
    "duration": 232,
    "start_time": "2024-01-13T09:33:37.442Z"
   },
   {
    "duration": 224,
    "start_time": "2024-01-13T09:34:40.616Z"
   },
   {
    "duration": 231,
    "start_time": "2024-01-13T09:34:59.319Z"
   },
   {
    "duration": 209,
    "start_time": "2024-01-13T09:35:22.319Z"
   },
   {
    "duration": 219,
    "start_time": "2024-01-13T09:35:53.575Z"
   },
   {
    "duration": 196,
    "start_time": "2024-01-13T09:36:06.087Z"
   },
   {
    "duration": 210,
    "start_time": "2024-01-13T09:36:23.056Z"
   },
   {
    "duration": 217,
    "start_time": "2024-01-13T09:36:27.030Z"
   },
   {
    "duration": 1185,
    "start_time": "2024-01-13T09:36:38.294Z"
   },
   {
    "duration": 31,
    "start_time": "2024-01-13T09:38:14.442Z"
   },
   {
    "duration": 1381,
    "start_time": "2024-01-13T09:41:15.099Z"
   },
   {
    "duration": 1193,
    "start_time": "2024-01-13T09:41:49.255Z"
   },
   {
    "duration": 1271,
    "start_time": "2024-01-13T09:42:37.968Z"
   },
   {
    "duration": 3,
    "start_time": "2024-01-13T09:42:51.598Z"
   },
   {
    "duration": 1193,
    "start_time": "2024-01-13T09:43:09.767Z"
   },
   {
    "duration": 7,
    "start_time": "2024-01-13T09:43:51.973Z"
   },
   {
    "duration": 139,
    "start_time": "2024-01-13T09:44:00.613Z"
   },
   {
    "duration": 2211,
    "start_time": "2024-01-13T09:44:14.038Z"
   },
   {
    "duration": 49,
    "start_time": "2024-01-13T09:44:30.542Z"
   },
   {
    "duration": 31,
    "start_time": "2024-01-13T09:44:47.640Z"
   },
   {
    "duration": 302,
    "start_time": "2024-01-13T09:45:02.141Z"
   },
   {
    "duration": 7,
    "start_time": "2024-01-13T09:45:14.750Z"
   },
   {
    "duration": 16,
    "start_time": "2024-01-13T09:45:19.630Z"
   },
   {
    "duration": 8,
    "start_time": "2024-01-13T09:45:30.481Z"
   },
   {
    "duration": 43,
    "start_time": "2024-01-13T09:45:39.319Z"
   },
   {
    "duration": 245,
    "start_time": "2024-01-13T09:45:48.878Z"
   },
   {
    "duration": 9,
    "start_time": "2024-01-13T09:45:55.413Z"
   },
   {
    "duration": 1123,
    "start_time": "2024-01-13T09:46:10.437Z"
   },
   {
    "duration": 14,
    "start_time": "2024-01-13T09:46:54.902Z"
   },
   {
    "duration": 431,
    "start_time": "2024-01-13T09:47:39.253Z"
   },
   {
    "duration": 8,
    "start_time": "2024-01-13T09:47:54.534Z"
   },
   {
    "duration": 11,
    "start_time": "2024-01-13T09:48:24.823Z"
   },
   {
    "duration": 17,
    "start_time": "2024-01-13T09:48:51.124Z"
   },
   {
    "duration": 409,
    "start_time": "2024-01-13T10:03:22.621Z"
   },
   {
    "duration": 10,
    "start_time": "2024-01-13T10:06:21.713Z"
   },
   {
    "duration": 79,
    "start_time": "2024-01-13T10:11:36.209Z"
   },
   {
    "duration": 79,
    "start_time": "2024-01-13T10:11:56.097Z"
   },
   {
    "duration": 81,
    "start_time": "2024-01-13T10:12:39.496Z"
   },
   {
    "duration": 75,
    "start_time": "2024-01-13T10:13:07.106Z"
   },
   {
    "duration": 81,
    "start_time": "2024-01-13T10:13:33.273Z"
   },
   {
    "duration": 76,
    "start_time": "2024-01-13T10:13:52.162Z"
   },
   {
    "duration": 77,
    "start_time": "2024-01-13T10:15:31.800Z"
   },
   {
    "duration": 156,
    "start_time": "2024-01-13T10:16:20.335Z"
   },
   {
    "duration": 166,
    "start_time": "2024-01-13T10:17:15.385Z"
   },
   {
    "duration": 161,
    "start_time": "2024-01-13T10:20:25.391Z"
   },
   {
    "duration": 150,
    "start_time": "2024-01-13T10:22:10.033Z"
   },
   {
    "duration": 8,
    "start_time": "2024-01-13T10:22:13.782Z"
   },
   {
    "duration": 78,
    "start_time": "2024-01-13T10:50:14.818Z"
   },
   {
    "duration": 83,
    "start_time": "2024-01-13T10:50:28.378Z"
   },
   {
    "duration": 77,
    "start_time": "2024-01-13T10:51:37.448Z"
   },
   {
    "duration": 18,
    "start_time": "2024-01-13T10:52:06.831Z"
   },
   {
    "duration": 12,
    "start_time": "2024-01-13T10:52:25.117Z"
   },
   {
    "duration": 4,
    "start_time": "2024-01-13T10:52:43.826Z"
   },
   {
    "duration": 14,
    "start_time": "2024-01-13T10:52:50.925Z"
   },
   {
    "duration": 13,
    "start_time": "2024-01-13T10:53:24.039Z"
   },
   {
    "duration": 14,
    "start_time": "2024-01-13T10:53:47.415Z"
   },
   {
    "duration": 441,
    "start_time": "2024-01-13T12:40:28.582Z"
   },
   {
    "duration": 366,
    "start_time": "2024-01-13T12:40:29.025Z"
   },
   {
    "duration": 2114,
    "start_time": "2024-01-13T12:40:29.393Z"
   },
   {
    "duration": 55,
    "start_time": "2024-01-13T12:40:31.509Z"
   },
   {
    "duration": 36,
    "start_time": "2024-01-13T12:40:31.565Z"
   },
   {
    "duration": 267,
    "start_time": "2024-01-13T12:40:31.603Z"
   },
   {
    "duration": 4,
    "start_time": "2024-01-13T12:40:31.871Z"
   },
   {
    "duration": 54,
    "start_time": "2024-01-13T12:40:31.877Z"
   },
   {
    "duration": 13,
    "start_time": "2024-01-13T12:40:31.933Z"
   },
   {
    "duration": 39,
    "start_time": "2024-01-13T12:40:31.949Z"
   },
   {
    "duration": 224,
    "start_time": "2024-01-13T12:40:31.989Z"
   },
   {
    "duration": 7,
    "start_time": "2024-01-13T12:40:32.214Z"
   },
   {
    "duration": 260,
    "start_time": "2024-01-13T12:40:32.223Z"
   },
   {
    "duration": 0,
    "start_time": "2024-01-13T12:40:32.485Z"
   },
   {
    "duration": 0,
    "start_time": "2024-01-13T12:40:32.486Z"
   },
   {
    "duration": 0,
    "start_time": "2024-01-13T12:40:32.487Z"
   },
   {
    "duration": 0,
    "start_time": "2024-01-13T12:40:32.488Z"
   },
   {
    "duration": 0,
    "start_time": "2024-01-13T12:40:32.490Z"
   },
   {
    "duration": 0,
    "start_time": "2024-01-13T12:40:32.491Z"
   },
   {
    "duration": 0,
    "start_time": "2024-01-13T12:40:32.492Z"
   },
   {
    "duration": 0,
    "start_time": "2024-01-13T12:40:32.493Z"
   },
   {
    "duration": 0,
    "start_time": "2024-01-13T12:40:32.494Z"
   },
   {
    "duration": 0,
    "start_time": "2024-01-13T12:40:32.495Z"
   },
   {
    "duration": 0,
    "start_time": "2024-01-13T12:40:32.496Z"
   },
   {
    "duration": 0,
    "start_time": "2024-01-13T12:40:32.515Z"
   },
   {
    "duration": 1,
    "start_time": "2024-01-13T12:40:32.515Z"
   },
   {
    "duration": 0,
    "start_time": "2024-01-13T12:40:32.517Z"
   },
   {
    "duration": 0,
    "start_time": "2024-01-13T12:40:32.518Z"
   },
   {
    "duration": 0,
    "start_time": "2024-01-13T12:40:32.519Z"
   },
   {
    "duration": 0,
    "start_time": "2024-01-13T12:40:32.520Z"
   },
   {
    "duration": 0,
    "start_time": "2024-01-13T12:40:32.521Z"
   },
   {
    "duration": 0,
    "start_time": "2024-01-13T12:40:32.521Z"
   },
   {
    "duration": 0,
    "start_time": "2024-01-13T12:40:32.522Z"
   },
   {
    "duration": 0,
    "start_time": "2024-01-13T12:40:32.524Z"
   },
   {
    "duration": 0,
    "start_time": "2024-01-13T12:40:32.525Z"
   },
   {
    "duration": 654,
    "start_time": "2024-01-13T12:41:27.200Z"
   },
   {
    "duration": 139,
    "start_time": "2024-01-13T12:41:27.856Z"
   },
   {
    "duration": 1950,
    "start_time": "2024-01-13T12:41:27.997Z"
   },
   {
    "duration": 57,
    "start_time": "2024-01-13T12:41:29.949Z"
   },
   {
    "duration": 36,
    "start_time": "2024-01-13T12:41:30.007Z"
   },
   {
    "duration": 248,
    "start_time": "2024-01-13T12:41:30.044Z"
   },
   {
    "duration": 5,
    "start_time": "2024-01-13T12:41:30.294Z"
   },
   {
    "duration": 50,
    "start_time": "2024-01-13T12:41:30.300Z"
   },
   {
    "duration": 19,
    "start_time": "2024-01-13T12:41:30.352Z"
   },
   {
    "duration": 61,
    "start_time": "2024-01-13T12:41:30.374Z"
   },
   {
    "duration": 242,
    "start_time": "2024-01-13T12:41:30.436Z"
   },
   {
    "duration": 7,
    "start_time": "2024-01-13T12:41:30.680Z"
   },
   {
    "duration": 966,
    "start_time": "2024-01-13T12:41:30.689Z"
   },
   {
    "duration": 184,
    "start_time": "2024-01-13T12:41:31.657Z"
   },
   {
    "duration": 274,
    "start_time": "2024-01-13T12:41:31.843Z"
   },
   {
    "duration": 187,
    "start_time": "2024-01-13T12:41:32.118Z"
   },
   {
    "duration": 150,
    "start_time": "2024-01-13T12:41:32.307Z"
   },
   {
    "duration": 140,
    "start_time": "2024-01-13T12:41:32.459Z"
   },
   {
    "duration": 17,
    "start_time": "2024-01-13T12:41:32.601Z"
   },
   {
    "duration": 130,
    "start_time": "2024-01-13T12:41:32.620Z"
   },
   {
    "duration": 144,
    "start_time": "2024-01-13T12:41:32.751Z"
   },
   {
    "duration": 162,
    "start_time": "2024-01-13T12:41:32.897Z"
   },
   {
    "duration": 159,
    "start_time": "2024-01-13T12:41:33.060Z"
   },
   {
    "duration": 25,
    "start_time": "2024-01-13T12:41:33.220Z"
   },
   {
    "duration": 14,
    "start_time": "2024-01-13T12:41:33.246Z"
   },
   {
    "duration": 1682,
    "start_time": "2024-01-13T12:41:33.262Z"
   },
   {
    "duration": 0,
    "start_time": "2024-01-13T12:41:34.946Z"
   },
   {
    "duration": 0,
    "start_time": "2024-01-13T12:41:34.947Z"
   },
   {
    "duration": 0,
    "start_time": "2024-01-13T12:41:34.948Z"
   },
   {
    "duration": 0,
    "start_time": "2024-01-13T12:41:34.949Z"
   },
   {
    "duration": 0,
    "start_time": "2024-01-13T12:41:34.951Z"
   },
   {
    "duration": 0,
    "start_time": "2024-01-13T12:41:34.952Z"
   },
   {
    "duration": 0,
    "start_time": "2024-01-13T12:41:34.953Z"
   },
   {
    "duration": 0,
    "start_time": "2024-01-13T12:41:34.954Z"
   },
   {
    "duration": 0,
    "start_time": "2024-01-13T12:41:34.954Z"
   },
   {
    "duration": 58,
    "start_time": "2024-01-13T15:44:02.257Z"
   },
   {
    "duration": 758,
    "start_time": "2024-01-13T15:45:05.795Z"
   },
   {
    "duration": 359,
    "start_time": "2024-01-13T15:45:06.555Z"
   },
   {
    "duration": 1916,
    "start_time": "2024-01-13T15:45:06.915Z"
   },
   {
    "duration": 56,
    "start_time": "2024-01-13T15:45:08.833Z"
   },
   {
    "duration": 37,
    "start_time": "2024-01-13T15:45:08.892Z"
   },
   {
    "duration": 271,
    "start_time": "2024-01-13T15:45:08.931Z"
   },
   {
    "duration": 6,
    "start_time": "2024-01-13T15:45:09.203Z"
   },
   {
    "duration": 14,
    "start_time": "2024-01-13T15:45:09.210Z"
   },
   {
    "duration": 8,
    "start_time": "2024-01-13T15:45:09.225Z"
   },
   {
    "duration": 65,
    "start_time": "2024-01-13T15:45:09.234Z"
   },
   {
    "duration": 256,
    "start_time": "2024-01-13T15:45:09.301Z"
   },
   {
    "duration": 12,
    "start_time": "2024-01-13T15:45:09.558Z"
   },
   {
    "duration": 894,
    "start_time": "2024-01-13T15:45:09.571Z"
   },
   {
    "duration": 183,
    "start_time": "2024-01-13T15:45:10.468Z"
   },
   {
    "duration": 275,
    "start_time": "2024-01-13T15:45:10.653Z"
   },
   {
    "duration": 180,
    "start_time": "2024-01-13T15:45:10.930Z"
   },
   {
    "duration": 156,
    "start_time": "2024-01-13T15:45:11.111Z"
   },
   {
    "duration": 147,
    "start_time": "2024-01-13T15:45:11.268Z"
   },
   {
    "duration": 11,
    "start_time": "2024-01-13T15:45:11.417Z"
   },
   {
    "duration": 123,
    "start_time": "2024-01-13T15:45:11.430Z"
   },
   {
    "duration": 140,
    "start_time": "2024-01-13T15:45:11.554Z"
   },
   {
    "duration": 159,
    "start_time": "2024-01-13T15:45:11.696Z"
   },
   {
    "duration": 171,
    "start_time": "2024-01-13T15:45:11.856Z"
   },
   {
    "duration": 36,
    "start_time": "2024-01-13T15:45:12.029Z"
   },
   {
    "duration": 13,
    "start_time": "2024-01-13T15:45:12.067Z"
   },
   {
    "duration": 398,
    "start_time": "2024-01-13T15:45:12.081Z"
   },
   {
    "duration": 145,
    "start_time": "2024-01-13T15:45:12.480Z"
   },
   {
    "duration": 20,
    "start_time": "2024-01-13T15:45:12.627Z"
   },
   {
    "duration": 202,
    "start_time": "2024-01-13T15:45:12.649Z"
   },
   {
    "duration": 295,
    "start_time": "2024-01-13T15:45:12.853Z"
   },
   {
    "duration": 197,
    "start_time": "2024-01-13T15:45:13.151Z"
   },
   {
    "duration": 211,
    "start_time": "2024-01-13T15:45:13.350Z"
   },
   {
    "duration": 192,
    "start_time": "2024-01-13T15:45:13.564Z"
   },
   {
    "duration": 218,
    "start_time": "2024-01-13T15:45:13.758Z"
   },
   {
    "duration": 198,
    "start_time": "2024-01-13T15:45:13.977Z"
   },
   {
    "duration": 142,
    "start_time": "2024-01-13T15:54:57.495Z"
   },
   {
    "duration": 173,
    "start_time": "2024-01-13T16:07:23.515Z"
   },
   {
    "duration": 231,
    "start_time": "2024-01-13T16:08:04.106Z"
   },
   {
    "duration": 279,
    "start_time": "2024-01-13T16:11:05.331Z"
   },
   {
    "duration": 368,
    "start_time": "2024-01-13T16:12:14.079Z"
   },
   {
    "duration": 314,
    "start_time": "2024-01-13T16:33:15.506Z"
   },
   {
    "duration": 281,
    "start_time": "2024-01-13T16:34:11.824Z"
   },
   {
    "duration": 873,
    "start_time": "2024-01-13T16:40:00.088Z"
   },
   {
    "duration": 963,
    "start_time": "2024-01-13T16:41:32.211Z"
   },
   {
    "duration": 979,
    "start_time": "2024-01-13T16:42:28.960Z"
   },
   {
    "duration": 90,
    "start_time": "2024-01-13T16:55:37.371Z"
   },
   {
    "duration": 8,
    "start_time": "2024-01-13T16:55:48.207Z"
   },
   {
    "duration": 7,
    "start_time": "2024-01-13T16:56:07.986Z"
   },
   {
    "duration": 744,
    "start_time": "2024-01-13T17:00:25.176Z"
   },
   {
    "duration": 418,
    "start_time": "2024-01-13T17:00:48.322Z"
   },
   {
    "duration": 311,
    "start_time": "2024-01-13T17:01:18.999Z"
   },
   {
    "duration": 308,
    "start_time": "2024-01-13T17:04:04.569Z"
   },
   {
    "duration": 8,
    "start_time": "2024-01-13T17:17:53.288Z"
   },
   {
    "duration": 31,
    "start_time": "2024-01-13T17:18:32.863Z"
   },
   {
    "duration": 613,
    "start_time": "2024-01-13T17:19:54.086Z"
   },
   {
    "duration": 1370,
    "start_time": "2024-01-13T17:21:05.853Z"
   },
   {
    "duration": 1191,
    "start_time": "2024-01-13T17:21:45.997Z"
   },
   {
    "duration": 1724,
    "start_time": "2024-01-13T17:27:52.442Z"
   },
   {
    "duration": 17,
    "start_time": "2024-01-13T17:29:56.847Z"
   },
   {
    "duration": 24,
    "start_time": "2024-01-13T17:30:14.042Z"
   },
   {
    "duration": 23,
    "start_time": "2024-01-13T17:30:41.212Z"
   },
   {
    "duration": 626,
    "start_time": "2024-01-13T17:31:09.363Z"
   },
   {
    "duration": 137,
    "start_time": "2024-01-13T17:31:09.991Z"
   },
   {
    "duration": 1913,
    "start_time": "2024-01-13T17:31:10.130Z"
   },
   {
    "duration": 55,
    "start_time": "2024-01-13T17:31:12.045Z"
   },
   {
    "duration": 36,
    "start_time": "2024-01-13T17:31:12.103Z"
   },
   {
    "duration": 264,
    "start_time": "2024-01-13T17:31:12.140Z"
   },
   {
    "duration": 6,
    "start_time": "2024-01-13T17:31:12.406Z"
   },
   {
    "duration": 20,
    "start_time": "2024-01-13T17:31:12.413Z"
   },
   {
    "duration": 8,
    "start_time": "2024-01-13T17:31:12.435Z"
   },
   {
    "duration": 47,
    "start_time": "2024-01-13T17:31:12.445Z"
   },
   {
    "duration": 240,
    "start_time": "2024-01-13T17:31:12.494Z"
   },
   {
    "duration": 8,
    "start_time": "2024-01-13T17:31:12.736Z"
   },
   {
    "duration": 755,
    "start_time": "2024-01-13T17:31:12.746Z"
   },
   {
    "duration": 370,
    "start_time": "2024-01-13T17:31:13.505Z"
   },
   {
    "duration": 23,
    "start_time": "2024-01-13T17:31:13.877Z"
   },
   {
    "duration": 308,
    "start_time": "2024-01-13T17:31:13.902Z"
   },
   {
    "duration": 201,
    "start_time": "2024-01-13T17:31:14.212Z"
   },
   {
    "duration": 182,
    "start_time": "2024-01-13T17:31:14.415Z"
   },
   {
    "duration": 156,
    "start_time": "2024-01-13T17:31:14.599Z"
   },
   {
    "duration": 138,
    "start_time": "2024-01-13T17:31:14.756Z"
   },
   {
    "duration": 12,
    "start_time": "2024-01-13T17:31:14.895Z"
   },
   {
    "duration": 126,
    "start_time": "2024-01-13T17:31:14.908Z"
   },
   {
    "duration": 140,
    "start_time": "2024-01-13T17:31:15.036Z"
   },
   {
    "duration": 154,
    "start_time": "2024-01-13T17:31:15.177Z"
   },
   {
    "duration": 157,
    "start_time": "2024-01-13T17:31:15.332Z"
   },
   {
    "duration": 22,
    "start_time": "2024-01-13T17:31:15.490Z"
   },
   {
    "duration": 16,
    "start_time": "2024-01-13T17:31:15.513Z"
   },
   {
    "duration": 537,
    "start_time": "2024-01-13T17:31:15.531Z"
   },
   {
    "duration": 152,
    "start_time": "2024-01-13T17:31:16.069Z"
   },
   {
    "duration": 16,
    "start_time": "2024-01-13T17:31:16.222Z"
   },
   {
    "duration": 197,
    "start_time": "2024-01-13T17:31:16.239Z"
   },
   {
    "duration": 189,
    "start_time": "2024-01-13T17:31:16.438Z"
   },
   {
    "duration": 186,
    "start_time": "2024-01-13T17:31:16.629Z"
   },
   {
    "duration": 217,
    "start_time": "2024-01-13T17:31:16.816Z"
   },
   {
    "duration": 201,
    "start_time": "2024-01-13T17:31:17.035Z"
   },
   {
    "duration": 207,
    "start_time": "2024-01-13T17:31:17.238Z"
   },
   {
    "duration": 201,
    "start_time": "2024-01-13T17:31:17.447Z"
   },
   {
    "duration": 37,
    "start_time": "2024-01-13T17:32:57.890Z"
   },
   {
    "duration": 111,
    "start_time": "2024-01-13T17:33:29.588Z"
   },
   {
    "duration": 120,
    "start_time": "2024-01-13T17:34:29.733Z"
   },
   {
    "duration": 310,
    "start_time": "2024-01-13T17:34:39.445Z"
   },
   {
    "duration": 371,
    "start_time": "2024-01-13T17:38:22.560Z"
   },
   {
    "duration": 279,
    "start_time": "2024-01-13T17:39:56.474Z"
   },
   {
    "duration": 271,
    "start_time": "2024-01-13T17:40:28.529Z"
   },
   {
    "duration": 279,
    "start_time": "2024-01-13T17:47:01.335Z"
   },
   {
    "duration": 274,
    "start_time": "2024-01-13T17:47:24.485Z"
   },
   {
    "duration": 289,
    "start_time": "2024-01-13T17:47:39.732Z"
   },
   {
    "duration": 380,
    "start_time": "2024-01-13T17:47:55.187Z"
   },
   {
    "duration": 290,
    "start_time": "2024-01-13T17:48:05.396Z"
   },
   {
    "duration": 290,
    "start_time": "2024-01-13T17:48:13.236Z"
   },
   {
    "duration": 351,
    "start_time": "2024-01-13T17:49:08.087Z"
   },
   {
    "duration": 298,
    "start_time": "2024-01-13T17:49:19.070Z"
   },
   {
    "duration": 422,
    "start_time": "2024-01-13T17:51:46.446Z"
   },
   {
    "duration": 325,
    "start_time": "2024-01-13T17:52:03.702Z"
   },
   {
    "duration": 321,
    "start_time": "2024-01-13T17:52:30.730Z"
   },
   {
    "duration": 323,
    "start_time": "2024-01-13T17:53:13.647Z"
   },
   {
    "duration": 302,
    "start_time": "2024-01-13T17:53:43.223Z"
   },
   {
    "duration": 941,
    "start_time": "2024-01-13T18:20:34.002Z"
   },
   {
    "duration": 630,
    "start_time": "2024-01-13T18:23:36.964Z"
   },
   {
    "duration": 130,
    "start_time": "2024-01-13T18:23:37.596Z"
   },
   {
    "duration": 1828,
    "start_time": "2024-01-13T18:23:37.727Z"
   },
   {
    "duration": 54,
    "start_time": "2024-01-13T18:23:39.557Z"
   },
   {
    "duration": 35,
    "start_time": "2024-01-13T18:23:39.613Z"
   },
   {
    "duration": 256,
    "start_time": "2024-01-13T18:23:39.655Z"
   },
   {
    "duration": 5,
    "start_time": "2024-01-13T18:23:39.912Z"
   },
   {
    "duration": 14,
    "start_time": "2024-01-13T18:23:39.918Z"
   },
   {
    "duration": 7,
    "start_time": "2024-01-13T18:23:39.933Z"
   },
   {
    "duration": 28,
    "start_time": "2024-01-13T18:23:39.965Z"
   },
   {
    "duration": 240,
    "start_time": "2024-01-13T18:23:39.994Z"
   },
   {
    "duration": 6,
    "start_time": "2024-01-13T18:23:40.236Z"
   },
   {
    "duration": 716,
    "start_time": "2024-01-13T18:23:40.244Z"
   },
   {
    "duration": 281,
    "start_time": "2024-01-13T18:23:40.965Z"
   },
   {
    "duration": 177,
    "start_time": "2024-01-13T18:23:41.248Z"
   },
   {
    "duration": 305,
    "start_time": "2024-01-13T18:23:41.427Z"
   },
   {
    "duration": 273,
    "start_time": "2024-01-13T18:23:41.733Z"
   },
   {
    "duration": 318,
    "start_time": "2024-01-13T18:23:42.008Z"
   },
   {
    "duration": 142,
    "start_time": "2024-01-13T18:23:42.327Z"
   },
   {
    "duration": 128,
    "start_time": "2024-01-13T18:23:42.471Z"
   },
   {
    "duration": 11,
    "start_time": "2024-01-13T18:23:42.600Z"
   },
   {
    "duration": 126,
    "start_time": "2024-01-13T18:23:42.612Z"
   },
   {
    "duration": 137,
    "start_time": "2024-01-13T18:23:42.739Z"
   },
   {
    "duration": 162,
    "start_time": "2024-01-13T18:23:42.877Z"
   },
   {
    "duration": 246,
    "start_time": "2024-01-13T18:23:43.041Z"
   },
   {
    "duration": 19,
    "start_time": "2024-01-13T18:23:43.289Z"
   },
   {
    "duration": 12,
    "start_time": "2024-01-13T18:23:43.310Z"
   },
   {
    "duration": 395,
    "start_time": "2024-01-13T18:23:43.325Z"
   },
   {
    "duration": 966,
    "start_time": "2024-01-13T18:23:43.721Z"
   },
   {
    "duration": 15,
    "start_time": "2024-01-13T18:23:44.688Z"
   },
   {
    "duration": 203,
    "start_time": "2024-01-13T18:23:44.705Z"
   },
   {
    "duration": 204,
    "start_time": "2024-01-13T18:23:44.909Z"
   },
   {
    "duration": 194,
    "start_time": "2024-01-13T18:23:45.115Z"
   },
   {
    "duration": 207,
    "start_time": "2024-01-13T18:23:45.310Z"
   },
   {
    "duration": 192,
    "start_time": "2024-01-13T18:23:45.519Z"
   },
   {
    "duration": 234,
    "start_time": "2024-01-13T18:23:45.712Z"
   },
   {
    "duration": 209,
    "start_time": "2024-01-13T18:23:45.948Z"
   },
   {
    "duration": 208,
    "start_time": "2024-01-13T18:32:54.238Z"
   },
   {
    "duration": 14599,
    "start_time": "2024-01-13T18:44:58.700Z"
   },
   {
    "duration": 1239,
    "start_time": "2024-01-13T18:45:39.825Z"
   },
   {
    "duration": 61923,
    "start_time": "2024-01-13T18:46:58.364Z"
   },
   {
    "duration": 13,
    "start_time": "2024-01-13T18:58:55.262Z"
   },
   {
    "duration": 15,
    "start_time": "2024-01-13T19:02:41.286Z"
   },
   {
    "duration": 222,
    "start_time": "2024-01-13T19:03:02.278Z"
   },
   {
    "duration": 3,
    "start_time": "2024-01-13T19:03:16.474Z"
   },
   {
    "duration": 122,
    "start_time": "2024-01-13T19:04:52.589Z"
   },
   {
    "duration": 119,
    "start_time": "2024-01-13T19:05:51.606Z"
   },
   {
    "duration": 124,
    "start_time": "2024-01-13T19:06:22.348Z"
   },
   {
    "duration": 139,
    "start_time": "2024-01-13T19:06:45.709Z"
   },
   {
    "duration": 235,
    "start_time": "2024-01-13T19:07:18.869Z"
   },
   {
    "duration": 127,
    "start_time": "2024-01-13T19:07:29.555Z"
   },
   {
    "duration": 130,
    "start_time": "2024-01-13T19:07:48.636Z"
   },
   {
    "duration": 147,
    "start_time": "2024-01-13T19:08:26.432Z"
   },
   {
    "duration": 11,
    "start_time": "2024-01-13T19:10:32.581Z"
   },
   {
    "duration": 326,
    "start_time": "2024-01-13T19:11:12.843Z"
   },
   {
    "duration": 188,
    "start_time": "2024-01-13T19:12:07.045Z"
   },
   {
    "duration": 218,
    "start_time": "2024-01-13T19:12:23.260Z"
   },
   {
    "duration": 179,
    "start_time": "2024-01-13T19:13:09.850Z"
   },
   {
    "duration": 195,
    "start_time": "2024-01-13T19:13:14.643Z"
   },
   {
    "duration": 622,
    "start_time": "2024-01-13T19:13:35.522Z"
   },
   {
    "duration": 131,
    "start_time": "2024-01-13T19:13:36.145Z"
   },
   {
    "duration": 1829,
    "start_time": "2024-01-13T19:13:36.278Z"
   },
   {
    "duration": 55,
    "start_time": "2024-01-13T19:13:38.108Z"
   },
   {
    "duration": 33,
    "start_time": "2024-01-13T19:13:38.165Z"
   },
   {
    "duration": 273,
    "start_time": "2024-01-13T19:13:38.200Z"
   },
   {
    "duration": 4,
    "start_time": "2024-01-13T19:13:38.475Z"
   },
   {
    "duration": 26,
    "start_time": "2024-01-13T19:13:38.481Z"
   },
   {
    "duration": 7,
    "start_time": "2024-01-13T19:13:38.509Z"
   },
   {
    "duration": 42,
    "start_time": "2024-01-13T19:13:38.518Z"
   },
   {
    "duration": 226,
    "start_time": "2024-01-13T19:13:38.561Z"
   },
   {
    "duration": 6,
    "start_time": "2024-01-13T19:13:38.789Z"
   },
   {
    "duration": 686,
    "start_time": "2024-01-13T19:13:38.797Z"
   },
   {
    "duration": 365,
    "start_time": "2024-01-13T19:13:39.486Z"
   },
   {
    "duration": 121,
    "start_time": "2024-01-13T19:13:39.853Z"
   },
   {
    "duration": 319,
    "start_time": "2024-01-13T19:13:39.976Z"
   },
   {
    "duration": 280,
    "start_time": "2024-01-13T19:13:40.297Z"
   },
   {
    "duration": 318,
    "start_time": "2024-01-13T19:13:40.578Z"
   },
   {
    "duration": 150,
    "start_time": "2024-01-13T19:13:40.898Z"
   },
   {
    "duration": 137,
    "start_time": "2024-01-13T19:13:41.050Z"
   },
   {
    "duration": 11,
    "start_time": "2024-01-13T19:13:41.188Z"
   },
   {
    "duration": 123,
    "start_time": "2024-01-13T19:13:41.201Z"
   },
   {
    "duration": 126,
    "start_time": "2024-01-13T19:13:41.326Z"
   },
   {
    "duration": 226,
    "start_time": "2024-01-13T19:13:41.454Z"
   },
   {
    "duration": 151,
    "start_time": "2024-01-13T19:13:41.682Z"
   },
   {
    "duration": 33,
    "start_time": "2024-01-13T19:13:41.834Z"
   },
   {
    "duration": 14,
    "start_time": "2024-01-13T19:13:41.868Z"
   },
   {
    "duration": 394,
    "start_time": "2024-01-13T19:13:41.884Z"
   },
   {
    "duration": 981,
    "start_time": "2024-01-13T19:13:42.279Z"
   },
   {
    "duration": 15,
    "start_time": "2024-01-13T19:13:43.265Z"
   },
   {
    "duration": 208,
    "start_time": "2024-01-13T19:13:43.281Z"
   },
   {
    "duration": 193,
    "start_time": "2024-01-13T19:13:43.490Z"
   },
   {
    "duration": 189,
    "start_time": "2024-01-13T19:13:43.685Z"
   },
   {
    "duration": 191,
    "start_time": "2024-01-13T19:13:43.876Z"
   },
   {
    "duration": 190,
    "start_time": "2024-01-13T19:13:44.069Z"
   },
   {
    "duration": 189,
    "start_time": "2024-01-13T19:13:44.260Z"
   },
   {
    "duration": 316,
    "start_time": "2024-01-13T19:13:44.450Z"
   },
   {
    "duration": 119,
    "start_time": "2024-01-13T19:13:44.768Z"
   },
   {
    "duration": 264,
    "start_time": "2024-01-13T19:13:44.889Z"
   },
   {
    "duration": 177,
    "start_time": "2024-01-13T19:14:10.067Z"
   },
   {
    "duration": 8,
    "start_time": "2024-01-13T19:14:35.885Z"
   },
   {
    "duration": 17,
    "start_time": "2024-01-13T19:20:23.043Z"
   },
   {
    "duration": 80,
    "start_time": "2024-01-13T19:20:38.426Z"
   },
   {
    "duration": 15,
    "start_time": "2024-01-13T19:21:06.257Z"
   },
   {
    "duration": 9,
    "start_time": "2024-01-13T19:21:36.139Z"
   },
   {
    "duration": 16,
    "start_time": "2024-01-13T19:21:55.243Z"
   },
   {
    "duration": 15,
    "start_time": "2024-01-13T19:23:04.163Z"
   },
   {
    "duration": 17,
    "start_time": "2024-01-13T19:27:49.985Z"
   },
   {
    "duration": 8,
    "start_time": "2024-01-13T19:33:32.551Z"
   },
   {
    "duration": 7,
    "start_time": "2024-01-13T19:34:18.623Z"
   },
   {
    "duration": 48,
    "start_time": "2024-01-13T19:38:08.837Z"
   },
   {
    "duration": 53,
    "start_time": "2024-01-13T19:39:19.692Z"
   },
   {
    "duration": 635,
    "start_time": "2024-01-13T19:41:47.034Z"
   },
   {
    "duration": 136,
    "start_time": "2024-01-13T19:41:47.670Z"
   },
   {
    "duration": 1856,
    "start_time": "2024-01-13T19:41:47.807Z"
   },
   {
    "duration": 57,
    "start_time": "2024-01-13T19:41:49.665Z"
   },
   {
    "duration": 53,
    "start_time": "2024-01-13T19:41:49.725Z"
   },
   {
    "duration": 255,
    "start_time": "2024-01-13T19:41:49.780Z"
   },
   {
    "duration": 6,
    "start_time": "2024-01-13T19:41:50.037Z"
   },
   {
    "duration": 46,
    "start_time": "2024-01-13T19:41:50.045Z"
   },
   {
    "duration": 43,
    "start_time": "2024-01-13T19:41:50.092Z"
   },
   {
    "duration": 74,
    "start_time": "2024-01-13T19:41:50.137Z"
   },
   {
    "duration": 226,
    "start_time": "2024-01-13T19:41:50.213Z"
   },
   {
    "duration": 7,
    "start_time": "2024-01-13T19:41:50.442Z"
   },
   {
    "duration": 767,
    "start_time": "2024-01-13T19:41:50.466Z"
   },
   {
    "duration": 359,
    "start_time": "2024-01-13T19:41:51.236Z"
   },
   {
    "duration": 119,
    "start_time": "2024-01-13T19:41:51.597Z"
   },
   {
    "duration": 314,
    "start_time": "2024-01-13T19:41:51.718Z"
   },
   {
    "duration": 295,
    "start_time": "2024-01-13T19:41:52.033Z"
   },
   {
    "duration": 324,
    "start_time": "2024-01-13T19:41:52.329Z"
   },
   {
    "duration": 153,
    "start_time": "2024-01-13T19:41:52.655Z"
   },
   {
    "duration": 145,
    "start_time": "2024-01-13T19:41:52.810Z"
   },
   {
    "duration": 17,
    "start_time": "2024-01-13T19:41:52.958Z"
   },
   {
    "duration": 134,
    "start_time": "2024-01-13T19:41:52.976Z"
   },
   {
    "duration": 128,
    "start_time": "2024-01-13T19:41:53.112Z"
   },
   {
    "duration": 250,
    "start_time": "2024-01-13T19:41:53.242Z"
   },
   {
    "duration": 149,
    "start_time": "2024-01-13T19:41:53.494Z"
   },
   {
    "duration": 26,
    "start_time": "2024-01-13T19:41:53.644Z"
   },
   {
    "duration": 13,
    "start_time": "2024-01-13T19:41:53.671Z"
   },
   {
    "duration": 387,
    "start_time": "2024-01-13T19:41:53.685Z"
   },
   {
    "duration": 980,
    "start_time": "2024-01-13T19:41:54.073Z"
   },
   {
    "duration": 21,
    "start_time": "2024-01-13T19:41:55.054Z"
   },
   {
    "duration": 203,
    "start_time": "2024-01-13T19:41:55.077Z"
   },
   {
    "duration": 203,
    "start_time": "2024-01-13T19:41:55.282Z"
   },
   {
    "duration": 196,
    "start_time": "2024-01-13T19:41:55.486Z"
   },
   {
    "duration": 226,
    "start_time": "2024-01-13T19:41:55.683Z"
   },
   {
    "duration": 213,
    "start_time": "2024-01-13T19:41:55.911Z"
   },
   {
    "duration": 194,
    "start_time": "2024-01-13T19:41:56.126Z"
   },
   {
    "duration": 292,
    "start_time": "2024-01-13T19:41:56.322Z"
   },
   {
    "duration": 132,
    "start_time": "2024-01-13T19:41:56.615Z"
   },
   {
    "duration": 1368,
    "start_time": "2024-01-13T19:41:56.748Z"
   },
   {
    "duration": 1199,
    "start_time": "2024-01-13T19:42:42.791Z"
   },
   {
    "duration": 1217,
    "start_time": "2024-01-13T19:43:27.534Z"
   },
   {
    "duration": 1237,
    "start_time": "2024-01-13T19:43:44.492Z"
   },
   {
    "duration": 1214,
    "start_time": "2024-01-13T19:45:54.390Z"
   },
   {
    "duration": 1305,
    "start_time": "2024-01-13T19:51:30.933Z"
   },
   {
    "duration": 1252,
    "start_time": "2024-01-13T19:52:09.706Z"
   },
   {
    "duration": 1343,
    "start_time": "2024-01-13T19:54:44.083Z"
   },
   {
    "duration": 1707,
    "start_time": "2024-01-13T19:55:03.867Z"
   },
   {
    "duration": 1324,
    "start_time": "2024-01-13T19:55:16.123Z"
   },
   {
    "duration": 1188,
    "start_time": "2024-01-13T19:55:33.850Z"
   },
   {
    "duration": 41,
    "start_time": "2024-01-13T19:56:22.780Z"
   },
   {
    "duration": 41,
    "start_time": "2024-01-13T19:57:08.948Z"
   },
   {
    "duration": 1417,
    "start_time": "2024-01-13T19:57:48.609Z"
   },
   {
    "duration": 70981,
    "start_time": "2024-01-13T20:00:22.899Z"
   },
   {
    "duration": 4565,
    "start_time": "2024-01-13T20:03:01.162Z"
   },
   {
    "duration": 558,
    "start_time": "2024-01-13T20:05:28.992Z"
   },
   {
    "duration": 397,
    "start_time": "2024-01-13T20:08:23.761Z"
   },
   {
    "duration": 149,
    "start_time": "2024-01-13T20:10:44.623Z"
   },
   {
    "duration": 1689,
    "start_time": "2024-01-13T20:11:55.527Z"
   },
   {
    "duration": 2216,
    "start_time": "2024-01-13T20:13:33.790Z"
   },
   {
    "duration": 444,
    "start_time": "2024-01-13T20:14:58.774Z"
   },
   {
    "duration": 19,
    "start_time": "2024-01-13T20:18:04.598Z"
   },
   {
    "duration": 42,
    "start_time": "2024-01-13T20:19:41.998Z"
   },
   {
    "duration": 79,
    "start_time": "2024-01-13T20:21:58.680Z"
   },
   {
    "duration": 1230,
    "start_time": "2024-01-13T20:22:31.107Z"
   },
   {
    "duration": 124,
    "start_time": "2024-01-13T20:22:55.669Z"
   },
   {
    "duration": 126,
    "start_time": "2024-01-13T20:23:45.126Z"
   },
   {
    "duration": 142,
    "start_time": "2024-01-13T20:23:57.311Z"
   },
   {
    "duration": 219,
    "start_time": "2024-01-13T20:24:58.878Z"
   },
   {
    "duration": 116,
    "start_time": "2024-01-13T20:25:29.310Z"
   },
   {
    "duration": 157,
    "start_time": "2024-01-13T20:27:59.581Z"
   },
   {
    "duration": 137,
    "start_time": "2024-01-13T20:28:46.590Z"
   },
   {
    "duration": 248,
    "start_time": "2024-01-13T20:44:20.525Z"
   },
   {
    "duration": 223,
    "start_time": "2024-01-13T20:45:24.212Z"
   },
   {
    "duration": 274,
    "start_time": "2024-01-13T20:46:40.827Z"
   },
   {
    "duration": 264,
    "start_time": "2024-01-13T20:51:50.233Z"
   },
   {
    "duration": 638,
    "start_time": "2024-01-13T21:08:03.467Z"
   },
   {
    "duration": 135,
    "start_time": "2024-01-13T21:08:04.107Z"
   },
   {
    "duration": 1845,
    "start_time": "2024-01-13T21:08:04.244Z"
   },
   {
    "duration": 57,
    "start_time": "2024-01-13T21:08:06.091Z"
   },
   {
    "duration": 34,
    "start_time": "2024-01-13T21:08:06.149Z"
   },
   {
    "duration": 255,
    "start_time": "2024-01-13T21:08:06.184Z"
   },
   {
    "duration": 5,
    "start_time": "2024-01-13T21:08:06.441Z"
   },
   {
    "duration": 35,
    "start_time": "2024-01-13T21:08:06.448Z"
   },
   {
    "duration": 24,
    "start_time": "2024-01-13T21:08:06.485Z"
   },
   {
    "duration": 35,
    "start_time": "2024-01-13T21:08:06.512Z"
   },
   {
    "duration": 243,
    "start_time": "2024-01-13T21:08:06.549Z"
   },
   {
    "duration": 7,
    "start_time": "2024-01-13T21:08:06.793Z"
   },
   {
    "duration": 689,
    "start_time": "2024-01-13T21:08:06.801Z"
   },
   {
    "duration": 309,
    "start_time": "2024-01-13T21:08:07.492Z"
   },
   {
    "duration": 196,
    "start_time": "2024-01-13T21:08:07.802Z"
   },
   {
    "duration": 303,
    "start_time": "2024-01-13T21:08:08.000Z"
   },
   {
    "duration": 275,
    "start_time": "2024-01-13T21:08:08.305Z"
   },
   {
    "duration": 314,
    "start_time": "2024-01-13T21:08:08.581Z"
   },
   {
    "duration": 145,
    "start_time": "2024-01-13T21:08:08.897Z"
   },
   {
    "duration": 148,
    "start_time": "2024-01-13T21:08:09.043Z"
   },
   {
    "duration": 12,
    "start_time": "2024-01-13T21:08:09.192Z"
   },
   {
    "duration": 120,
    "start_time": "2024-01-13T21:08:09.205Z"
   },
   {
    "duration": 251,
    "start_time": "2024-01-13T21:08:09.327Z"
   },
   {
    "duration": 352,
    "start_time": "2024-01-13T21:08:09.580Z"
   },
   {
    "duration": 152,
    "start_time": "2024-01-13T21:08:09.933Z"
   },
   {
    "duration": 19,
    "start_time": "2024-01-13T21:08:10.086Z"
   },
   {
    "duration": 23,
    "start_time": "2024-01-13T21:08:10.106Z"
   },
   {
    "duration": 379,
    "start_time": "2024-01-13T21:08:10.133Z"
   },
   {
    "duration": 997,
    "start_time": "2024-01-13T21:08:10.513Z"
   },
   {
    "duration": 15,
    "start_time": "2024-01-13T21:08:11.512Z"
   },
   {
    "duration": 224,
    "start_time": "2024-01-13T21:08:11.529Z"
   },
   {
    "duration": 199,
    "start_time": "2024-01-13T21:08:11.754Z"
   },
   {
    "duration": 192,
    "start_time": "2024-01-13T21:08:11.954Z"
   },
   {
    "duration": 203,
    "start_time": "2024-01-13T21:08:12.148Z"
   },
   {
    "duration": 200,
    "start_time": "2024-01-13T21:08:12.352Z"
   },
   {
    "duration": 293,
    "start_time": "2024-01-13T21:08:12.554Z"
   },
   {
    "duration": 213,
    "start_time": "2024-01-13T21:08:12.849Z"
   },
   {
    "duration": 124,
    "start_time": "2024-01-13T21:08:13.065Z"
   },
   {
    "duration": 124,
    "start_time": "2024-01-13T21:08:13.190Z"
   },
   {
    "duration": 633,
    "start_time": "2024-01-13T21:09:52.647Z"
   },
   {
    "duration": 135,
    "start_time": "2024-01-13T21:09:53.282Z"
   },
   {
    "duration": 1829,
    "start_time": "2024-01-13T21:09:53.418Z"
   },
   {
    "duration": 54,
    "start_time": "2024-01-13T21:09:55.248Z"
   },
   {
    "duration": 34,
    "start_time": "2024-01-13T21:09:55.304Z"
   },
   {
    "duration": 257,
    "start_time": "2024-01-13T21:09:55.339Z"
   },
   {
    "duration": 4,
    "start_time": "2024-01-13T21:09:55.598Z"
   },
   {
    "duration": 23,
    "start_time": "2024-01-13T21:09:55.603Z"
   },
   {
    "duration": 9,
    "start_time": "2024-01-13T21:09:55.627Z"
   },
   {
    "duration": 47,
    "start_time": "2024-01-13T21:09:55.637Z"
   },
   {
    "duration": 246,
    "start_time": "2024-01-13T21:09:55.685Z"
   },
   {
    "duration": 9,
    "start_time": "2024-01-13T21:09:55.933Z"
   },
   {
    "duration": 714,
    "start_time": "2024-01-13T21:09:55.944Z"
   },
   {
    "duration": 353,
    "start_time": "2024-01-13T21:09:56.665Z"
   },
   {
    "duration": 112,
    "start_time": "2024-01-13T21:09:57.020Z"
   },
   {
    "duration": 331,
    "start_time": "2024-01-13T21:09:57.134Z"
   },
   {
    "duration": 278,
    "start_time": "2024-01-13T21:09:57.467Z"
   },
   {
    "duration": 310,
    "start_time": "2024-01-13T21:09:57.747Z"
   },
   {
    "duration": 141,
    "start_time": "2024-01-13T21:09:58.065Z"
   },
   {
    "duration": 140,
    "start_time": "2024-01-13T21:09:58.208Z"
   },
   {
    "duration": 16,
    "start_time": "2024-01-13T21:09:58.350Z"
   },
   {
    "duration": 122,
    "start_time": "2024-01-13T21:09:58.367Z"
   },
   {
    "duration": 354,
    "start_time": "2024-01-13T21:09:58.490Z"
   },
   {
    "duration": 260,
    "start_time": "2024-01-13T21:09:58.845Z"
   },
   {
    "duration": 156,
    "start_time": "2024-01-13T21:09:59.106Z"
   },
   {
    "duration": 18,
    "start_time": "2024-01-13T21:09:59.266Z"
   },
   {
    "duration": 14,
    "start_time": "2024-01-13T21:09:59.285Z"
   },
   {
    "duration": 389,
    "start_time": "2024-01-13T21:09:59.300Z"
   },
   {
    "duration": 953,
    "start_time": "2024-01-13T21:09:59.690Z"
   },
   {
    "duration": 31,
    "start_time": "2024-01-13T21:10:00.644Z"
   },
   {
    "duration": 283,
    "start_time": "2024-01-13T21:10:00.677Z"
   },
   {
    "duration": 210,
    "start_time": "2024-01-13T21:10:00.965Z"
   },
   {
    "duration": 196,
    "start_time": "2024-01-13T21:10:01.176Z"
   },
   {
    "duration": 203,
    "start_time": "2024-01-13T21:10:01.374Z"
   },
   {
    "duration": 290,
    "start_time": "2024-01-13T21:10:01.579Z"
   },
   {
    "duration": 196,
    "start_time": "2024-01-13T21:10:01.871Z"
   },
   {
    "duration": 200,
    "start_time": "2024-01-13T21:10:02.069Z"
   },
   {
    "duration": 139,
    "start_time": "2024-01-13T21:10:02.270Z"
   },
   {
    "duration": 127,
    "start_time": "2024-01-13T21:10:02.411Z"
   },
   {
    "duration": 740,
    "start_time": "2024-01-14T12:57:27.525Z"
   },
   {
    "duration": 354,
    "start_time": "2024-01-14T12:57:28.267Z"
   },
   {
    "duration": 2970,
    "start_time": "2024-01-14T12:57:28.622Z"
   },
   {
    "duration": 60,
    "start_time": "2024-01-14T12:57:31.594Z"
   },
   {
    "duration": 55,
    "start_time": "2024-01-14T12:57:31.655Z"
   },
   {
    "duration": 292,
    "start_time": "2024-01-14T12:57:31.712Z"
   },
   {
    "duration": 5,
    "start_time": "2024-01-14T12:57:32.007Z"
   },
   {
    "duration": 30,
    "start_time": "2024-01-14T12:57:32.013Z"
   },
   {
    "duration": 13,
    "start_time": "2024-01-14T12:57:32.045Z"
   },
   {
    "duration": 39,
    "start_time": "2024-01-14T12:57:32.061Z"
   },
   {
    "duration": 246,
    "start_time": "2024-01-14T12:57:32.101Z"
   },
   {
    "duration": 8,
    "start_time": "2024-01-14T12:57:32.348Z"
   },
   {
    "duration": 1096,
    "start_time": "2024-01-14T12:57:32.357Z"
   },
   {
    "duration": 590,
    "start_time": "2024-01-14T12:57:33.455Z"
   },
   {
    "duration": 284,
    "start_time": "2024-01-14T12:57:34.047Z"
   },
   {
    "duration": 613,
    "start_time": "2024-01-14T12:57:34.333Z"
   },
   {
    "duration": 547,
    "start_time": "2024-01-14T12:57:34.948Z"
   },
   {
    "duration": 539,
    "start_time": "2024-01-14T12:57:35.497Z"
   },
   {
    "duration": 289,
    "start_time": "2024-01-14T12:57:36.037Z"
   },
   {
    "duration": 268,
    "start_time": "2024-01-14T12:57:36.327Z"
   },
   {
    "duration": 13,
    "start_time": "2024-01-14T12:57:36.596Z"
   },
   {
    "duration": 231,
    "start_time": "2024-01-14T12:57:36.611Z"
   },
   {
    "duration": 495,
    "start_time": "2024-01-14T12:57:36.843Z"
   },
   {
    "duration": 498,
    "start_time": "2024-01-14T12:57:37.339Z"
   },
   {
    "duration": 339,
    "start_time": "2024-01-14T12:57:37.839Z"
   },
   {
    "duration": 22,
    "start_time": "2024-01-14T12:57:38.188Z"
   },
   {
    "duration": 14,
    "start_time": "2024-01-14T12:57:38.212Z"
   },
   {
    "duration": 720,
    "start_time": "2024-01-14T12:57:38.229Z"
   },
   {
    "duration": 1075,
    "start_time": "2024-01-14T12:57:38.950Z"
   },
   {
    "duration": 20,
    "start_time": "2024-01-14T12:57:40.026Z"
   },
   {
    "duration": 393,
    "start_time": "2024-01-14T12:57:40.048Z"
   },
   {
    "duration": 422,
    "start_time": "2024-01-14T12:57:40.442Z"
   },
   {
    "duration": 375,
    "start_time": "2024-01-14T12:57:40.865Z"
   },
   {
    "duration": 405,
    "start_time": "2024-01-14T12:57:41.242Z"
   },
   {
    "duration": 399,
    "start_time": "2024-01-14T12:57:41.649Z"
   },
   {
    "duration": 416,
    "start_time": "2024-01-14T12:57:42.049Z"
   },
   {
    "duration": 379,
    "start_time": "2024-01-14T12:57:42.466Z"
   },
   {
    "duration": 292,
    "start_time": "2024-01-14T12:57:42.846Z"
   },
   {
    "duration": 309,
    "start_time": "2024-01-14T12:57:43.140Z"
   },
   {
    "duration": 99,
    "start_time": "2024-01-14T13:54:18.182Z"
   },
   {
    "duration": 51,
    "start_time": "2024-01-14T13:54:34.575Z"
   },
   {
    "duration": 891,
    "start_time": "2024-01-14T13:55:12.581Z"
   },
   {
    "duration": 200,
    "start_time": "2024-01-14T13:55:13.474Z"
   },
   {
    "duration": 2060,
    "start_time": "2024-01-14T13:55:13.676Z"
   },
   {
    "duration": 61,
    "start_time": "2024-01-14T13:55:15.738Z"
   },
   {
    "duration": 39,
    "start_time": "2024-01-14T13:55:15.801Z"
   },
   {
    "duration": 279,
    "start_time": "2024-01-14T13:55:15.841Z"
   },
   {
    "duration": 6,
    "start_time": "2024-01-14T13:55:16.121Z"
   },
   {
    "duration": 29,
    "start_time": "2024-01-14T13:55:16.128Z"
   },
   {
    "duration": 8,
    "start_time": "2024-01-14T13:55:16.159Z"
   },
   {
    "duration": 44,
    "start_time": "2024-01-14T13:55:16.169Z"
   },
   {
    "duration": 251,
    "start_time": "2024-01-14T13:55:16.214Z"
   },
   {
    "duration": 9,
    "start_time": "2024-01-14T13:55:16.467Z"
   },
   {
    "duration": 790,
    "start_time": "2024-01-14T13:55:16.478Z"
   },
   {
    "duration": 427,
    "start_time": "2024-01-14T13:55:17.273Z"
   },
   {
    "duration": 136,
    "start_time": "2024-01-14T13:55:17.702Z"
   },
   {
    "duration": 371,
    "start_time": "2024-01-14T13:55:17.840Z"
   },
   {
    "duration": 320,
    "start_time": "2024-01-14T13:55:18.213Z"
   },
   {
    "duration": 365,
    "start_time": "2024-01-14T13:55:18.535Z"
   },
   {
    "duration": 160,
    "start_time": "2024-01-14T13:55:18.902Z"
   },
   {
    "duration": 156,
    "start_time": "2024-01-14T13:55:19.064Z"
   },
   {
    "duration": 13,
    "start_time": "2024-01-14T13:55:19.221Z"
   },
   {
    "duration": 145,
    "start_time": "2024-01-14T13:55:19.236Z"
   },
   {
    "duration": 391,
    "start_time": "2024-01-14T13:55:19.382Z"
   },
   {
    "duration": 326,
    "start_time": "2024-01-14T13:55:19.775Z"
   },
   {
    "duration": 171,
    "start_time": "2024-01-14T13:55:20.103Z"
   },
   {
    "duration": 31,
    "start_time": "2024-01-14T13:55:20.275Z"
   },
   {
    "duration": 14,
    "start_time": "2024-01-14T13:55:20.307Z"
   },
   {
    "duration": 415,
    "start_time": "2024-01-14T13:55:20.323Z"
   },
   {
    "duration": 1114,
    "start_time": "2024-01-14T13:55:20.739Z"
   },
   {
    "duration": 101,
    "start_time": "2024-01-14T13:55:21.855Z"
   },
   {
    "duration": 0,
    "start_time": "2024-01-14T13:55:21.958Z"
   },
   {
    "duration": 0,
    "start_time": "2024-01-14T13:55:21.960Z"
   },
   {
    "duration": 0,
    "start_time": "2024-01-14T13:55:21.961Z"
   },
   {
    "duration": 0,
    "start_time": "2024-01-14T13:55:21.962Z"
   },
   {
    "duration": 0,
    "start_time": "2024-01-14T13:55:21.962Z"
   },
   {
    "duration": 0,
    "start_time": "2024-01-14T13:55:21.963Z"
   },
   {
    "duration": 0,
    "start_time": "2024-01-14T13:55:21.964Z"
   },
   {
    "duration": 0,
    "start_time": "2024-01-14T13:55:21.966Z"
   },
   {
    "duration": 0,
    "start_time": "2024-01-14T13:55:21.967Z"
   },
   {
    "duration": 0,
    "start_time": "2024-01-14T13:55:21.968Z"
   },
   {
    "duration": 34,
    "start_time": "2024-01-14T13:55:51.126Z"
   },
   {
    "duration": 88,
    "start_time": "2024-01-14T13:57:08.284Z"
   },
   {
    "duration": 327,
    "start_time": "2024-01-14T13:58:12.599Z"
   },
   {
    "duration": 345,
    "start_time": "2024-01-14T14:03:05.484Z"
   },
   {
    "duration": 421,
    "start_time": "2024-01-14T14:04:34.356Z"
   },
   {
    "duration": 1416,
    "start_time": "2024-01-14T14:06:42.307Z"
   },
   {
    "duration": 305,
    "start_time": "2024-01-14T14:07:04.291Z"
   },
   {
    "duration": 320,
    "start_time": "2024-01-14T14:15:53.225Z"
   },
   {
    "duration": 329,
    "start_time": "2024-01-14T14:16:53.601Z"
   },
   {
    "duration": 678,
    "start_time": "2024-01-14T14:47:12.725Z"
   },
   {
    "duration": 143,
    "start_time": "2024-01-14T14:47:13.405Z"
   },
   {
    "duration": 2138,
    "start_time": "2024-01-14T14:47:13.550Z"
   },
   {
    "duration": 62,
    "start_time": "2024-01-14T14:47:15.690Z"
   },
   {
    "duration": 40,
    "start_time": "2024-01-14T14:47:15.754Z"
   },
   {
    "duration": 299,
    "start_time": "2024-01-14T14:47:15.801Z"
   },
   {
    "duration": 5,
    "start_time": "2024-01-14T14:47:16.102Z"
   },
   {
    "duration": 21,
    "start_time": "2024-01-14T14:47:16.109Z"
   },
   {
    "duration": 8,
    "start_time": "2024-01-14T14:47:16.132Z"
   },
   {
    "duration": 43,
    "start_time": "2024-01-14T14:47:16.141Z"
   },
   {
    "duration": 250,
    "start_time": "2024-01-14T14:47:16.201Z"
   },
   {
    "duration": 9,
    "start_time": "2024-01-14T14:47:16.452Z"
   },
   {
    "duration": 798,
    "start_time": "2024-01-14T14:47:16.462Z"
   },
   {
    "duration": 439,
    "start_time": "2024-01-14T14:47:17.263Z"
   },
   {
    "duration": 140,
    "start_time": "2024-01-14T14:47:17.704Z"
   },
   {
    "duration": 362,
    "start_time": "2024-01-14T14:47:17.845Z"
   },
   {
    "duration": 318,
    "start_time": "2024-01-14T14:47:18.210Z"
   },
   {
    "duration": 354,
    "start_time": "2024-01-14T14:47:18.531Z"
   },
   {
    "duration": 156,
    "start_time": "2024-01-14T14:47:18.887Z"
   },
   {
    "duration": 157,
    "start_time": "2024-01-14T14:47:19.045Z"
   },
   {
    "duration": 12,
    "start_time": "2024-01-14T14:47:19.204Z"
   },
   {
    "duration": 155,
    "start_time": "2024-01-14T14:47:19.218Z"
   },
   {
    "duration": 381,
    "start_time": "2024-01-14T14:47:19.374Z"
   },
   {
    "duration": 321,
    "start_time": "2024-01-14T14:47:19.757Z"
   },
   {
    "duration": 178,
    "start_time": "2024-01-14T14:47:20.080Z"
   },
   {
    "duration": 20,
    "start_time": "2024-01-14T14:47:20.260Z"
   },
   {
    "duration": 40,
    "start_time": "2024-01-14T14:47:20.281Z"
   },
   {
    "duration": 407,
    "start_time": "2024-01-14T14:47:20.322Z"
   },
   {
    "duration": 1140,
    "start_time": "2024-01-14T14:47:20.731Z"
   },
   {
    "duration": 353,
    "start_time": "2024-01-14T14:47:21.872Z"
   },
   {
    "duration": 17,
    "start_time": "2024-01-14T14:47:22.227Z"
   },
   {
    "duration": 243,
    "start_time": "2024-01-14T14:47:22.246Z"
   },
   {
    "duration": 333,
    "start_time": "2024-01-14T14:47:22.490Z"
   },
   {
    "duration": 209,
    "start_time": "2024-01-14T14:47:22.825Z"
   },
   {
    "duration": 247,
    "start_time": "2024-01-14T14:47:23.036Z"
   },
   {
    "duration": 216,
    "start_time": "2024-01-14T14:47:23.286Z"
   },
   {
    "duration": 217,
    "start_time": "2024-01-14T14:47:23.503Z"
   },
   {
    "duration": 222,
    "start_time": "2024-01-14T14:47:23.722Z"
   },
   {
    "duration": 145,
    "start_time": "2024-01-14T14:47:23.946Z"
   },
   {
    "duration": 152,
    "start_time": "2024-01-14T14:47:24.100Z"
   },
   {
    "duration": 145,
    "start_time": "2024-01-14T14:59:50.020Z"
   },
   {
    "duration": 155,
    "start_time": "2024-01-14T15:03:06.825Z"
   },
   {
    "duration": 666,
    "start_time": "2024-01-14T15:04:46.326Z"
   },
   {
    "duration": 142,
    "start_time": "2024-01-14T15:04:46.994Z"
   },
   {
    "duration": 2079,
    "start_time": "2024-01-14T15:04:47.137Z"
   },
   {
    "duration": 62,
    "start_time": "2024-01-14T15:04:49.218Z"
   },
   {
    "duration": 41,
    "start_time": "2024-01-14T15:04:49.283Z"
   },
   {
    "duration": 281,
    "start_time": "2024-01-14T15:04:49.326Z"
   },
   {
    "duration": 6,
    "start_time": "2024-01-14T15:04:49.609Z"
   },
   {
    "duration": 40,
    "start_time": "2024-01-14T15:04:49.617Z"
   },
   {
    "duration": 8,
    "start_time": "2024-01-14T15:04:49.659Z"
   },
   {
    "duration": 39,
    "start_time": "2024-01-14T15:04:49.668Z"
   },
   {
    "duration": 263,
    "start_time": "2024-01-14T15:04:49.709Z"
   },
   {
    "duration": 7,
    "start_time": "2024-01-14T15:04:49.974Z"
   },
   {
    "duration": 810,
    "start_time": "2024-01-14T15:04:49.983Z"
   },
   {
    "duration": 412,
    "start_time": "2024-01-14T15:04:50.799Z"
   },
   {
    "duration": 135,
    "start_time": "2024-01-14T15:04:51.213Z"
   },
   {
    "duration": 342,
    "start_time": "2024-01-14T15:04:51.349Z"
   },
   {
    "duration": 306,
    "start_time": "2024-01-14T15:04:51.699Z"
   },
   {
    "duration": 339,
    "start_time": "2024-01-14T15:04:52.007Z"
   },
   {
    "duration": 161,
    "start_time": "2024-01-14T15:04:52.348Z"
   },
   {
    "duration": 159,
    "start_time": "2024-01-14T15:04:52.511Z"
   },
   {
    "duration": 13,
    "start_time": "2024-01-14T15:04:52.672Z"
   },
   {
    "duration": 139,
    "start_time": "2024-01-14T15:04:52.687Z"
   },
   {
    "duration": 379,
    "start_time": "2024-01-14T15:04:52.827Z"
   },
   {
    "duration": 302,
    "start_time": "2024-01-14T15:04:53.207Z"
   },
   {
    "duration": 175,
    "start_time": "2024-01-14T15:04:53.511Z"
   },
   {
    "duration": 143,
    "start_time": "2024-01-14T15:04:53.688Z"
   },
   {
    "duration": 154,
    "start_time": "2024-01-14T15:04:53.833Z"
   },
   {
    "duration": 28,
    "start_time": "2024-01-14T15:04:53.989Z"
   },
   {
    "duration": 14,
    "start_time": "2024-01-14T15:04:54.019Z"
   },
   {
    "duration": 442,
    "start_time": "2024-01-14T15:04:54.035Z"
   },
   {
    "duration": 1095,
    "start_time": "2024-01-14T15:04:54.478Z"
   },
   {
    "duration": 331,
    "start_time": "2024-01-14T15:04:55.575Z"
   },
   {
    "duration": 23,
    "start_time": "2024-01-14T15:04:55.908Z"
   },
   {
    "duration": 334,
    "start_time": "2024-01-14T15:04:55.933Z"
   },
   {
    "duration": 231,
    "start_time": "2024-01-14T15:04:56.269Z"
   },
   {
    "duration": 224,
    "start_time": "2024-01-14T15:04:56.501Z"
   },
   {
    "duration": 233,
    "start_time": "2024-01-14T15:04:56.727Z"
   },
   {
    "duration": 217,
    "start_time": "2024-01-14T15:04:56.962Z"
   },
   {
    "duration": 214,
    "start_time": "2024-01-14T15:04:57.180Z"
   },
   {
    "duration": 226,
    "start_time": "2024-01-14T15:04:57.395Z"
   },
   {
    "duration": 654,
    "start_time": "2024-01-14T15:09:58.538Z"
   },
   {
    "duration": 141,
    "start_time": "2024-01-14T15:09:59.193Z"
   },
   {
    "duration": 2164,
    "start_time": "2024-01-14T15:09:59.336Z"
   },
   {
    "duration": 62,
    "start_time": "2024-01-14T15:10:01.503Z"
   },
   {
    "duration": 53,
    "start_time": "2024-01-14T15:10:01.567Z"
   },
   {
    "duration": 323,
    "start_time": "2024-01-14T15:10:01.621Z"
   },
   {
    "duration": 5,
    "start_time": "2024-01-14T15:10:01.946Z"
   },
   {
    "duration": 151,
    "start_time": "2024-01-14T15:10:01.953Z"
   },
   {
    "duration": 55,
    "start_time": "2024-01-14T15:10:02.106Z"
   },
   {
    "duration": 63,
    "start_time": "2024-01-14T15:10:02.162Z"
   },
   {
    "duration": 297,
    "start_time": "2024-01-14T15:10:02.227Z"
   },
   {
    "duration": 9,
    "start_time": "2024-01-14T15:10:02.526Z"
   },
   {
    "duration": 976,
    "start_time": "2024-01-14T15:10:02.537Z"
   },
   {
    "duration": 419,
    "start_time": "2024-01-14T15:10:03.517Z"
   },
   {
    "duration": 133,
    "start_time": "2024-01-14T15:10:03.938Z"
   },
   {
    "duration": 365,
    "start_time": "2024-01-14T15:10:04.073Z"
   },
   {
    "duration": 324,
    "start_time": "2024-01-14T15:10:04.440Z"
   },
   {
    "duration": 354,
    "start_time": "2024-01-14T15:10:04.766Z"
   },
   {
    "duration": 178,
    "start_time": "2024-01-14T15:10:05.122Z"
   },
   {
    "duration": 159,
    "start_time": "2024-01-14T15:10:05.301Z"
   },
   {
    "duration": 12,
    "start_time": "2024-01-14T15:10:05.462Z"
   },
   {
    "duration": 151,
    "start_time": "2024-01-14T15:10:05.476Z"
   },
   {
    "duration": 407,
    "start_time": "2024-01-14T15:10:05.629Z"
   },
   {
    "duration": 283,
    "start_time": "2024-01-14T15:10:06.038Z"
   },
   {
    "duration": 179,
    "start_time": "2024-01-14T15:10:06.323Z"
   },
   {
    "duration": 141,
    "start_time": "2024-01-14T15:10:06.504Z"
   },
   {
    "duration": 154,
    "start_time": "2024-01-14T15:10:06.646Z"
   },
   {
    "duration": 30,
    "start_time": "2024-01-14T15:10:06.801Z"
   },
   {
    "duration": 15,
    "start_time": "2024-01-14T15:10:06.833Z"
   },
   {
    "duration": 440,
    "start_time": "2024-01-14T15:10:06.851Z"
   },
   {
    "duration": 1109,
    "start_time": "2024-01-14T15:10:07.293Z"
   },
   {
    "duration": 337,
    "start_time": "2024-01-14T15:10:08.404Z"
   },
   {
    "duration": 15,
    "start_time": "2024-01-14T15:10:08.743Z"
   },
   {
    "duration": 332,
    "start_time": "2024-01-14T15:10:08.760Z"
   },
   {
    "duration": 238,
    "start_time": "2024-01-14T15:10:09.094Z"
   },
   {
    "duration": 238,
    "start_time": "2024-01-14T15:10:09.334Z"
   },
   {
    "duration": 232,
    "start_time": "2024-01-14T15:10:09.574Z"
   },
   {
    "duration": 243,
    "start_time": "2024-01-14T15:10:09.808Z"
   },
   {
    "duration": 224,
    "start_time": "2024-01-14T15:10:10.052Z"
   },
   {
    "duration": 228,
    "start_time": "2024-01-14T15:10:10.279Z"
   },
   {
    "duration": 71,
    "start_time": "2024-01-14T15:10:10.510Z"
   },
   {
    "duration": 799,
    "start_time": "2024-01-14T15:34:44.480Z"
   },
   {
    "duration": 170,
    "start_time": "2024-01-14T15:34:45.281Z"
   },
   {
    "duration": 2300,
    "start_time": "2024-01-14T15:34:45.452Z"
   },
   {
    "duration": 72,
    "start_time": "2024-01-14T15:34:47.755Z"
   },
   {
    "duration": 41,
    "start_time": "2024-01-14T15:34:47.830Z"
   },
   {
    "duration": 362,
    "start_time": "2024-01-14T15:34:47.872Z"
   },
   {
    "duration": 5,
    "start_time": "2024-01-14T15:34:48.236Z"
   },
   {
    "duration": 17,
    "start_time": "2024-01-14T15:34:48.242Z"
   },
   {
    "duration": 8,
    "start_time": "2024-01-14T15:34:48.261Z"
   },
   {
    "duration": 62,
    "start_time": "2024-01-14T15:34:48.271Z"
   },
   {
    "duration": 299,
    "start_time": "2024-01-14T15:34:48.335Z"
   },
   {
    "duration": 8,
    "start_time": "2024-01-14T15:34:48.635Z"
   },
   {
    "duration": 946,
    "start_time": "2024-01-14T15:34:48.645Z"
   },
   {
    "duration": 540,
    "start_time": "2024-01-14T15:34:49.594Z"
   },
   {
    "duration": 137,
    "start_time": "2024-01-14T15:34:50.136Z"
   },
   {
    "duration": 394,
    "start_time": "2024-01-14T15:34:50.274Z"
   },
   {
    "duration": 346,
    "start_time": "2024-01-14T15:34:50.669Z"
   },
   {
    "duration": 422,
    "start_time": "2024-01-14T15:34:51.017Z"
   },
   {
    "duration": 195,
    "start_time": "2024-01-14T15:34:51.441Z"
   },
   {
    "duration": 186,
    "start_time": "2024-01-14T15:34:51.637Z"
   },
   {
    "duration": 12,
    "start_time": "2024-01-14T15:34:51.825Z"
   },
   {
    "duration": 151,
    "start_time": "2024-01-14T15:34:51.839Z"
   },
   {
    "duration": 454,
    "start_time": "2024-01-14T15:34:51.991Z"
   },
   {
    "duration": 306,
    "start_time": "2024-01-14T15:34:52.447Z"
   },
   {
    "duration": 185,
    "start_time": "2024-01-14T15:34:52.755Z"
   },
   {
    "duration": 148,
    "start_time": "2024-01-14T15:34:52.941Z"
   },
   {
    "duration": 175,
    "start_time": "2024-01-14T15:34:53.090Z"
   },
   {
    "duration": 22,
    "start_time": "2024-01-14T15:34:53.267Z"
   },
   {
    "duration": 33,
    "start_time": "2024-01-14T15:34:53.291Z"
   },
   {
    "duration": 464,
    "start_time": "2024-01-14T15:34:53.326Z"
   },
   {
    "duration": 1224,
    "start_time": "2024-01-14T15:34:53.791Z"
   },
   {
    "duration": 349,
    "start_time": "2024-01-14T15:34:55.017Z"
   },
   {
    "duration": 36,
    "start_time": "2024-01-14T15:34:55.368Z"
   },
   {
    "duration": 353,
    "start_time": "2024-01-14T15:34:55.406Z"
   },
   {
    "duration": 262,
    "start_time": "2024-01-14T15:34:55.761Z"
   },
   {
    "duration": 230,
    "start_time": "2024-01-14T15:34:56.025Z"
   },
   {
    "duration": 238,
    "start_time": "2024-01-14T15:34:56.256Z"
   },
   {
    "duration": 246,
    "start_time": "2024-01-14T15:34:56.496Z"
   },
   {
    "duration": 243,
    "start_time": "2024-01-14T15:34:56.744Z"
   },
   {
    "duration": 270,
    "start_time": "2024-01-14T15:34:56.989Z"
   },
   {
    "duration": 170,
    "start_time": "2024-01-14T15:42:26.831Z"
   },
   {
    "duration": 306,
    "start_time": "2024-01-14T15:58:04.698Z"
   },
   {
    "duration": 164,
    "start_time": "2024-01-14T16:04:26.891Z"
   },
   {
    "duration": 145,
    "start_time": "2024-01-14T16:05:08.779Z"
   },
   {
    "duration": 200,
    "start_time": "2024-01-14T16:07:46.727Z"
   },
   {
    "duration": 193,
    "start_time": "2024-01-14T16:09:16.948Z"
   },
   {
    "duration": 166,
    "start_time": "2024-01-14T16:11:07.696Z"
   },
   {
    "duration": 177,
    "start_time": "2024-01-14T16:12:25.952Z"
   },
   {
    "duration": 202,
    "start_time": "2024-01-14T16:14:04.457Z"
   },
   {
    "duration": 707,
    "start_time": "2024-01-14T16:29:00.212Z"
   },
   {
    "duration": 161,
    "start_time": "2024-01-14T16:29:00.922Z"
   },
   {
    "duration": 2203,
    "start_time": "2024-01-14T16:29:01.085Z"
   },
   {
    "duration": 68,
    "start_time": "2024-01-14T16:29:03.290Z"
   },
   {
    "duration": 41,
    "start_time": "2024-01-14T16:29:03.360Z"
   },
   {
    "duration": 288,
    "start_time": "2024-01-14T16:29:03.402Z"
   },
   {
    "duration": 9,
    "start_time": "2024-01-14T16:29:03.692Z"
   },
   {
    "duration": 41,
    "start_time": "2024-01-14T16:29:03.703Z"
   },
   {
    "duration": 22,
    "start_time": "2024-01-14T16:29:03.746Z"
   },
   {
    "duration": 61,
    "start_time": "2024-01-14T16:29:03.769Z"
   },
   {
    "duration": 246,
    "start_time": "2024-01-14T16:29:03.831Z"
   },
   {
    "duration": 8,
    "start_time": "2024-01-14T16:29:04.079Z"
   },
   {
    "duration": 777,
    "start_time": "2024-01-14T16:29:04.100Z"
   },
   {
    "duration": 404,
    "start_time": "2024-01-14T16:29:04.880Z"
   },
   {
    "duration": 132,
    "start_time": "2024-01-14T16:29:05.286Z"
   },
   {
    "duration": 355,
    "start_time": "2024-01-14T16:29:05.420Z"
   },
   {
    "duration": 346,
    "start_time": "2024-01-14T16:29:05.777Z"
   },
   {
    "duration": 351,
    "start_time": "2024-01-14T16:29:06.125Z"
   },
   {
    "duration": 166,
    "start_time": "2024-01-14T16:29:06.477Z"
   },
   {
    "duration": 159,
    "start_time": "2024-01-14T16:29:06.644Z"
   },
   {
    "duration": 13,
    "start_time": "2024-01-14T16:29:06.804Z"
   },
   {
    "duration": 142,
    "start_time": "2024-01-14T16:29:06.819Z"
   },
   {
    "duration": 380,
    "start_time": "2024-01-14T16:29:06.963Z"
   },
   {
    "duration": 294,
    "start_time": "2024-01-14T16:29:07.345Z"
   },
   {
    "duration": 177,
    "start_time": "2024-01-14T16:29:07.640Z"
   },
   {
    "duration": 329,
    "start_time": "2024-01-14T16:29:07.819Z"
   },
   {
    "duration": 151,
    "start_time": "2024-01-14T16:29:08.149Z"
   },
   {
    "duration": 21,
    "start_time": "2024-01-14T16:29:08.301Z"
   },
   {
    "duration": 14,
    "start_time": "2024-01-14T16:29:08.324Z"
   },
   {
    "duration": 437,
    "start_time": "2024-01-14T16:29:08.339Z"
   },
   {
    "duration": 1103,
    "start_time": "2024-01-14T16:29:08.777Z"
   },
   {
    "duration": 338,
    "start_time": "2024-01-14T16:29:09.881Z"
   },
   {
    "duration": 17,
    "start_time": "2024-01-14T16:29:10.221Z"
   },
   {
    "duration": 330,
    "start_time": "2024-01-14T16:29:10.239Z"
   },
   {
    "duration": 226,
    "start_time": "2024-01-14T16:29:10.570Z"
   },
   {
    "duration": 217,
    "start_time": "2024-01-14T16:29:10.800Z"
   },
   {
    "duration": 235,
    "start_time": "2024-01-14T16:29:11.018Z"
   },
   {
    "duration": 208,
    "start_time": "2024-01-14T16:29:11.255Z"
   },
   {
    "duration": 171,
    "start_time": "2024-01-14T16:29:11.464Z"
   },
   {
    "duration": 172,
    "start_time": "2024-01-14T16:29:11.637Z"
   },
   {
    "duration": 44,
    "start_time": "2024-01-14T17:38:39.050Z"
   },
   {
    "duration": 579,
    "start_time": "2024-01-14T17:38:44.416Z"
   },
   {
    "duration": 182,
    "start_time": "2024-01-14T17:38:44.997Z"
   },
   {
    "duration": 1748,
    "start_time": "2024-01-14T17:38:45.181Z"
   },
   {
    "duration": 50,
    "start_time": "2024-01-14T17:38:46.931Z"
   },
   {
    "duration": 31,
    "start_time": "2024-01-14T17:38:46.982Z"
   },
   {
    "duration": 240,
    "start_time": "2024-01-14T17:38:47.015Z"
   },
   {
    "duration": 4,
    "start_time": "2024-01-14T17:38:47.256Z"
   },
   {
    "duration": 27,
    "start_time": "2024-01-14T17:38:47.261Z"
   },
   {
    "duration": 16,
    "start_time": "2024-01-14T17:38:47.289Z"
   },
   {
    "duration": 33,
    "start_time": "2024-01-14T17:38:47.307Z"
   },
   {
    "duration": 316,
    "start_time": "2024-01-14T17:38:47.342Z"
   },
   {
    "duration": 6,
    "start_time": "2024-01-14T17:38:47.659Z"
   },
   {
    "duration": 677,
    "start_time": "2024-01-14T17:38:47.667Z"
   },
   {
    "duration": 279,
    "start_time": "2024-01-14T17:38:48.346Z"
   },
   {
    "duration": 193,
    "start_time": "2024-01-14T17:38:48.626Z"
   },
   {
    "duration": 294,
    "start_time": "2024-01-14T17:38:48.821Z"
   },
   {
    "duration": 249,
    "start_time": "2024-01-14T17:38:49.116Z"
   },
   {
    "duration": 281,
    "start_time": "2024-01-14T17:38:49.366Z"
   },
   {
    "duration": 131,
    "start_time": "2024-01-14T17:38:49.648Z"
   },
   {
    "duration": 127,
    "start_time": "2024-01-14T17:38:49.781Z"
   },
   {
    "duration": 10,
    "start_time": "2024-01-14T17:38:49.910Z"
   },
   {
    "duration": 112,
    "start_time": "2024-01-14T17:38:49.921Z"
   },
   {
    "duration": 239,
    "start_time": "2024-01-14T17:38:50.034Z"
   },
   {
    "duration": 330,
    "start_time": "2024-01-14T17:38:50.275Z"
   },
   {
    "duration": 144,
    "start_time": "2024-01-14T17:38:50.607Z"
   },
   {
    "duration": 258,
    "start_time": "2024-01-14T17:38:50.752Z"
   },
   {
    "duration": 117,
    "start_time": "2024-01-14T17:38:51.011Z"
   },
   {
    "duration": 19,
    "start_time": "2024-01-14T17:38:51.131Z"
   },
   {
    "duration": 11,
    "start_time": "2024-01-14T17:38:51.151Z"
   },
   {
    "duration": 371,
    "start_time": "2024-01-14T17:38:51.163Z"
   },
   {
    "duration": 931,
    "start_time": "2024-01-14T17:38:51.536Z"
   },
   {
    "duration": 272,
    "start_time": "2024-01-14T17:38:52.468Z"
   },
   {
    "duration": 15,
    "start_time": "2024-01-14T17:38:52.741Z"
   },
   {
    "duration": 284,
    "start_time": "2024-01-14T17:38:52.757Z"
   },
   {
    "duration": 189,
    "start_time": "2024-01-14T17:38:53.042Z"
   },
   {
    "duration": 178,
    "start_time": "2024-01-14T17:38:53.233Z"
   },
   {
    "duration": 173,
    "start_time": "2024-01-14T17:38:53.412Z"
   },
   {
    "duration": 166,
    "start_time": "2024-01-14T17:38:53.586Z"
   },
   {
    "duration": 148,
    "start_time": "2024-01-14T17:38:53.753Z"
   },
   {
    "duration": 154,
    "start_time": "2024-01-14T17:38:53.902Z"
   },
   {
    "duration": 276,
    "start_time": "2024-01-14T17:39:08.584Z"
   }
  ],
  "colab": {
   "provenance": []
  },
  "kernelspec": {
   "display_name": "Python 3 (ipykernel)",
   "language": "python",
   "name": "python3"
  },
  "language_info": {
   "codemirror_mode": {
    "name": "ipython",
    "version": 3
   },
   "file_extension": ".py",
   "mimetype": "text/x-python",
   "name": "python",
   "nbconvert_exporter": "python",
   "pygments_lexer": "ipython3",
   "version": "3.11.5"
  },
  "toc": {
   "base_numbering": 1,
   "nav_menu": {
    "height": "120.983px",
    "width": "359.75px"
   },
   "number_sections": true,
   "sideBar": true,
   "skip_h1_title": true,
   "title_cell": "Table of Contents",
   "title_sidebar": "Contents",
   "toc_cell": false,
   "toc_position": {
    "height": "calc(100% - 180px)",
    "left": "10px",
    "top": "150px",
    "width": "396.567px"
   },
   "toc_section_display": true,
   "toc_window_display": true
  }
 },
 "nbformat": 4,
 "nbformat_minor": 1
}
