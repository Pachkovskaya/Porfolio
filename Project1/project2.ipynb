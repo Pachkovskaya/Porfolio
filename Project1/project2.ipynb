{
 "cells": [
  {
   "cell_type": "markdown",
   "id": "386f2ae7",
   "metadata": {
    "deletable": false,
    "editable": false,
    "id": "386f2ae7"
   },
   "source": [
    "# Исследование надежности заемщиков\n"
   ]
  },
  {
   "cell_type": "markdown",
   "id": "ffe86f65",
   "metadata": {
    "deletable": false,
    "editable": false,
    "id": "ffe86f65"
   },
   "source": [
    "Во второй части проекта вы выполните шаги 3 и 4. Их вручную проверит ревьюер.\n",
    "Чтобы вам не пришлось писать код заново для шагов 1 и 2, мы добавили авторские решения в ячейки с кодом. \n",
    "\n"
   ]
  },
  {
   "cell_type": "markdown",
   "id": "26613308",
   "metadata": {
    "deletable": false,
    "editable": false,
    "id": "26613308"
   },
   "source": [
    "## Откройте таблицу и изучите общую информацию о данных"
   ]
  },
  {
   "cell_type": "markdown",
   "id": "3c9f838e",
   "metadata": {
    "deletable": false,
    "editable": false,
    "id": "3c9f838e"
   },
   "source": [
    "**Задание 1. Импортируйте библиотеку pandas. Считайте данные из csv-файла в датафрейм и сохраните в переменную `data`. Путь к файлу:**\n",
    "\n",
    "`/datasets/data.csv`"
   ]
  },
  {
   "cell_type": "code",
   "execution_count": 1,
   "id": "77a68a90",
   "metadata": {
    "deletable": false,
    "id": "77a68a90"
   },
   "outputs": [],
   "source": [
    "import pandas as pd\n",
    "\n",
    "try:\n",
    "    data = pd.read_csv('/datasets/data.csv')\n",
    "except:\n",
    "    data = pd.read_csv('https://code.s3.yandex.net/datasets/data.csv')"
   ]
  },
  {
   "cell_type": "markdown",
   "id": "45365635",
   "metadata": {
    "deletable": false,
    "editable": false,
    "id": "45365635"
   },
   "source": [
    "**Задание 2. Выведите первые 20 строчек датафрейма `data` на экран.**"
   ]
  },
  {
   "cell_type": "code",
   "execution_count": 2,
   "id": "b0451a9a",
   "metadata": {
    "deletable": false,
    "id": "b0451a9a",
    "outputId": "1a8f3ef2-d323-4ec2-ddf7-89670b5944c4"
   },
   "outputs": [
    {
     "data": {
      "text/html": [
       "<div>\n",
       "<style scoped>\n",
       "    .dataframe tbody tr th:only-of-type {\n",
       "        vertical-align: middle;\n",
       "    }\n",
       "\n",
       "    .dataframe tbody tr th {\n",
       "        vertical-align: top;\n",
       "    }\n",
       "\n",
       "    .dataframe thead th {\n",
       "        text-align: right;\n",
       "    }\n",
       "</style>\n",
       "<table border=\"1\" class=\"dataframe\">\n",
       "  <thead>\n",
       "    <tr style=\"text-align: right;\">\n",
       "      <th></th>\n",
       "      <th>children</th>\n",
       "      <th>days_employed</th>\n",
       "      <th>dob_years</th>\n",
       "      <th>education</th>\n",
       "      <th>education_id</th>\n",
       "      <th>family_status</th>\n",
       "      <th>family_status_id</th>\n",
       "      <th>gender</th>\n",
       "      <th>income_type</th>\n",
       "      <th>debt</th>\n",
       "      <th>total_income</th>\n",
       "      <th>purpose</th>\n",
       "    </tr>\n",
       "  </thead>\n",
       "  <tbody>\n",
       "    <tr>\n",
       "      <th>0</th>\n",
       "      <td>1</td>\n",
       "      <td>-8437.673028</td>\n",
       "      <td>42</td>\n",
       "      <td>высшее</td>\n",
       "      <td>0</td>\n",
       "      <td>женат / замужем</td>\n",
       "      <td>0</td>\n",
       "      <td>F</td>\n",
       "      <td>сотрудник</td>\n",
       "      <td>0</td>\n",
       "      <td>253875.639453</td>\n",
       "      <td>покупка жилья</td>\n",
       "    </tr>\n",
       "    <tr>\n",
       "      <th>1</th>\n",
       "      <td>1</td>\n",
       "      <td>-4024.803754</td>\n",
       "      <td>36</td>\n",
       "      <td>среднее</td>\n",
       "      <td>1</td>\n",
       "      <td>женат / замужем</td>\n",
       "      <td>0</td>\n",
       "      <td>F</td>\n",
       "      <td>сотрудник</td>\n",
       "      <td>0</td>\n",
       "      <td>112080.014102</td>\n",
       "      <td>приобретение автомобиля</td>\n",
       "    </tr>\n",
       "    <tr>\n",
       "      <th>2</th>\n",
       "      <td>0</td>\n",
       "      <td>-5623.422610</td>\n",
       "      <td>33</td>\n",
       "      <td>Среднее</td>\n",
       "      <td>1</td>\n",
       "      <td>женат / замужем</td>\n",
       "      <td>0</td>\n",
       "      <td>M</td>\n",
       "      <td>сотрудник</td>\n",
       "      <td>0</td>\n",
       "      <td>145885.952297</td>\n",
       "      <td>покупка жилья</td>\n",
       "    </tr>\n",
       "    <tr>\n",
       "      <th>3</th>\n",
       "      <td>3</td>\n",
       "      <td>-4124.747207</td>\n",
       "      <td>32</td>\n",
       "      <td>среднее</td>\n",
       "      <td>1</td>\n",
       "      <td>женат / замужем</td>\n",
       "      <td>0</td>\n",
       "      <td>M</td>\n",
       "      <td>сотрудник</td>\n",
       "      <td>0</td>\n",
       "      <td>267628.550329</td>\n",
       "      <td>дополнительное образование</td>\n",
       "    </tr>\n",
       "    <tr>\n",
       "      <th>4</th>\n",
       "      <td>0</td>\n",
       "      <td>340266.072047</td>\n",
       "      <td>53</td>\n",
       "      <td>среднее</td>\n",
       "      <td>1</td>\n",
       "      <td>гражданский брак</td>\n",
       "      <td>1</td>\n",
       "      <td>F</td>\n",
       "      <td>пенсионер</td>\n",
       "      <td>0</td>\n",
       "      <td>158616.077870</td>\n",
       "      <td>сыграть свадьбу</td>\n",
       "    </tr>\n",
       "    <tr>\n",
       "      <th>5</th>\n",
       "      <td>0</td>\n",
       "      <td>-926.185831</td>\n",
       "      <td>27</td>\n",
       "      <td>высшее</td>\n",
       "      <td>0</td>\n",
       "      <td>гражданский брак</td>\n",
       "      <td>1</td>\n",
       "      <td>M</td>\n",
       "      <td>компаньон</td>\n",
       "      <td>0</td>\n",
       "      <td>255763.565419</td>\n",
       "      <td>покупка жилья</td>\n",
       "    </tr>\n",
       "    <tr>\n",
       "      <th>6</th>\n",
       "      <td>0</td>\n",
       "      <td>-2879.202052</td>\n",
       "      <td>43</td>\n",
       "      <td>высшее</td>\n",
       "      <td>0</td>\n",
       "      <td>женат / замужем</td>\n",
       "      <td>0</td>\n",
       "      <td>F</td>\n",
       "      <td>компаньон</td>\n",
       "      <td>0</td>\n",
       "      <td>240525.971920</td>\n",
       "      <td>операции с жильем</td>\n",
       "    </tr>\n",
       "    <tr>\n",
       "      <th>7</th>\n",
       "      <td>0</td>\n",
       "      <td>-152.779569</td>\n",
       "      <td>50</td>\n",
       "      <td>СРЕДНЕЕ</td>\n",
       "      <td>1</td>\n",
       "      <td>женат / замужем</td>\n",
       "      <td>0</td>\n",
       "      <td>M</td>\n",
       "      <td>сотрудник</td>\n",
       "      <td>0</td>\n",
       "      <td>135823.934197</td>\n",
       "      <td>образование</td>\n",
       "    </tr>\n",
       "    <tr>\n",
       "      <th>8</th>\n",
       "      <td>2</td>\n",
       "      <td>-6929.865299</td>\n",
       "      <td>35</td>\n",
       "      <td>ВЫСШЕЕ</td>\n",
       "      <td>0</td>\n",
       "      <td>гражданский брак</td>\n",
       "      <td>1</td>\n",
       "      <td>F</td>\n",
       "      <td>сотрудник</td>\n",
       "      <td>0</td>\n",
       "      <td>95856.832424</td>\n",
       "      <td>на проведение свадьбы</td>\n",
       "    </tr>\n",
       "    <tr>\n",
       "      <th>9</th>\n",
       "      <td>0</td>\n",
       "      <td>-2188.756445</td>\n",
       "      <td>41</td>\n",
       "      <td>среднее</td>\n",
       "      <td>1</td>\n",
       "      <td>женат / замужем</td>\n",
       "      <td>0</td>\n",
       "      <td>M</td>\n",
       "      <td>сотрудник</td>\n",
       "      <td>0</td>\n",
       "      <td>144425.938277</td>\n",
       "      <td>покупка жилья для семьи</td>\n",
       "    </tr>\n",
       "    <tr>\n",
       "      <th>10</th>\n",
       "      <td>2</td>\n",
       "      <td>-4171.483647</td>\n",
       "      <td>36</td>\n",
       "      <td>высшее</td>\n",
       "      <td>0</td>\n",
       "      <td>женат / замужем</td>\n",
       "      <td>0</td>\n",
       "      <td>M</td>\n",
       "      <td>компаньон</td>\n",
       "      <td>0</td>\n",
       "      <td>113943.491460</td>\n",
       "      <td>покупка недвижимости</td>\n",
       "    </tr>\n",
       "    <tr>\n",
       "      <th>11</th>\n",
       "      <td>0</td>\n",
       "      <td>-792.701887</td>\n",
       "      <td>40</td>\n",
       "      <td>среднее</td>\n",
       "      <td>1</td>\n",
       "      <td>женат / замужем</td>\n",
       "      <td>0</td>\n",
       "      <td>F</td>\n",
       "      <td>сотрудник</td>\n",
       "      <td>0</td>\n",
       "      <td>77069.234271</td>\n",
       "      <td>покупка коммерческой недвижимости</td>\n",
       "    </tr>\n",
       "    <tr>\n",
       "      <th>12</th>\n",
       "      <td>0</td>\n",
       "      <td>NaN</td>\n",
       "      <td>65</td>\n",
       "      <td>среднее</td>\n",
       "      <td>1</td>\n",
       "      <td>гражданский брак</td>\n",
       "      <td>1</td>\n",
       "      <td>M</td>\n",
       "      <td>пенсионер</td>\n",
       "      <td>0</td>\n",
       "      <td>NaN</td>\n",
       "      <td>сыграть свадьбу</td>\n",
       "    </tr>\n",
       "    <tr>\n",
       "      <th>13</th>\n",
       "      <td>0</td>\n",
       "      <td>-1846.641941</td>\n",
       "      <td>54</td>\n",
       "      <td>неоконченное высшее</td>\n",
       "      <td>2</td>\n",
       "      <td>женат / замужем</td>\n",
       "      <td>0</td>\n",
       "      <td>F</td>\n",
       "      <td>сотрудник</td>\n",
       "      <td>0</td>\n",
       "      <td>130458.228857</td>\n",
       "      <td>приобретение автомобиля</td>\n",
       "    </tr>\n",
       "    <tr>\n",
       "      <th>14</th>\n",
       "      <td>0</td>\n",
       "      <td>-1844.956182</td>\n",
       "      <td>56</td>\n",
       "      <td>высшее</td>\n",
       "      <td>0</td>\n",
       "      <td>гражданский брак</td>\n",
       "      <td>1</td>\n",
       "      <td>F</td>\n",
       "      <td>компаньон</td>\n",
       "      <td>1</td>\n",
       "      <td>165127.911772</td>\n",
       "      <td>покупка жилой недвижимости</td>\n",
       "    </tr>\n",
       "    <tr>\n",
       "      <th>15</th>\n",
       "      <td>1</td>\n",
       "      <td>-972.364419</td>\n",
       "      <td>26</td>\n",
       "      <td>среднее</td>\n",
       "      <td>1</td>\n",
       "      <td>женат / замужем</td>\n",
       "      <td>0</td>\n",
       "      <td>F</td>\n",
       "      <td>сотрудник</td>\n",
       "      <td>0</td>\n",
       "      <td>116820.904450</td>\n",
       "      <td>строительство собственной недвижимости</td>\n",
       "    </tr>\n",
       "    <tr>\n",
       "      <th>16</th>\n",
       "      <td>0</td>\n",
       "      <td>-1719.934226</td>\n",
       "      <td>35</td>\n",
       "      <td>среднее</td>\n",
       "      <td>1</td>\n",
       "      <td>женат / замужем</td>\n",
       "      <td>0</td>\n",
       "      <td>F</td>\n",
       "      <td>сотрудник</td>\n",
       "      <td>0</td>\n",
       "      <td>289202.704229</td>\n",
       "      <td>недвижимость</td>\n",
       "    </tr>\n",
       "    <tr>\n",
       "      <th>17</th>\n",
       "      <td>0</td>\n",
       "      <td>-2369.999720</td>\n",
       "      <td>33</td>\n",
       "      <td>высшее</td>\n",
       "      <td>0</td>\n",
       "      <td>гражданский брак</td>\n",
       "      <td>1</td>\n",
       "      <td>M</td>\n",
       "      <td>сотрудник</td>\n",
       "      <td>0</td>\n",
       "      <td>90410.586745</td>\n",
       "      <td>строительство недвижимости</td>\n",
       "    </tr>\n",
       "    <tr>\n",
       "      <th>18</th>\n",
       "      <td>0</td>\n",
       "      <td>400281.136913</td>\n",
       "      <td>53</td>\n",
       "      <td>среднее</td>\n",
       "      <td>1</td>\n",
       "      <td>вдовец / вдова</td>\n",
       "      <td>2</td>\n",
       "      <td>F</td>\n",
       "      <td>пенсионер</td>\n",
       "      <td>0</td>\n",
       "      <td>56823.777243</td>\n",
       "      <td>на покупку подержанного автомобиля</td>\n",
       "    </tr>\n",
       "    <tr>\n",
       "      <th>19</th>\n",
       "      <td>0</td>\n",
       "      <td>-10038.818549</td>\n",
       "      <td>48</td>\n",
       "      <td>СРЕДНЕЕ</td>\n",
       "      <td>1</td>\n",
       "      <td>в разводе</td>\n",
       "      <td>3</td>\n",
       "      <td>F</td>\n",
       "      <td>сотрудник</td>\n",
       "      <td>0</td>\n",
       "      <td>242831.107982</td>\n",
       "      <td>на покупку своего автомобиля</td>\n",
       "    </tr>\n",
       "  </tbody>\n",
       "</table>\n",
       "</div>"
      ],
      "text/plain": [
       "    children  days_employed  dob_years            education  education_id  \\\n",
       "0          1   -8437.673028         42               высшее             0   \n",
       "1          1   -4024.803754         36              среднее             1   \n",
       "2          0   -5623.422610         33              Среднее             1   \n",
       "3          3   -4124.747207         32              среднее             1   \n",
       "4          0  340266.072047         53              среднее             1   \n",
       "5          0    -926.185831         27               высшее             0   \n",
       "6          0   -2879.202052         43               высшее             0   \n",
       "7          0    -152.779569         50              СРЕДНЕЕ             1   \n",
       "8          2   -6929.865299         35               ВЫСШЕЕ             0   \n",
       "9          0   -2188.756445         41              среднее             1   \n",
       "10         2   -4171.483647         36               высшее             0   \n",
       "11         0    -792.701887         40              среднее             1   \n",
       "12         0            NaN         65              среднее             1   \n",
       "13         0   -1846.641941         54  неоконченное высшее             2   \n",
       "14         0   -1844.956182         56               высшее             0   \n",
       "15         1    -972.364419         26              среднее             1   \n",
       "16         0   -1719.934226         35              среднее             1   \n",
       "17         0   -2369.999720         33               высшее             0   \n",
       "18         0  400281.136913         53              среднее             1   \n",
       "19         0  -10038.818549         48              СРЕДНЕЕ             1   \n",
       "\n",
       "       family_status  family_status_id gender income_type  debt  \\\n",
       "0    женат / замужем                 0      F   сотрудник     0   \n",
       "1    женат / замужем                 0      F   сотрудник     0   \n",
       "2    женат / замужем                 0      M   сотрудник     0   \n",
       "3    женат / замужем                 0      M   сотрудник     0   \n",
       "4   гражданский брак                 1      F   пенсионер     0   \n",
       "5   гражданский брак                 1      M   компаньон     0   \n",
       "6    женат / замужем                 0      F   компаньон     0   \n",
       "7    женат / замужем                 0      M   сотрудник     0   \n",
       "8   гражданский брак                 1      F   сотрудник     0   \n",
       "9    женат / замужем                 0      M   сотрудник     0   \n",
       "10   женат / замужем                 0      M   компаньон     0   \n",
       "11   женат / замужем                 0      F   сотрудник     0   \n",
       "12  гражданский брак                 1      M   пенсионер     0   \n",
       "13   женат / замужем                 0      F   сотрудник     0   \n",
       "14  гражданский брак                 1      F   компаньон     1   \n",
       "15   женат / замужем                 0      F   сотрудник     0   \n",
       "16   женат / замужем                 0      F   сотрудник     0   \n",
       "17  гражданский брак                 1      M   сотрудник     0   \n",
       "18    вдовец / вдова                 2      F   пенсионер     0   \n",
       "19         в разводе                 3      F   сотрудник     0   \n",
       "\n",
       "     total_income                                 purpose  \n",
       "0   253875.639453                           покупка жилья  \n",
       "1   112080.014102                 приобретение автомобиля  \n",
       "2   145885.952297                           покупка жилья  \n",
       "3   267628.550329              дополнительное образование  \n",
       "4   158616.077870                         сыграть свадьбу  \n",
       "5   255763.565419                           покупка жилья  \n",
       "6   240525.971920                       операции с жильем  \n",
       "7   135823.934197                             образование  \n",
       "8    95856.832424                   на проведение свадьбы  \n",
       "9   144425.938277                 покупка жилья для семьи  \n",
       "10  113943.491460                    покупка недвижимости  \n",
       "11   77069.234271       покупка коммерческой недвижимости  \n",
       "12            NaN                         сыграть свадьбу  \n",
       "13  130458.228857                 приобретение автомобиля  \n",
       "14  165127.911772              покупка жилой недвижимости  \n",
       "15  116820.904450  строительство собственной недвижимости  \n",
       "16  289202.704229                            недвижимость  \n",
       "17   90410.586745              строительство недвижимости  \n",
       "18   56823.777243      на покупку подержанного автомобиля  \n",
       "19  242831.107982            на покупку своего автомобиля  "
      ]
     },
     "execution_count": 2,
     "metadata": {},
     "output_type": "execute_result"
    }
   ],
   "source": [
    "data.head(20)\n"
   ]
  },
  {
   "cell_type": "markdown",
   "id": "0ed8f27f",
   "metadata": {
    "deletable": false,
    "editable": false,
    "id": "0ed8f27f"
   },
   "source": [
    "**Задание 3. Выведите основную информацию о датафрейме с помощью метода `info()`.**"
   ]
  },
  {
   "cell_type": "code",
   "execution_count": 3,
   "id": "ab3f863b",
   "metadata": {
    "deletable": false,
    "id": "ab3f863b",
    "outputId": "15376089-8dad-46c9-b520-c05248d43158"
   },
   "outputs": [
    {
     "name": "stdout",
     "output_type": "stream",
     "text": [
      "<class 'pandas.core.frame.DataFrame'>\n",
      "RangeIndex: 21525 entries, 0 to 21524\n",
      "Data columns (total 12 columns):\n",
      " #   Column            Non-Null Count  Dtype  \n",
      "---  ------            --------------  -----  \n",
      " 0   children          21525 non-null  int64  \n",
      " 1   days_employed     19351 non-null  float64\n",
      " 2   dob_years         21525 non-null  int64  \n",
      " 3   education         21525 non-null  object \n",
      " 4   education_id      21525 non-null  int64  \n",
      " 5   family_status     21525 non-null  object \n",
      " 6   family_status_id  21525 non-null  int64  \n",
      " 7   gender            21525 non-null  object \n",
      " 8   income_type       21525 non-null  object \n",
      " 9   debt              21525 non-null  int64  \n",
      " 10  total_income      19351 non-null  float64\n",
      " 11  purpose           21525 non-null  object \n",
      "dtypes: float64(2), int64(5), object(5)\n",
      "memory usage: 2.0+ MB\n"
     ]
    }
   ],
   "source": [
    "data.info()"
   ]
  },
  {
   "cell_type": "markdown",
   "id": "60e3e22d",
   "metadata": {
    "deletable": false,
    "editable": false,
    "id": "60e3e22d"
   },
   "source": [
    "## Предобработка данных"
   ]
  },
  {
   "cell_type": "markdown",
   "id": "03dc170c",
   "metadata": {
    "deletable": false,
    "editable": false,
    "id": "03dc170c"
   },
   "source": [
    "### Удаление пропусков"
   ]
  },
  {
   "cell_type": "markdown",
   "id": "a4f54eef",
   "metadata": {
    "deletable": false,
    "editable": false,
    "id": "a4f54eef"
   },
   "source": [
    "**Задание 4. Выведите количество пропущенных значений для каждого столбца. Используйте комбинацию двух методов.**"
   ]
  },
  {
   "cell_type": "code",
   "execution_count": 4,
   "id": "2dc372b2",
   "metadata": {
    "deletable": false,
    "id": "2dc372b2",
    "outputId": "81f4d817-781c-465c-ed15-91ce4446810d"
   },
   "outputs": [
    {
     "data": {
      "text/plain": [
       "children               0\n",
       "days_employed       2174\n",
       "dob_years              0\n",
       "education              0\n",
       "education_id           0\n",
       "family_status          0\n",
       "family_status_id       0\n",
       "gender                 0\n",
       "income_type            0\n",
       "debt                   0\n",
       "total_income        2174\n",
       "purpose                0\n",
       "dtype: int64"
      ]
     },
     "execution_count": 4,
     "metadata": {},
     "output_type": "execute_result"
    }
   ],
   "source": [
    "data.isna().sum()"
   ]
  },
  {
   "cell_type": "markdown",
   "id": "14f011b1",
   "metadata": {
    "deletable": false,
    "editable": false,
    "id": "14f011b1"
   },
   "source": [
    "**Задание 5. В двух столбцах есть пропущенные значения. Один из них — `days_employed`. Пропуски в этом столбце вы обработаете на следующем этапе. Другой столбец с пропущенными значениями — `total_income` — хранит данные о доходах. На сумму дохода сильнее всего влияет тип занятости, поэтому заполнить пропуски в этом столбце нужно медианным значением по каждому типу из столбца `income_type`. Например, у человека с типом занятости `сотрудник` пропуск в столбце `total_income` должен быть заполнен медианным доходом среди всех записей с тем же типом.**"
   ]
  },
  {
   "cell_type": "code",
   "execution_count": 5,
   "id": "bdabfb6e",
   "metadata": {
    "deletable": false,
    "id": "bdabfb6e"
   },
   "outputs": [],
   "source": [
    "# заполняем медийным значением пропуски в total_income — данных о доходах в соотвествии к типу занятости income_type\n",
    "for t in data['income_type'].unique():\n",
    "    data.loc[(data['income_type'] == t) & (data['total_income'].isna()), 'total_income'] = \\\n",
    "    data.loc[(data['income_type'] == t), 'total_income'].median()"
   ]
  },
  {
   "cell_type": "markdown",
   "id": "5be34059",
   "metadata": {
    "deletable": false,
    "editable": false,
    "id": "5be34059"
   },
   "source": [
    "### Обработка аномальных значений"
   ]
  },
  {
   "cell_type": "markdown",
   "id": "a87606cb",
   "metadata": {
    "deletable": false,
    "editable": false,
    "id": "a87606cb"
   },
   "source": [
    "**Задание 6. В данных могут встречаться артефакты (аномалии) — значения, которые не отражают действительность и появились по какой-то ошибке. таким артефактом будет отрицательное количество дней трудового стажа в столбце `days_employed`. Для реальных данных это нормально. Обработайте значения в этом столбце: замените все отрицательные значения положительными с помощью метода `abs()`.**"
   ]
  },
  {
   "cell_type": "code",
   "execution_count": 6,
   "id": "020c46cc",
   "metadata": {
    "deletable": false,
    "id": "020c46cc"
   },
   "outputs": [],
   "source": [
    "# все отрицательные значения  в столбце days_employed (трудовой стаж в днях) заменяем положительными \n",
    "data['days_employed'] = data['days_employed'].abs()"
   ]
  },
  {
   "cell_type": "markdown",
   "id": "45538a3a",
   "metadata": {
    "deletable": false,
    "editable": false,
    "id": "45538a3a"
   },
   "source": [
    "**Задание 7. Для каждого типа занятости выведите медианное значение трудового стажа `days_employed` в днях.**"
   ]
  },
  {
   "cell_type": "code",
   "execution_count": 7,
   "id": "cd3e6328",
   "metadata": {
    "deletable": false,
    "id": "cd3e6328",
    "outputId": "801ef80e-522b-4668-f34e-565af7432bcf"
   },
   "outputs": [
    {
     "data": {
      "text/plain": [
       "income_type\n",
       "безработный        366413.652744\n",
       "в декрете            3296.759962\n",
       "госслужащий          2689.368353\n",
       "компаньон            1547.382223\n",
       "пенсионер          365213.306266\n",
       "предприниматель       520.848083\n",
       "сотрудник            1574.202821\n",
       "студент               578.751554\n",
       "Name: days_employed, dtype: float64"
      ]
     },
     "execution_count": 7,
     "metadata": {},
     "output_type": "execute_result"
    }
   ],
   "source": [
    "# для каждого типа занятости выводим медианное значение трудового стажа\n",
    "data.groupby('income_type')['days_employed'].agg('median')\n"
   ]
  },
  {
   "cell_type": "markdown",
   "id": "90c5f058",
   "metadata": {
    "deletable": false,
    "editable": false,
    "id": "90c5f058"
   },
   "source": [
    "У двух типов (безработные и пенсионеры) получатся аномально большие значения. Исправить такие значения сложно, поэтому оставьте их как есть."
   ]
  },
  {
   "cell_type": "markdown",
   "id": "9652e50d",
   "metadata": {
    "deletable": false,
    "editable": false,
    "id": "9652e50d"
   },
   "source": [
    "**Задание 8. Выведите перечень уникальных значений столбца `children`.**"
   ]
  },
  {
   "cell_type": "code",
   "execution_count": 8,
   "id": "dbb37b8e",
   "metadata": {
    "deletable": false,
    "id": "dbb37b8e",
    "outputId": "6975b15c-7f95-4697-d16d-a0c79b657b03"
   },
   "outputs": [
    {
     "data": {
      "text/plain": [
       "array([ 1,  0,  3,  2, -1,  4, 20,  5])"
      ]
     },
     "execution_count": 8,
     "metadata": {},
     "output_type": "execute_result"
    }
   ],
   "source": [
    "# выводим перечень уникальных значений столбца children\n",
    "data['children'].unique()"
   ]
  },
  {
   "cell_type": "markdown",
   "id": "2b8b0715",
   "metadata": {
    "deletable": false,
    "editable": false,
    "id": "2b8b0715"
   },
   "source": [
    "**Задание 9. В столбце `children` есть два аномальных значения. Удалите строки, в которых встречаются такие аномальные значения из датафрейма `data`.**"
   ]
  },
  {
   "cell_type": "code",
   "execution_count": 9,
   "id": "20009df8",
   "metadata": {
    "deletable": false,
    "id": "20009df8"
   },
   "outputs": [],
   "source": [
    "# удаляем строки в которых количество детей имеет аномальное значение\n",
    "data = data[(data['children'] != -1) & (data['children'] != 20)]"
   ]
  },
  {
   "cell_type": "markdown",
   "id": "8c6ac9f1",
   "metadata": {
    "deletable": false,
    "editable": false,
    "id": "8c6ac9f1"
   },
   "source": [
    "**Задание 10. Ещё раз выведите перечень уникальных значений столбца `children`, чтобы убедиться, что артефакты удалены.**"
   ]
  },
  {
   "cell_type": "code",
   "execution_count": 10,
   "id": "07337b81",
   "metadata": {
    "deletable": false,
    "id": "07337b81",
    "outputId": "b2097101-d49d-44d9-901b-32a65c9463d1"
   },
   "outputs": [
    {
     "data": {
      "text/plain": [
       "array([1, 0, 3, 2, 4, 5])"
      ]
     },
     "execution_count": 10,
     "metadata": {},
     "output_type": "execute_result"
    }
   ],
   "source": [
    "data['children'].unique()"
   ]
  },
  {
   "cell_type": "markdown",
   "id": "ee3f52d4",
   "metadata": {
    "deletable": false,
    "editable": false,
    "id": "ee3f52d4"
   },
   "source": [
    "### Удаление пропусков (продолжение)"
   ]
  },
  {
   "cell_type": "markdown",
   "id": "a700b0e4",
   "metadata": {
    "deletable": false,
    "editable": false,
    "id": "a700b0e4"
   },
   "source": [
    "**Задание 11. Заполните пропуски в столбце `days_employed` медианными значениями по каждого типа занятости `income_type`.**"
   ]
  },
  {
   "cell_type": "code",
   "execution_count": 11,
   "id": "61946b83",
   "metadata": {
    "deletable": false,
    "id": "61946b83"
   },
   "outputs": [],
   "source": [
    "# Заполняем пропуски в столбце days_employed (трудовой стаж в днях) медианными значениями по каждого типа занятости income_type\n",
    "for t in data['income_type'].unique():\n",
    "    data.loc[(data['income_type'] == t) & (data['days_employed'].isna()), 'days_employed'] = \\\n",
    "    data.loc[(data['income_type'] == t), 'days_employed'].median()"
   ]
  },
  {
   "cell_type": "markdown",
   "id": "550dcd9b",
   "metadata": {
    "deletable": false,
    "editable": false,
    "id": "550dcd9b"
   },
   "source": [
    "**Задание 12. Убедитесь, что все пропуски заполнены. Проверьте себя и ещё раз выведите количество пропущенных значений для каждого столбца с помощью двух методов.**"
   ]
  },
  {
   "cell_type": "code",
   "execution_count": 12,
   "id": "937c7014",
   "metadata": {
    "deletable": false,
    "id": "937c7014",
    "outputId": "8da1e4e1-358e-4e87-98c9-f261bce0a7b2"
   },
   "outputs": [
    {
     "data": {
      "text/plain": [
       "children            0\n",
       "days_employed       0\n",
       "dob_years           0\n",
       "education           0\n",
       "education_id        0\n",
       "family_status       0\n",
       "family_status_id    0\n",
       "gender              0\n",
       "income_type         0\n",
       "debt                0\n",
       "total_income        0\n",
       "purpose             0\n",
       "dtype: int64"
      ]
     },
     "execution_count": 12,
     "metadata": {},
     "output_type": "execute_result"
    }
   ],
   "source": [
    "# повторная проверка пропусков\n",
    "data.isna().sum()"
   ]
  },
  {
   "cell_type": "markdown",
   "id": "d522e295",
   "metadata": {
    "deletable": false,
    "editable": false,
    "id": "d522e295"
   },
   "source": [
    "### Изменение типов данных"
   ]
  },
  {
   "cell_type": "markdown",
   "id": "c229c581",
   "metadata": {
    "deletable": false,
    "editable": false,
    "id": "c229c581"
   },
   "source": [
    "**Задание 13. Замените вещественный тип данных в столбце `total_income` на целочисленный с помощью метода `astype()`.**"
   ]
  },
  {
   "cell_type": "code",
   "execution_count": 13,
   "id": "31036462",
   "metadata": {
    "deletable": false,
    "id": "31036462"
   },
   "outputs": [],
   "source": [
    "# делаем значения в столбеце с ежемесячным доходом целыми \n",
    "data['total_income'] = data['total_income'].astype(int)"
   ]
  },
  {
   "cell_type": "markdown",
   "id": "b8e3d1d9",
   "metadata": {
    "deletable": false,
    "editable": false,
    "id": "b8e3d1d9"
   },
   "source": [
    "### Обработка дубликатов"
   ]
  },
  {
   "cell_type": "markdown",
   "id": "9be53c49",
   "metadata": {
    "deletable": false,
    "editable": false,
    "id": "9be53c49"
   },
   "source": [
    "**Задание 14. Обработайте неявные дубликаты в столбце `education`. В этом столбце есть одни и те же значения, но записанные по-разному: с использованием заглавных и строчных букв. Приведите их к нижнему регистру.**"
   ]
  },
  {
   "cell_type": "code",
   "execution_count": 14,
   "id": "d89e73e1",
   "metadata": {
    "deletable": false,
    "id": "d89e73e1"
   },
   "outputs": [],
   "source": [
    "# приводим все значения в столбце с уровнем образования к нижнему регистру\n",
    "data['education'] = data['education'].str.lower()"
   ]
  },
  {
   "cell_type": "markdown",
   "id": "01d4500e",
   "metadata": {
    "deletable": false,
    "editable": false,
    "id": "01d4500e"
   },
   "source": [
    "**Задание 15. Выведите на экран количество строк-дубликатов в данных. Если такие строки присутствуют, удалите их.**"
   ]
  },
  {
   "cell_type": "code",
   "execution_count": 15,
   "id": "e10efb23",
   "metadata": {
    "deletable": false,
    "id": "e10efb23",
    "outputId": "9684deba-1934-42d1-99e1-cda61740f822"
   },
   "outputs": [
    {
     "data": {
      "text/plain": [
       "71"
      ]
     },
     "execution_count": 15,
     "metadata": {},
     "output_type": "execute_result"
    }
   ],
   "source": [
    "data.duplicated().sum()"
   ]
  },
  {
   "cell_type": "code",
   "execution_count": 16,
   "id": "df853f20",
   "metadata": {
    "deletable": false,
    "id": "df853f20"
   },
   "outputs": [],
   "source": [
    "# удаляем строки дубликаты\n",
    "data = data.drop_duplicates()"
   ]
  },
  {
   "cell_type": "markdown",
   "id": "627be38f",
   "metadata": {
    "deletable": false,
    "editable": false,
    "id": "627be38f"
   },
   "source": [
    "### Категоризация данных"
   ]
  },
  {
   "cell_type": "markdown",
   "id": "4684c3e0",
   "metadata": {
    "deletable": false,
    "editable": false,
    "id": "4684c3e0"
   },
   "source": [
    "**Задание 16. На основании диапазонов, указанных ниже, создайте в датафрейме `data` столбец `total_income_category` с категориями:**\n",
    "\n",
    "- 0–30000 — `'E'`;\n",
    "- 30001–50000 — `'D'`;\n",
    "- 50001–200000 — `'C'`;\n",
    "- 200001–1000000 — `'B'`;\n",
    "- 1000001 и выше — `'A'`.\n",
    "\n",
    "\n",
    "**Например, кредитополучателю с доходом 25000 нужно назначить категорию `'E'`, а клиенту, получающему 235000, — `'B'`. Используйте собственную функцию с именем `categorize_income()` и метод `apply()`.**"
   ]
  },
  {
   "cell_type": "code",
   "execution_count": 17,
   "id": "78965238",
   "metadata": {
    "deletable": false,
    "id": "78965238"
   },
   "outputs": [],
   "source": [
    "# функция для назначения категории в зависимости от размера ежемесячного дохода\n",
    "def categorize_income(income):\n",
    "    try:\n",
    "        if 0 <= income <= 30000:\n",
    "            return 'E'\n",
    "        elif 30001 <= income <= 50000:\n",
    "            return 'D'\n",
    "        elif 50001 <= income <= 200000:\n",
    "            return 'C'\n",
    "        elif 200001 <= income <= 1000000:\n",
    "            return 'B'\n",
    "        elif income >= 1000001:\n",
    "            return 'A'\n",
    "    except:\n",
    "        pass"
   ]
  },
  {
   "cell_type": "code",
   "execution_count": 18,
   "id": "0980ada1",
   "metadata": {
    "deletable": false,
    "id": "0980ada1"
   },
   "outputs": [],
   "source": [
    "# создание нового столбца с категориями\n",
    "data['total_income_category'] = data['total_income'].apply(categorize_income)"
   ]
  },
  {
   "cell_type": "markdown",
   "id": "9917bba0",
   "metadata": {
    "deletable": false,
    "editable": false,
    "id": "9917bba0"
   },
   "source": [
    "**Задание 17. Выведите на экран перечень уникальных целей взятия кредита из столбца `purpose`.**"
   ]
  },
  {
   "cell_type": "code",
   "execution_count": 19,
   "id": "ee07b65e",
   "metadata": {
    "deletable": false,
    "id": "ee07b65e",
    "outputId": "673c12d9-7d7e-4ae0-9812-c622c89dd244"
   },
   "outputs": [
    {
     "data": {
      "text/plain": [
       "array(['покупка жилья', 'приобретение автомобиля',\n",
       "       'дополнительное образование', 'сыграть свадьбу',\n",
       "       'операции с жильем', 'образование', 'на проведение свадьбы',\n",
       "       'покупка жилья для семьи', 'покупка недвижимости',\n",
       "       'покупка коммерческой недвижимости', 'покупка жилой недвижимости',\n",
       "       'строительство собственной недвижимости', 'недвижимость',\n",
       "       'строительство недвижимости', 'на покупку подержанного автомобиля',\n",
       "       'на покупку своего автомобиля',\n",
       "       'операции с коммерческой недвижимостью',\n",
       "       'строительство жилой недвижимости', 'жилье',\n",
       "       'операции со своей недвижимостью', 'автомобили',\n",
       "       'заняться образованием', 'сделка с подержанным автомобилем',\n",
       "       'получение образования', 'автомобиль', 'свадьба',\n",
       "       'получение дополнительного образования', 'покупка своего жилья',\n",
       "       'операции с недвижимостью', 'получение высшего образования',\n",
       "       'свой автомобиль', 'сделка с автомобилем',\n",
       "       'профильное образование', 'высшее образование',\n",
       "       'покупка жилья для сдачи', 'на покупку автомобиля', 'ремонт жилью',\n",
       "       'заняться высшим образованием'], dtype=object)"
      ]
     },
     "execution_count": 19,
     "metadata": {},
     "output_type": "execute_result"
    }
   ],
   "source": [
    "data['purpose'].unique()"
   ]
  },
  {
   "cell_type": "markdown",
   "id": "52b79d56",
   "metadata": {
    "deletable": false,
    "editable": false,
    "id": "52b79d56"
   },
   "source": [
    "**Задание 18. Создайте функцию, которая на основании данных из столбца `purpose` сформирует новый столбец `purpose_category`, в который войдут следующие категории:**\n",
    "\n",
    "- `'операции с автомобилем'`,\n",
    "- `'операции с недвижимостью'`,\n",
    "- `'проведение свадьбы'`,\n",
    "- `'получение образования'`.\n",
    "\n",
    "**Например, если в столбце `purpose` находится подстрока `'на покупку автомобиля'`, то в столбце `purpose_category` должна появиться строка `'операции с автомобилем'`.**\n",
    "\n",
    "**Используйте собственную функцию с именем `categorize_purpose()` и метод `apply()`. Изучите данные в столбце `purpose` и определите, какие подстроки помогут вам правильно определить категорию.**"
   ]
  },
  {
   "cell_type": "code",
   "execution_count": 20,
   "id": "be41da5d",
   "metadata": {
    "deletable": false,
    "id": "be41da5d"
   },
   "outputs": [],
   "source": [
    "# функция для создания четырех категорий операций\n",
    "def categorize_purpose(row):\n",
    "    try:\n",
    "        if 'автом' in row:\n",
    "            return 'операции с автомобилем'\n",
    "        elif 'жил' in row or 'недвиж' in row:\n",
    "            return 'операции с недвижимостью'\n",
    "        elif 'свад' in row:\n",
    "            return 'проведение свадьбы'\n",
    "        elif 'образов' in row:\n",
    "            return 'получение образования'\n",
    "    except:\n",
    "        return 'нет категории'"
   ]
  },
  {
   "cell_type": "code",
   "execution_count": 21,
   "id": "94c4a19a",
   "metadata": {
    "deletable": false,
    "id": "94c4a19a"
   },
   "outputs": [],
   "source": [
    "data['purpose_category'] = data['purpose'].apply(categorize_purpose)"
   ]
  },
  {
   "cell_type": "markdown",
   "id": "3d596c34",
   "metadata": {
    "deletable": false,
    "editable": false,
    "id": "3d596c34"
   },
   "source": [
    "### Шаг 3. Исследуйте данные и ответьте на вопросы"
   ]
  },
  {
   "cell_type": "markdown",
   "id": "648db036",
   "metadata": {
    "deletable": false,
    "editable": false,
    "id": "648db036"
   },
   "source": [
    "#### 3.1 Есть ли зависимость между количеством детей и возвратом кредита в срок?"
   ]
  },
  {
   "cell_type": "code",
   "execution_count": 22,
   "id": "7fcff25e",
   "metadata": {
    "deletable": false,
    "id": "7fcff25e"
   },
   "outputs": [
    {
     "data": {
      "text/html": [
       "<div>\n",
       "<style scoped>\n",
       "    .dataframe tbody tr th:only-of-type {\n",
       "        vertical-align: middle;\n",
       "    }\n",
       "\n",
       "    .dataframe tbody tr th {\n",
       "        vertical-align: top;\n",
       "    }\n",
       "\n",
       "    .dataframe thead tr th {\n",
       "        text-align: left;\n",
       "    }\n",
       "\n",
       "    .dataframe thead tr:last-of-type th {\n",
       "        text-align: right;\n",
       "    }\n",
       "</style>\n",
       "<table border=\"1\" class=\"dataframe\">\n",
       "  <thead>\n",
       "    <tr>\n",
       "      <th></th>\n",
       "      <th>sum</th>\n",
       "      <th>len</th>\n",
       "      <th>procent</th>\n",
       "    </tr>\n",
       "    <tr>\n",
       "      <th></th>\n",
       "      <th>debt</th>\n",
       "      <th>debt</th>\n",
       "      <th></th>\n",
       "    </tr>\n",
       "    <tr>\n",
       "      <th>children</th>\n",
       "      <th></th>\n",
       "      <th></th>\n",
       "      <th></th>\n",
       "    </tr>\n",
       "  </thead>\n",
       "  <tbody>\n",
       "    <tr>\n",
       "      <th>0</th>\n",
       "      <td>1063</td>\n",
       "      <td>14091</td>\n",
       "      <td>7.543822</td>\n",
       "    </tr>\n",
       "    <tr>\n",
       "      <th>1</th>\n",
       "      <td>444</td>\n",
       "      <td>4808</td>\n",
       "      <td>9.234609</td>\n",
       "    </tr>\n",
       "    <tr>\n",
       "      <th>2</th>\n",
       "      <td>194</td>\n",
       "      <td>2052</td>\n",
       "      <td>9.454191</td>\n",
       "    </tr>\n",
       "    <tr>\n",
       "      <th>3</th>\n",
       "      <td>27</td>\n",
       "      <td>330</td>\n",
       "      <td>8.181818</td>\n",
       "    </tr>\n",
       "    <tr>\n",
       "      <th>4</th>\n",
       "      <td>4</td>\n",
       "      <td>41</td>\n",
       "      <td>9.756098</td>\n",
       "    </tr>\n",
       "    <tr>\n",
       "      <th>5</th>\n",
       "      <td>0</td>\n",
       "      <td>9</td>\n",
       "      <td>0.000000</td>\n",
       "    </tr>\n",
       "  </tbody>\n",
       "</table>\n",
       "</div>"
      ],
      "text/plain": [
       "           sum    len   procent\n",
       "          debt   debt          \n",
       "children                       \n",
       "0         1063  14091  7.543822\n",
       "1          444   4808  9.234609\n",
       "2          194   2052  9.454191\n",
       "3           27    330  8.181818\n",
       "4            4     41  9.756098\n",
       "5            0      9  0.000000"
      ]
     },
     "metadata": {},
     "output_type": "display_data"
    }
   ],
   "source": [
    "\n",
    "children_pivot_table = pd.pivot_table(data, index=['children'], values = 'debt', aggfunc = [sum, len])\n",
    "\n",
    "children_pivot_table['procent'] = children_pivot_table['sum'] * 100/ children_pivot_table['len'] \n",
    "\n",
    "display(children_pivot_table)"
   ]
  },
  {
   "cell_type": "markdown",
   "id": "2eb9088e",
   "metadata": {
    "deletable": false,
    "id": "2eb9088e"
   },
   "source": [
    "**Вывод:** Получилось у тех, кто не имеет детей процент невозврата кредита самый маленький. Дальше анализ сводим к категориям, где самые большие выборки. Из их анализа следует, что с количеством детей растет процент невозврата кредита."
   ]
  },
  {
   "cell_type": "markdown",
   "id": "74c9b3a7",
   "metadata": {
    "deletable": false,
    "editable": false,
    "id": "74c9b3a7"
   },
   "source": [
    "#### 3.2 Есть ли зависимость между семейным положением и возвратом кредита в срок?"
   ]
  },
  {
   "cell_type": "code",
   "execution_count": 23,
   "id": "8098ab3b",
   "metadata": {
    "deletable": false,
    "id": "8098ab3b"
   },
   "outputs": [
    {
     "data": {
      "text/html": [
       "<div>\n",
       "<style scoped>\n",
       "    .dataframe tbody tr th:only-of-type {\n",
       "        vertical-align: middle;\n",
       "    }\n",
       "\n",
       "    .dataframe tbody tr th {\n",
       "        vertical-align: top;\n",
       "    }\n",
       "\n",
       "    .dataframe thead tr th {\n",
       "        text-align: left;\n",
       "    }\n",
       "\n",
       "    .dataframe thead tr:last-of-type th {\n",
       "        text-align: right;\n",
       "    }\n",
       "</style>\n",
       "<table border=\"1\" class=\"dataframe\">\n",
       "  <thead>\n",
       "    <tr>\n",
       "      <th></th>\n",
       "      <th>sum</th>\n",
       "      <th>len</th>\n",
       "      <th>procent</th>\n",
       "    </tr>\n",
       "    <tr>\n",
       "      <th></th>\n",
       "      <th>debt</th>\n",
       "      <th>debt</th>\n",
       "      <th></th>\n",
       "    </tr>\n",
       "    <tr>\n",
       "      <th>family_status_id</th>\n",
       "      <th></th>\n",
       "      <th></th>\n",
       "      <th></th>\n",
       "    </tr>\n",
       "  </thead>\n",
       "  <tbody>\n",
       "    <tr>\n",
       "      <th>0</th>\n",
       "      <td>927</td>\n",
       "      <td>12261</td>\n",
       "      <td>7.560558</td>\n",
       "    </tr>\n",
       "    <tr>\n",
       "      <th>1</th>\n",
       "      <td>385</td>\n",
       "      <td>4134</td>\n",
       "      <td>9.313014</td>\n",
       "    </tr>\n",
       "    <tr>\n",
       "      <th>2</th>\n",
       "      <td>63</td>\n",
       "      <td>951</td>\n",
       "      <td>6.624606</td>\n",
       "    </tr>\n",
       "    <tr>\n",
       "      <th>3</th>\n",
       "      <td>84</td>\n",
       "      <td>1189</td>\n",
       "      <td>7.064760</td>\n",
       "    </tr>\n",
       "    <tr>\n",
       "      <th>4</th>\n",
       "      <td>273</td>\n",
       "      <td>2796</td>\n",
       "      <td>9.763948</td>\n",
       "    </tr>\n",
       "  </tbody>\n",
       "</table>\n",
       "</div>"
      ],
      "text/plain": [
       "                  sum    len   procent\n",
       "                 debt   debt          \n",
       "family_status_id                      \n",
       "0                 927  12261  7.560558\n",
       "1                 385   4134  9.313014\n",
       "2                  63    951  6.624606\n",
       "3                  84   1189  7.064760\n",
       "4                 273   2796  9.763948"
      ]
     },
     "metadata": {},
     "output_type": "display_data"
    }
   ],
   "source": [
    "status_pivot_table = pd.pivot_table(data, index=['family_status_id'], values = 'debt', aggfunc = [sum, len])\n",
    "\n",
    "status_pivot_table['procent'] = status_pivot_table['sum'] * 100/ status_pivot_table['len'] \n",
    "\n",
    "display(status_pivot_table)"
   ]
  },
  {
   "cell_type": "markdown",
   "id": "c389ca63",
   "metadata": {
    "deletable": false,
    "id": "c389ca63"
   },
   "source": [
    " **Вывод:** Самый маленький процент невозврата у вдовцов, потом у тех, кто в разводе. Самый большой процент невозврата у тех, кто никогда не состоял в браке. Вывод: заемщики состоящие или состоявшие в браке реже допускают просрочку."
   ]
  },
  {
   "cell_type": "markdown",
   "id": "9529de68",
   "metadata": {
    "deletable": false,
    "editable": false,
    "id": "9529de68"
   },
   "source": [
    "#### 3.3 Есть ли зависимость между уровнем дохода и возвратом кредита в срок?"
   ]
  },
  {
   "cell_type": "code",
   "execution_count": 24,
   "id": "8787f44a",
   "metadata": {
    "deletable": false,
    "id": "8787f44a"
   },
   "outputs": [
    {
     "data": {
      "text/html": [
       "<div>\n",
       "<style scoped>\n",
       "    .dataframe tbody tr th:only-of-type {\n",
       "        vertical-align: middle;\n",
       "    }\n",
       "\n",
       "    .dataframe tbody tr th {\n",
       "        vertical-align: top;\n",
       "    }\n",
       "\n",
       "    .dataframe thead tr th {\n",
       "        text-align: left;\n",
       "    }\n",
       "\n",
       "    .dataframe thead tr:last-of-type th {\n",
       "        text-align: right;\n",
       "    }\n",
       "</style>\n",
       "<table border=\"1\" class=\"dataframe\">\n",
       "  <thead>\n",
       "    <tr>\n",
       "      <th></th>\n",
       "      <th>sum</th>\n",
       "      <th>len</th>\n",
       "      <th>procent</th>\n",
       "    </tr>\n",
       "    <tr>\n",
       "      <th></th>\n",
       "      <th>debt</th>\n",
       "      <th>debt</th>\n",
       "      <th></th>\n",
       "    </tr>\n",
       "    <tr>\n",
       "      <th>total_income_category</th>\n",
       "      <th></th>\n",
       "      <th></th>\n",
       "      <th></th>\n",
       "    </tr>\n",
       "  </thead>\n",
       "  <tbody>\n",
       "    <tr>\n",
       "      <th>1</th>\n",
       "      <td>2</td>\n",
       "      <td>25</td>\n",
       "      <td>8.000000</td>\n",
       "    </tr>\n",
       "    <tr>\n",
       "      <th>2</th>\n",
       "      <td>354</td>\n",
       "      <td>5014</td>\n",
       "      <td>7.060231</td>\n",
       "    </tr>\n",
       "    <tr>\n",
       "      <th>3</th>\n",
       "      <td>1353</td>\n",
       "      <td>15921</td>\n",
       "      <td>8.498210</td>\n",
       "    </tr>\n",
       "    <tr>\n",
       "      <th>4</th>\n",
       "      <td>21</td>\n",
       "      <td>349</td>\n",
       "      <td>6.017192</td>\n",
       "    </tr>\n",
       "    <tr>\n",
       "      <th>5</th>\n",
       "      <td>2</td>\n",
       "      <td>22</td>\n",
       "      <td>9.090909</td>\n",
       "    </tr>\n",
       "  </tbody>\n",
       "</table>\n",
       "</div>"
      ],
      "text/plain": [
       "                        sum    len   procent\n",
       "                       debt   debt          \n",
       "total_income_category                       \n",
       "1                         2     25  8.000000\n",
       "2                       354   5014  7.060231\n",
       "3                      1353  15921  8.498210\n",
       "4                        21    349  6.017192\n",
       "5                         2     22  9.090909"
      ]
     },
     "metadata": {},
     "output_type": "display_data"
    }
   ],
   "source": [
    "# Разбиваем уровень дохода на пять категорий. Находим процент невозврата кредита по категориям.\n",
    "def categorize_income(categorize):\n",
    "    if categorize<= 30000:\n",
    "        return 5\n",
    "    if categorize<= 50000:\n",
    "        return 4\n",
    "    if categorize<= 200000:\n",
    "        return 3\n",
    "    if categorize<= 1000000:\n",
    "        return 2\n",
    "    return 1\n",
    "data['total_income'] = data['total_income'].astype('int')\n",
    "data['total_income_category'] = data['total_income'].apply(categorize_income)\n",
    "income_pivot_table = pd.pivot_table(data, index=['total_income_category'], values = 'debt', aggfunc = [sum,len])\n",
    "\n",
    "income_pivot_table['procent'] = income_pivot_table['sum'] * 100/ income_pivot_table['len'] \n",
    "\n",
    "display(income_pivot_table)"
   ]
  },
  {
   "cell_type": "markdown",
   "id": "6dd14b57",
   "metadata": {
    "deletable": false,
    "id": "6dd14b57"
   },
   "source": [
    "**Вывод:** Для сравнения подходят две самые многочисленные выборки с доходом от 200 тыс. руб. до 1 мил. и с доходом от 50 тыс. руб. до 200 тыс. Больший процент невозврата у кого доход меньше, это и логично, кто меньше зарабатывает, у того и вероятность невозврата больше."
   ]
  },
  {
   "cell_type": "markdown",
   "id": "1dcc9b12",
   "metadata": {
    "deletable": false,
    "editable": false,
    "id": "1dcc9b12"
   },
   "source": [
    "#### 3.4 Как разные цели кредита влияют на его возврат в срок?"
   ]
  },
  {
   "cell_type": "code",
   "execution_count": 25,
   "id": "c602bc8b",
   "metadata": {
    "deletable": false,
    "id": "c602bc8b"
   },
   "outputs": [
    {
     "data": {
      "text/html": [
       "<div>\n",
       "<style scoped>\n",
       "    .dataframe tbody tr th:only-of-type {\n",
       "        vertical-align: middle;\n",
       "    }\n",
       "\n",
       "    .dataframe tbody tr th {\n",
       "        vertical-align: top;\n",
       "    }\n",
       "\n",
       "    .dataframe thead tr th {\n",
       "        text-align: left;\n",
       "    }\n",
       "\n",
       "    .dataframe thead tr:last-of-type th {\n",
       "        text-align: right;\n",
       "    }\n",
       "</style>\n",
       "<table border=\"1\" class=\"dataframe\">\n",
       "  <thead>\n",
       "    <tr>\n",
       "      <th></th>\n",
       "      <th>sum</th>\n",
       "      <th>len</th>\n",
       "      <th>procent</th>\n",
       "    </tr>\n",
       "    <tr>\n",
       "      <th></th>\n",
       "      <th>debt</th>\n",
       "      <th>debt</th>\n",
       "      <th></th>\n",
       "    </tr>\n",
       "    <tr>\n",
       "      <th>purpose_category</th>\n",
       "      <th></th>\n",
       "      <th></th>\n",
       "      <th></th>\n",
       "    </tr>\n",
       "  </thead>\n",
       "  <tbody>\n",
       "    <tr>\n",
       "      <th>операции с автомобилем</th>\n",
       "      <td>400</td>\n",
       "      <td>4279</td>\n",
       "      <td>9.347978</td>\n",
       "    </tr>\n",
       "    <tr>\n",
       "      <th>операции с недвижимостью</th>\n",
       "      <td>780</td>\n",
       "      <td>10751</td>\n",
       "      <td>7.255139</td>\n",
       "    </tr>\n",
       "    <tr>\n",
       "      <th>получение образования</th>\n",
       "      <td>369</td>\n",
       "      <td>3988</td>\n",
       "      <td>9.252758</td>\n",
       "    </tr>\n",
       "    <tr>\n",
       "      <th>проведение свадьбы</th>\n",
       "      <td>183</td>\n",
       "      <td>2313</td>\n",
       "      <td>7.911803</td>\n",
       "    </tr>\n",
       "  </tbody>\n",
       "</table>\n",
       "</div>"
      ],
      "text/plain": [
       "                          sum    len   procent\n",
       "                         debt   debt          \n",
       "purpose_category                              \n",
       "операции с автомобилем    400   4279  9.347978\n",
       "операции с недвижимостью  780  10751  7.255139\n",
       "получение образования     369   3988  9.252758\n",
       "проведение свадьбы        183   2313  7.911803"
      ]
     },
     "metadata": {},
     "output_type": "display_data"
    }
   ],
   "source": [
    "# Распределяем цели кредитов на четыре категории с помощью функции. Находим процент невозврата кредита.\n",
    "def categorize_purpose(str_purpose):\n",
    "    if 'автомобил' in str_purpose:\n",
    "        return 'операции с автомобилем'\n",
    "    if 'свадьб' in str_purpose:\n",
    "        return 'проведение свадьбы'\n",
    "    if 'образован' in str_purpose:\n",
    "        return 'получение образования'\n",
    "    if 'жиль' in str_purpose:\n",
    "        return 'операции с недвижимостью'\n",
    "    if 'недвижимост' in str_purpose:\n",
    "        return 'операции с недвижимостью'\n",
    "    return 'не определена'\n",
    "data['purpose_category'] = data['purpose'].apply(categorize_purpose)\n",
    "purpose_data_pivot = pd.pivot_table(data, index=['purpose_category'], values = 'debt', aggfunc = [sum, len])\n",
    "\n",
    "purpose_data_pivot['procent'] = purpose_data_pivot['sum'] * 100/ purpose_data_pivot['len'] \n",
    "\n",
    "display(purpose_data_pivot)"
   ]
  },
  {
   "cell_type": "markdown",
   "id": "cf05ed63",
   "metadata": {
    "deletable": false,
    "id": "cf05ed63"
   },
   "source": [
    "**Вывод:** Самый низкий процент невозврата кредита у категории с операциями с недвижимостью, здесь же и самое большое количество кредитов, самый высокий процент невозврата на операциях с автомобилем. Количество кредитов  у трех категорий почти лежат рядом, т.е. я считаю можно сравнивать такие данные. Мой вывод, что есть зависимость от цели кредита на его возврат."
   ]
  },
  {
   "cell_type": "markdown",
   "id": "46c1f10b",
   "metadata": {
    "deletable": false,
    "editable": false,
    "id": "46c1f10b"
   },
   "source": [
    "#### 3.5 Приведите возможные причины появления пропусков в исходных данных."
   ]
  },
  {
   "cell_type": "markdown",
   "id": "3697d2a9",
   "metadata": {
    "deletable": false,
    "id": "3697d2a9"
   },
   "source": [
    "*Ответ:* Причинами появления пропусков в данных могут быть ошибки при выгрузке данных, т.е сбои и неправильная их запись, а также человеческий фактор. К человеческому фактору можно отнести такие причины: нежелание оставлять свои данные, игнорирование полей ввода информации и просто ошибки ввода."
   ]
  },
  {
   "cell_type": "markdown",
   "id": "3137d257",
   "metadata": {
    "deletable": false,
    "editable": false,
    "id": "3137d257"
   },
   "source": [
    "#### 3.6 Объясните, почему заполнить пропуски медианным значением — лучшее решение для количественных переменных."
   ]
  },
  {
   "cell_type": "markdown",
   "id": "cf40012a",
   "metadata": {
    "deletable": false,
    "id": "cf40012a"
   },
   "source": [
    "*Ответ:* Медийные значения не реагируют на выбросы из общий последовательности данных, отображают более достоверную информацию о характеристике последовательности значений."
   ]
  },
  {
   "cell_type": "markdown",
   "id": "57bc304e",
   "metadata": {
    "deletable": false,
    "editable": false,
    "id": "57bc304e"
   },
   "source": [
    "### Шаг 4: общий вывод."
   ]
  },
  {
   "cell_type": "markdown",
   "id": "1ab75d1c",
   "metadata": {
    "deletable": false,
    "id": "1ab75d1c"
   },
   "source": [
    "Напишите ваш общий вывод. \n",
    "Для анализа данных была предоставлена база, нуждающася в доработке для ответа на поставленные задачи. Были проанализированы данные на пропуски в значениях. Эти пропуски были в столбцах с трудовым стажем и ежемесячным доходом. Для достоверности заключений пропуски в ежемесячном доходе были заменены на медийные значения в зависимости от типа занятости. Также была проведена проверка на дубликаты в столбце с уровнем образования, эти данные привели к единому виду для анализа. Строки-дубликаты удалили. Данные с ежемесячным доходом и целью получения кредита были разбыта по категориям для наглядности выводов. \n",
    "По данным рекомендация: просить заемщиков не пропускать пункты при заполнении анкет.\n",
    "Основные выводы исследования: \n",
    "1. Есть зависимость между количеством детей и возвратом кредита в срок. У заемщиков без детей процент возврата кредита выше, с количеством детей процент невозврата немного увеличивается.\n",
    "2. Заемщики состоящие или состоявшие в браке реже допускают просрочку.\n",
    "3. Возврат кредита напрямую зависит от уровня дохода.\n",
    "4. Самые рискованные цели для кредита связаны с оперциями с автомобилем и получением образования, менее рискованные с недвижимостью и проведением свадьбы.\n",
    "Спасибо за обращение решения ваших задач в нашу компанию!\n",
    "И спасибо, Евгения!"
   ]
  }
 ],
 "metadata": {
  "ExecuteTimeLog": [
   {
    "duration": 708,
    "start_time": "2023-12-13T13:09:14.046Z"
   },
   {
    "duration": 20,
    "start_time": "2023-12-13T13:09:14.756Z"
   },
   {
    "duration": 13,
    "start_time": "2023-12-13T13:09:14.778Z"
   },
   {
    "duration": 8,
    "start_time": "2023-12-13T13:09:14.792Z"
   },
   {
    "duration": 27,
    "start_time": "2023-12-13T13:09:14.801Z"
   },
   {
    "duration": 19,
    "start_time": "2023-12-13T13:09:14.829Z"
   },
   {
    "duration": 6,
    "start_time": "2023-12-13T13:09:14.849Z"
   },
   {
    "duration": 7,
    "start_time": "2023-12-13T13:09:14.856Z"
   },
   {
    "duration": 10,
    "start_time": "2023-12-13T13:09:14.864Z"
   },
   {
    "duration": 3,
    "start_time": "2023-12-13T13:09:14.876Z"
   },
   {
    "duration": 34,
    "start_time": "2023-12-13T13:09:14.881Z"
   },
   {
    "duration": 8,
    "start_time": "2023-12-13T13:09:14.916Z"
   },
   {
    "duration": 3,
    "start_time": "2023-12-13T13:09:14.925Z"
   },
   {
    "duration": 14,
    "start_time": "2023-12-13T13:09:14.948Z"
   },
   {
    "duration": 21,
    "start_time": "2023-12-13T13:09:14.963Z"
   },
   {
    "duration": 15,
    "start_time": "2023-12-13T13:09:14.985Z"
   },
   {
    "duration": 3,
    "start_time": "2023-12-13T13:09:15.002Z"
   },
   {
    "duration": 11,
    "start_time": "2023-12-13T13:09:15.006Z"
   },
   {
    "duration": 6,
    "start_time": "2023-12-13T13:09:15.018Z"
   },
   {
    "duration": 25,
    "start_time": "2023-12-13T13:09:15.025Z"
   },
   {
    "duration": 108,
    "start_time": "2023-12-13T13:09:15.051Z"
   },
   {
    "duration": 99,
    "start_time": "2023-12-13T13:09:15.160Z"
   },
   {
    "duration": 0,
    "start_time": "2023-12-13T13:09:15.260Z"
   },
   {
    "duration": 0,
    "start_time": "2023-12-13T13:09:15.261Z"
   },
   {
    "duration": 0,
    "start_time": "2023-12-13T13:09:15.262Z"
   },
   {
    "duration": 10,
    "start_time": "2023-12-13T13:21:45.230Z"
   },
   {
    "duration": 7,
    "start_time": "2023-12-13T13:22:06.478Z"
   },
   {
    "duration": 113,
    "start_time": "2023-12-13T13:23:29.007Z"
   },
   {
    "duration": 13,
    "start_time": "2023-12-13T13:24:30.207Z"
   },
   {
    "duration": 6,
    "start_time": "2023-12-13T13:24:41.371Z"
   },
   {
    "duration": 12,
    "start_time": "2023-12-13T13:26:10.890Z"
   },
   {
    "duration": 6,
    "start_time": "2023-12-13T13:26:29.279Z"
   },
   {
    "duration": 11,
    "start_time": "2023-12-13T14:23:56.495Z"
   },
   {
    "duration": 11,
    "start_time": "2023-12-13T14:25:12.173Z"
   },
   {
    "duration": 10,
    "start_time": "2023-12-13T14:26:14.149Z"
   },
   {
    "duration": 9,
    "start_time": "2023-12-13T14:26:37.256Z"
   },
   {
    "duration": 6,
    "start_time": "2023-12-13T14:28:03.852Z"
   },
   {
    "duration": 9,
    "start_time": "2023-12-13T14:28:21.927Z"
   },
   {
    "duration": 7,
    "start_time": "2023-12-13T14:28:52.083Z"
   },
   {
    "duration": 15,
    "start_time": "2023-12-13T14:29:12.986Z"
   },
   {
    "duration": 16,
    "start_time": "2023-12-13T14:29:30.050Z"
   },
   {
    "duration": 6,
    "start_time": "2023-12-13T14:30:07.823Z"
   },
   {
    "duration": 18,
    "start_time": "2023-12-13T14:30:22.421Z"
   },
   {
    "duration": 702,
    "start_time": "2023-12-14T09:18:37.505Z"
   },
   {
    "duration": 26,
    "start_time": "2023-12-14T09:18:38.209Z"
   },
   {
    "duration": 17,
    "start_time": "2023-12-14T09:18:38.236Z"
   },
   {
    "duration": 11,
    "start_time": "2023-12-14T09:18:38.256Z"
   },
   {
    "duration": 54,
    "start_time": "2023-12-14T09:18:38.268Z"
   },
   {
    "duration": 3,
    "start_time": "2023-12-14T09:18:38.324Z"
   },
   {
    "duration": 9,
    "start_time": "2023-12-14T09:18:38.329Z"
   },
   {
    "duration": 7,
    "start_time": "2023-12-14T09:18:38.339Z"
   },
   {
    "duration": 8,
    "start_time": "2023-12-14T09:18:38.347Z"
   },
   {
    "duration": 3,
    "start_time": "2023-12-14T09:18:38.359Z"
   },
   {
    "duration": 53,
    "start_time": "2023-12-14T09:18:38.364Z"
   },
   {
    "duration": 10,
    "start_time": "2023-12-14T09:18:38.418Z"
   },
   {
    "duration": 7,
    "start_time": "2023-12-14T09:18:38.429Z"
   },
   {
    "duration": 12,
    "start_time": "2023-12-14T09:18:38.437Z"
   },
   {
    "duration": 20,
    "start_time": "2023-12-14T09:18:38.451Z"
   },
   {
    "duration": 45,
    "start_time": "2023-12-14T09:18:38.473Z"
   },
   {
    "duration": 4,
    "start_time": "2023-12-14T09:18:38.520Z"
   },
   {
    "duration": 12,
    "start_time": "2023-12-14T09:18:38.526Z"
   },
   {
    "duration": 8,
    "start_time": "2023-12-14T09:18:38.540Z"
   },
   {
    "duration": 5,
    "start_time": "2023-12-14T09:18:38.549Z"
   },
   {
    "duration": 11,
    "start_time": "2023-12-14T09:18:38.555Z"
   },
   {
    "duration": 85,
    "start_time": "2023-12-14T09:18:38.568Z"
   },
   {
    "duration": 0,
    "start_time": "2023-12-14T09:18:38.654Z"
   },
   {
    "duration": 0,
    "start_time": "2023-12-14T09:18:38.655Z"
   },
   {
    "duration": 0,
    "start_time": "2023-12-14T09:18:38.656Z"
   },
   {
    "duration": 7,
    "start_time": "2023-12-14T09:20:13.282Z"
   },
   {
    "duration": 7,
    "start_time": "2023-12-14T09:21:04.362Z"
   },
   {
    "duration": 11,
    "start_time": "2023-12-14T09:24:42.739Z"
   },
   {
    "duration": 8,
    "start_time": "2023-12-14T09:25:20.049Z"
   },
   {
    "duration": 16,
    "start_time": "2023-12-14T09:27:36.905Z"
   },
   {
    "duration": 10,
    "start_time": "2023-12-14T09:29:10.118Z"
   },
   {
    "duration": 10,
    "start_time": "2023-12-14T09:30:47.305Z"
   },
   {
    "duration": 28,
    "start_time": "2023-12-14T09:31:27.034Z"
   },
   {
    "duration": 25,
    "start_time": "2023-12-14T09:37:33.363Z"
   },
   {
    "duration": 78,
    "start_time": "2023-12-14T09:44:36.401Z"
   },
   {
    "duration": 92,
    "start_time": "2023-12-14T09:45:09.819Z"
   },
   {
    "duration": 24,
    "start_time": "2023-12-14T09:45:35.778Z"
   },
   {
    "duration": 128,
    "start_time": "2023-12-14T09:48:48.568Z"
   },
   {
    "duration": 47,
    "start_time": "2023-12-14T11:46:33.783Z"
   },
   {
    "duration": 701,
    "start_time": "2023-12-14T11:46:45.403Z"
   },
   {
    "duration": 21,
    "start_time": "2023-12-14T11:46:46.106Z"
   },
   {
    "duration": 14,
    "start_time": "2023-12-14T11:46:46.128Z"
   },
   {
    "duration": 9,
    "start_time": "2023-12-14T11:46:46.144Z"
   },
   {
    "duration": 33,
    "start_time": "2023-12-14T11:46:46.154Z"
   },
   {
    "duration": 23,
    "start_time": "2023-12-14T11:46:46.189Z"
   },
   {
    "duration": 11,
    "start_time": "2023-12-14T11:46:46.214Z"
   },
   {
    "duration": 4,
    "start_time": "2023-12-14T11:46:46.226Z"
   },
   {
    "duration": 6,
    "start_time": "2023-12-14T11:46:46.231Z"
   },
   {
    "duration": 5,
    "start_time": "2023-12-14T11:46:46.241Z"
   },
   {
    "duration": 38,
    "start_time": "2023-12-14T11:46:46.248Z"
   },
   {
    "duration": 27,
    "start_time": "2023-12-14T11:46:46.288Z"
   },
   {
    "duration": 5,
    "start_time": "2023-12-14T11:46:46.316Z"
   },
   {
    "duration": 26,
    "start_time": "2023-12-14T11:46:46.322Z"
   },
   {
    "duration": 23,
    "start_time": "2023-12-14T11:46:46.350Z"
   },
   {
    "duration": 15,
    "start_time": "2023-12-14T11:46:46.374Z"
   },
   {
    "duration": 3,
    "start_time": "2023-12-14T11:46:46.391Z"
   },
   {
    "duration": 16,
    "start_time": "2023-12-14T11:46:46.395Z"
   },
   {
    "duration": 5,
    "start_time": "2023-12-14T11:46:46.412Z"
   },
   {
    "duration": 10,
    "start_time": "2023-12-14T11:46:46.418Z"
   },
   {
    "duration": 31,
    "start_time": "2023-12-14T11:46:46.429Z"
   },
   {
    "duration": 30,
    "start_time": "2023-12-14T11:46:46.462Z"
   },
   {
    "duration": 22,
    "start_time": "2023-12-14T11:46:46.494Z"
   },
   {
    "duration": 65,
    "start_time": "2023-12-14T11:46:46.517Z"
   },
   {
    "duration": 0,
    "start_time": "2023-12-14T11:46:46.583Z"
   },
   {
    "duration": 19,
    "start_time": "2023-12-14T11:53:10.857Z"
   },
   {
    "duration": 13,
    "start_time": "2023-12-14T11:54:39.695Z"
   },
   {
    "duration": 19,
    "start_time": "2023-12-14T11:59:34.762Z"
   },
   {
    "duration": 19,
    "start_time": "2023-12-14T12:01:01.799Z"
   },
   {
    "duration": 16,
    "start_time": "2023-12-14T12:01:48.871Z"
   },
   {
    "duration": 436,
    "start_time": "2023-12-14T12:01:56.458Z"
   },
   {
    "duration": 22,
    "start_time": "2023-12-14T12:01:56.896Z"
   },
   {
    "duration": 18,
    "start_time": "2023-12-14T12:01:56.920Z"
   },
   {
    "duration": 11,
    "start_time": "2023-12-14T12:01:56.940Z"
   },
   {
    "duration": 38,
    "start_time": "2023-12-14T12:01:56.952Z"
   },
   {
    "duration": 20,
    "start_time": "2023-12-14T12:01:56.992Z"
   },
   {
    "duration": 9,
    "start_time": "2023-12-14T12:01:57.014Z"
   },
   {
    "duration": 4,
    "start_time": "2023-12-14T12:01:57.024Z"
   },
   {
    "duration": 10,
    "start_time": "2023-12-14T12:01:57.030Z"
   },
   {
    "duration": 4,
    "start_time": "2023-12-14T12:01:57.042Z"
   },
   {
    "duration": 38,
    "start_time": "2023-12-14T12:01:57.048Z"
   },
   {
    "duration": 30,
    "start_time": "2023-12-14T12:01:57.088Z"
   },
   {
    "duration": 17,
    "start_time": "2023-12-14T12:01:57.119Z"
   },
   {
    "duration": 14,
    "start_time": "2023-12-14T12:01:57.138Z"
   },
   {
    "duration": 39,
    "start_time": "2023-12-14T12:01:57.154Z"
   },
   {
    "duration": 17,
    "start_time": "2023-12-14T12:01:57.194Z"
   },
   {
    "duration": 4,
    "start_time": "2023-12-14T12:01:57.212Z"
   },
   {
    "duration": 22,
    "start_time": "2023-12-14T12:01:57.218Z"
   },
   {
    "duration": 8,
    "start_time": "2023-12-14T12:01:57.242Z"
   },
   {
    "duration": 7,
    "start_time": "2023-12-14T12:01:57.251Z"
   },
   {
    "duration": 18,
    "start_time": "2023-12-14T12:01:57.260Z"
   },
   {
    "duration": 50,
    "start_time": "2023-12-14T12:01:57.280Z"
   },
   {
    "duration": 27,
    "start_time": "2023-12-14T12:01:57.331Z"
   },
   {
    "duration": 85,
    "start_time": "2023-12-14T12:01:57.360Z"
   },
   {
    "duration": 0,
    "start_time": "2023-12-14T12:01:57.447Z"
   },
   {
    "duration": 20,
    "start_time": "2023-12-14T12:02:15.851Z"
   },
   {
    "duration": 20,
    "start_time": "2023-12-14T12:02:30.458Z"
   },
   {
    "duration": 18,
    "start_time": "2023-12-14T12:02:57.875Z"
   },
   {
    "duration": 14,
    "start_time": "2023-12-14T12:05:08.753Z"
   },
   {
    "duration": 18,
    "start_time": "2023-12-14T12:08:26.762Z"
   },
   {
    "duration": 17,
    "start_time": "2023-12-14T12:10:35.849Z"
   },
   {
    "duration": 23,
    "start_time": "2023-12-14T12:46:26.019Z"
   },
   {
    "duration": 26,
    "start_time": "2023-12-14T12:49:39.353Z"
   },
   {
    "duration": 26,
    "start_time": "2023-12-14T12:53:26.696Z"
   },
   {
    "duration": 32,
    "start_time": "2023-12-14T12:54:24.671Z"
   },
   {
    "duration": 30,
    "start_time": "2023-12-14T13:17:43.675Z"
   },
   {
    "duration": 423,
    "start_time": "2023-12-14T13:18:02.363Z"
   },
   {
    "duration": 21,
    "start_time": "2023-12-14T13:18:02.788Z"
   },
   {
    "duration": 14,
    "start_time": "2023-12-14T13:18:02.811Z"
   },
   {
    "duration": 22,
    "start_time": "2023-12-14T13:18:02.827Z"
   },
   {
    "duration": 69,
    "start_time": "2023-12-14T13:18:02.850Z"
   },
   {
    "duration": 2,
    "start_time": "2023-12-14T13:18:02.921Z"
   },
   {
    "duration": 37,
    "start_time": "2023-12-14T13:18:02.925Z"
   },
   {
    "duration": 12,
    "start_time": "2023-12-14T13:18:02.963Z"
   },
   {
    "duration": 15,
    "start_time": "2023-12-14T13:18:02.976Z"
   },
   {
    "duration": 15,
    "start_time": "2023-12-14T13:18:02.993Z"
   },
   {
    "duration": 41,
    "start_time": "2023-12-14T13:18:03.009Z"
   },
   {
    "duration": 10,
    "start_time": "2023-12-14T13:18:03.051Z"
   },
   {
    "duration": 4,
    "start_time": "2023-12-14T13:18:03.062Z"
   },
   {
    "duration": 15,
    "start_time": "2023-12-14T13:18:03.068Z"
   },
   {
    "duration": 28,
    "start_time": "2023-12-14T13:18:03.084Z"
   },
   {
    "duration": 18,
    "start_time": "2023-12-14T13:18:03.113Z"
   },
   {
    "duration": 3,
    "start_time": "2023-12-14T13:18:03.133Z"
   },
   {
    "duration": 15,
    "start_time": "2023-12-14T13:18:03.137Z"
   },
   {
    "duration": 5,
    "start_time": "2023-12-14T13:18:03.154Z"
   },
   {
    "duration": 20,
    "start_time": "2023-12-14T13:18:03.160Z"
   },
   {
    "duration": 13,
    "start_time": "2023-12-14T13:18:03.182Z"
   },
   {
    "duration": 30,
    "start_time": "2023-12-14T13:18:03.197Z"
   },
   {
    "duration": 23,
    "start_time": "2023-12-14T13:18:03.228Z"
   },
   {
    "duration": 22,
    "start_time": "2023-12-14T13:18:03.252Z"
   },
   {
    "duration": 19,
    "start_time": "2023-12-14T13:18:03.276Z"
   },
   {
    "duration": 24,
    "start_time": "2023-12-14T13:21:55.767Z"
   },
   {
    "duration": 84,
    "start_time": "2023-12-14T13:22:57.431Z"
   },
   {
    "duration": 35,
    "start_time": "2023-12-14T13:24:03.198Z"
   },
   {
    "duration": 43,
    "start_time": "2023-12-14T13:25:05.871Z"
   },
   {
    "duration": 330,
    "start_time": "2023-12-14T13:26:48.163Z"
   },
   {
    "duration": 89,
    "start_time": "2023-12-14T13:26:59.915Z"
   },
   {
    "duration": 36,
    "start_time": "2023-12-14T13:27:12.325Z"
   },
   {
    "duration": 23,
    "start_time": "2023-12-14T13:28:03.007Z"
   },
   {
    "duration": 38,
    "start_time": "2023-12-14T13:31:20.340Z"
   },
   {
    "duration": 39,
    "start_time": "2023-12-14T13:33:03.455Z"
   },
   {
    "duration": 88,
    "start_time": "2023-12-14T14:08:11.300Z"
   },
   {
    "duration": 101,
    "start_time": "2023-12-14T14:08:34.098Z"
   },
   {
    "duration": 87,
    "start_time": "2023-12-14T14:09:16.746Z"
   },
   {
    "duration": 28,
    "start_time": "2023-12-14T14:10:31.073Z"
   },
   {
    "duration": 27,
    "start_time": "2023-12-14T14:11:40.854Z"
   },
   {
    "duration": 86,
    "start_time": "2023-12-14T14:12:11.016Z"
   },
   {
    "duration": 70,
    "start_time": "2023-12-14T14:12:36.342Z"
   },
   {
    "duration": 23,
    "start_time": "2023-12-14T14:17:13.760Z"
   },
   {
    "duration": 22,
    "start_time": "2023-12-14T14:28:43.650Z"
   },
   {
    "duration": 16,
    "start_time": "2023-12-14T14:29:26.671Z"
   },
   {
    "duration": 27,
    "start_time": "2023-12-14T14:31:57.294Z"
   },
   {
    "duration": 28,
    "start_time": "2023-12-14T14:32:58.944Z"
   },
   {
    "duration": 27,
    "start_time": "2023-12-14T14:33:36.499Z"
   },
   {
    "duration": 490,
    "start_time": "2023-12-14T14:54:35.623Z"
   },
   {
    "duration": 23,
    "start_time": "2023-12-14T14:54:36.115Z"
   },
   {
    "duration": 16,
    "start_time": "2023-12-14T14:54:36.140Z"
   },
   {
    "duration": 10,
    "start_time": "2023-12-14T14:54:36.157Z"
   },
   {
    "duration": 73,
    "start_time": "2023-12-14T14:54:36.169Z"
   },
   {
    "duration": 3,
    "start_time": "2023-12-14T14:54:36.243Z"
   },
   {
    "duration": 27,
    "start_time": "2023-12-14T14:54:36.248Z"
   },
   {
    "duration": 4,
    "start_time": "2023-12-14T14:54:36.276Z"
   },
   {
    "duration": 30,
    "start_time": "2023-12-14T14:54:36.281Z"
   },
   {
    "duration": 35,
    "start_time": "2023-12-14T14:54:36.312Z"
   },
   {
    "duration": 66,
    "start_time": "2023-12-14T14:54:36.349Z"
   },
   {
    "duration": 11,
    "start_time": "2023-12-14T14:54:36.416Z"
   },
   {
    "duration": 6,
    "start_time": "2023-12-14T14:54:36.429Z"
   },
   {
    "duration": 18,
    "start_time": "2023-12-14T14:54:36.439Z"
   },
   {
    "duration": 22,
    "start_time": "2023-12-14T14:54:36.459Z"
   },
   {
    "duration": 44,
    "start_time": "2023-12-14T14:54:36.483Z"
   },
   {
    "duration": 5,
    "start_time": "2023-12-14T14:54:36.529Z"
   },
   {
    "duration": 20,
    "start_time": "2023-12-14T14:54:36.536Z"
   },
   {
    "duration": 5,
    "start_time": "2023-12-14T14:54:36.557Z"
   },
   {
    "duration": 9,
    "start_time": "2023-12-14T14:54:36.564Z"
   },
   {
    "duration": 12,
    "start_time": "2023-12-14T14:54:36.574Z"
   },
   {
    "duration": 40,
    "start_time": "2023-12-14T14:54:36.588Z"
   },
   {
    "duration": 23,
    "start_time": "2023-12-14T14:54:36.630Z"
   },
   {
    "duration": 98,
    "start_time": "2023-12-14T14:54:36.655Z"
   },
   {
    "duration": 0,
    "start_time": "2023-12-14T14:54:36.754Z"
   },
   {
    "duration": 658,
    "start_time": "2023-12-15T09:22:55.964Z"
   },
   {
    "duration": 22,
    "start_time": "2023-12-15T09:22:56.624Z"
   },
   {
    "duration": 21,
    "start_time": "2023-12-15T09:22:56.647Z"
   },
   {
    "duration": 11,
    "start_time": "2023-12-15T09:22:56.671Z"
   },
   {
    "duration": 56,
    "start_time": "2023-12-15T09:22:56.683Z"
   },
   {
    "duration": 3,
    "start_time": "2023-12-15T09:22:56.740Z"
   },
   {
    "duration": 26,
    "start_time": "2023-12-15T09:22:56.745Z"
   },
   {
    "duration": 4,
    "start_time": "2023-12-15T09:22:56.773Z"
   },
   {
    "duration": 7,
    "start_time": "2023-12-15T09:22:56.779Z"
   },
   {
    "duration": 5,
    "start_time": "2023-12-15T09:22:56.789Z"
   },
   {
    "duration": 42,
    "start_time": "2023-12-15T09:22:56.795Z"
   },
   {
    "duration": 10,
    "start_time": "2023-12-15T09:22:56.839Z"
   },
   {
    "duration": 9,
    "start_time": "2023-12-15T09:22:56.851Z"
   },
   {
    "duration": 21,
    "start_time": "2023-12-15T09:22:56.862Z"
   },
   {
    "duration": 24,
    "start_time": "2023-12-15T09:22:56.884Z"
   },
   {
    "duration": 22,
    "start_time": "2023-12-15T09:22:56.910Z"
   },
   {
    "duration": 4,
    "start_time": "2023-12-15T09:22:56.933Z"
   },
   {
    "duration": 24,
    "start_time": "2023-12-15T09:22:56.939Z"
   },
   {
    "duration": 14,
    "start_time": "2023-12-15T09:22:56.965Z"
   },
   {
    "duration": 6,
    "start_time": "2023-12-15T09:22:56.981Z"
   },
   {
    "duration": 14,
    "start_time": "2023-12-15T09:22:56.988Z"
   },
   {
    "duration": 39,
    "start_time": "2023-12-15T09:22:57.004Z"
   },
   {
    "duration": 26,
    "start_time": "2023-12-15T09:22:57.045Z"
   },
   {
    "duration": 31,
    "start_time": "2023-12-15T09:22:57.072Z"
   },
   {
    "duration": 38,
    "start_time": "2023-12-15T09:22:57.123Z"
   },
   {
    "duration": 34,
    "start_time": "2023-12-15T09:24:12.875Z"
   },
   {
    "duration": 462,
    "start_time": "2023-12-15T09:52:05.349Z"
   },
   {
    "duration": 22,
    "start_time": "2023-12-15T09:52:05.812Z"
   },
   {
    "duration": 16,
    "start_time": "2023-12-15T09:52:05.835Z"
   },
   {
    "duration": 10,
    "start_time": "2023-12-15T09:52:05.853Z"
   },
   {
    "duration": 56,
    "start_time": "2023-12-15T09:52:05.864Z"
   },
   {
    "duration": 12,
    "start_time": "2023-12-15T09:52:05.922Z"
   },
   {
    "duration": 19,
    "start_time": "2023-12-15T09:52:05.936Z"
   },
   {
    "duration": 6,
    "start_time": "2023-12-15T09:52:05.956Z"
   },
   {
    "duration": 10,
    "start_time": "2023-12-15T09:52:05.964Z"
   },
   {
    "duration": 28,
    "start_time": "2023-12-15T09:52:05.977Z"
   },
   {
    "duration": 46,
    "start_time": "2023-12-15T09:52:06.006Z"
   },
   {
    "duration": 10,
    "start_time": "2023-12-15T09:52:06.054Z"
   },
   {
    "duration": 9,
    "start_time": "2023-12-15T09:52:06.065Z"
   },
   {
    "duration": 35,
    "start_time": "2023-12-15T09:52:06.075Z"
   },
   {
    "duration": 44,
    "start_time": "2023-12-15T09:52:06.112Z"
   },
   {
    "duration": 17,
    "start_time": "2023-12-15T09:52:06.157Z"
   },
   {
    "duration": 3,
    "start_time": "2023-12-15T09:52:06.176Z"
   },
   {
    "duration": 12,
    "start_time": "2023-12-15T09:52:06.181Z"
   },
   {
    "duration": 6,
    "start_time": "2023-12-15T09:52:06.194Z"
   },
   {
    "duration": 6,
    "start_time": "2023-12-15T09:52:06.201Z"
   },
   {
    "duration": 16,
    "start_time": "2023-12-15T09:52:06.208Z"
   },
   {
    "duration": 32,
    "start_time": "2023-12-15T09:52:06.225Z"
   },
   {
    "duration": 23,
    "start_time": "2023-12-15T09:52:06.259Z"
   },
   {
    "duration": 50,
    "start_time": "2023-12-15T09:52:06.283Z"
   },
   {
    "duration": 37,
    "start_time": "2023-12-15T09:52:06.335Z"
   },
   {
    "duration": 49,
    "start_time": "2023-12-15T11:25:40.145Z"
   },
   {
    "duration": 675,
    "start_time": "2023-12-15T11:42:41.704Z"
   },
   {
    "duration": 23,
    "start_time": "2023-12-15T11:42:42.381Z"
   },
   {
    "duration": 15,
    "start_time": "2023-12-15T11:42:42.406Z"
   },
   {
    "duration": 11,
    "start_time": "2023-12-15T11:42:42.423Z"
   },
   {
    "duration": 39,
    "start_time": "2023-12-15T11:42:42.435Z"
   },
   {
    "duration": 3,
    "start_time": "2023-12-15T11:42:42.475Z"
   },
   {
    "duration": 9,
    "start_time": "2023-12-15T11:42:42.480Z"
   },
   {
    "duration": 4,
    "start_time": "2023-12-15T11:42:42.490Z"
   },
   {
    "duration": 8,
    "start_time": "2023-12-15T11:42:42.495Z"
   },
   {
    "duration": 4,
    "start_time": "2023-12-15T11:42:42.505Z"
   },
   {
    "duration": 67,
    "start_time": "2023-12-15T11:42:42.510Z"
   },
   {
    "duration": 11,
    "start_time": "2023-12-15T11:42:42.578Z"
   },
   {
    "duration": 3,
    "start_time": "2023-12-15T11:42:42.590Z"
   },
   {
    "duration": 13,
    "start_time": "2023-12-15T11:42:42.595Z"
   },
   {
    "duration": 49,
    "start_time": "2023-12-15T11:42:42.610Z"
   },
   {
    "duration": 17,
    "start_time": "2023-12-15T11:42:42.661Z"
   },
   {
    "duration": 3,
    "start_time": "2023-12-15T11:42:42.680Z"
   },
   {
    "duration": 12,
    "start_time": "2023-12-15T11:42:42.684Z"
   },
   {
    "duration": 6,
    "start_time": "2023-12-15T11:42:42.698Z"
   },
   {
    "duration": 10,
    "start_time": "2023-12-15T11:42:42.706Z"
   },
   {
    "duration": 30,
    "start_time": "2023-12-15T11:42:42.718Z"
   },
   {
    "duration": 97,
    "start_time": "2023-12-15T11:42:42.750Z"
   },
   {
    "duration": 0,
    "start_time": "2023-12-15T11:42:42.849Z"
   },
   {
    "duration": 0,
    "start_time": "2023-12-15T11:42:42.850Z"
   },
   {
    "duration": 0,
    "start_time": "2023-12-15T11:42:42.851Z"
   },
   {
    "duration": 1354,
    "start_time": "2023-12-15T11:44:13.282Z"
   },
   {
    "duration": 1285,
    "start_time": "2023-12-15T11:52:39.472Z"
   },
   {
    "duration": 23,
    "start_time": "2023-12-15T11:53:34.215Z"
   },
   {
    "duration": 1281,
    "start_time": "2023-12-15T11:55:25.760Z"
   },
   {
    "duration": 1439,
    "start_time": "2023-12-15T11:55:30.653Z"
   },
   {
    "duration": 25,
    "start_time": "2023-12-15T11:55:53.741Z"
   },
   {
    "duration": 22,
    "start_time": "2023-12-15T11:56:24.345Z"
   },
   {
    "duration": 25,
    "start_time": "2023-12-15T12:04:22.291Z"
   },
   {
    "duration": 38,
    "start_time": "2023-12-15T12:12:38.120Z"
   },
   {
    "duration": 36,
    "start_time": "2023-12-15T12:25:14.479Z"
   },
   {
    "duration": 480,
    "start_time": "2023-12-15T13:12:44.445Z"
   },
   {
    "duration": 20,
    "start_time": "2023-12-15T13:12:44.927Z"
   },
   {
    "duration": 15,
    "start_time": "2023-12-15T13:12:44.948Z"
   },
   {
    "duration": 9,
    "start_time": "2023-12-15T13:12:44.964Z"
   },
   {
    "duration": 34,
    "start_time": "2023-12-15T13:12:44.975Z"
   },
   {
    "duration": 3,
    "start_time": "2023-12-15T13:12:45.010Z"
   },
   {
    "duration": 44,
    "start_time": "2023-12-15T13:12:45.015Z"
   },
   {
    "duration": 39,
    "start_time": "2023-12-15T13:12:45.061Z"
   },
   {
    "duration": 11,
    "start_time": "2023-12-15T13:12:45.102Z"
   },
   {
    "duration": 18,
    "start_time": "2023-12-15T13:12:45.114Z"
   },
   {
    "duration": 48,
    "start_time": "2023-12-15T13:12:45.134Z"
   },
   {
    "duration": 9,
    "start_time": "2023-12-15T13:12:45.184Z"
   },
   {
    "duration": 4,
    "start_time": "2023-12-15T13:12:45.194Z"
   },
   {
    "duration": 11,
    "start_time": "2023-12-15T13:12:45.200Z"
   },
   {
    "duration": 21,
    "start_time": "2023-12-15T13:12:45.212Z"
   },
   {
    "duration": 17,
    "start_time": "2023-12-15T13:12:45.242Z"
   },
   {
    "duration": 4,
    "start_time": "2023-12-15T13:12:45.260Z"
   },
   {
    "duration": 12,
    "start_time": "2023-12-15T13:12:45.265Z"
   },
   {
    "duration": 5,
    "start_time": "2023-12-15T13:12:45.279Z"
   },
   {
    "duration": 3,
    "start_time": "2023-12-15T13:12:45.285Z"
   },
   {
    "duration": 9,
    "start_time": "2023-12-15T13:12:45.290Z"
   },
   {
    "duration": 56,
    "start_time": "2023-12-15T13:12:45.301Z"
   },
   {
    "duration": 21,
    "start_time": "2023-12-15T13:12:45.359Z"
   },
   {
    "duration": 35,
    "start_time": "2023-12-15T13:12:45.382Z"
   },
   {
    "duration": 53,
    "start_time": "2023-12-15T13:12:45.418Z"
   },
   {
    "duration": 466,
    "start_time": "2023-12-15T13:15:57.564Z"
   },
   {
    "duration": 21,
    "start_time": "2023-12-15T13:15:58.032Z"
   },
   {
    "duration": 14,
    "start_time": "2023-12-15T13:15:58.055Z"
   },
   {
    "duration": 11,
    "start_time": "2023-12-15T13:15:58.071Z"
   },
   {
    "duration": 46,
    "start_time": "2023-12-15T13:15:58.084Z"
   },
   {
    "duration": 3,
    "start_time": "2023-12-15T13:15:58.132Z"
   },
   {
    "duration": 36,
    "start_time": "2023-12-15T13:15:58.136Z"
   },
   {
    "duration": 4,
    "start_time": "2023-12-15T13:15:58.174Z"
   },
   {
    "duration": 11,
    "start_time": "2023-12-15T13:15:58.179Z"
   },
   {
    "duration": 9,
    "start_time": "2023-12-15T13:15:58.191Z"
   },
   {
    "duration": 52,
    "start_time": "2023-12-15T13:15:58.201Z"
   },
   {
    "duration": 11,
    "start_time": "2023-12-15T13:15:58.254Z"
   },
   {
    "duration": 5,
    "start_time": "2023-12-15T13:15:58.266Z"
   },
   {
    "duration": 16,
    "start_time": "2023-12-15T13:15:58.274Z"
   },
   {
    "duration": 35,
    "start_time": "2023-12-15T13:15:58.292Z"
   },
   {
    "duration": 17,
    "start_time": "2023-12-15T13:15:58.328Z"
   },
   {
    "duration": 3,
    "start_time": "2023-12-15T13:15:58.347Z"
   },
   {
    "duration": 27,
    "start_time": "2023-12-15T13:15:58.351Z"
   },
   {
    "duration": 5,
    "start_time": "2023-12-15T13:15:58.380Z"
   },
   {
    "duration": 10,
    "start_time": "2023-12-15T13:15:58.386Z"
   },
   {
    "duration": 14,
    "start_time": "2023-12-15T13:15:58.397Z"
   },
   {
    "duration": 37,
    "start_time": "2023-12-15T13:15:58.412Z"
   },
   {
    "duration": 22,
    "start_time": "2023-12-15T13:15:58.451Z"
   },
   {
    "duration": 34,
    "start_time": "2023-12-15T13:15:58.474Z"
   },
   {
    "duration": 51,
    "start_time": "2023-12-15T13:15:58.509Z"
   }
  ],
  "colab": {
   "provenance": []
  },
  "kernelspec": {
   "display_name": "Python 3 (ipykernel)",
   "language": "python",
   "name": "python3"
  },
  "language_info": {
   "codemirror_mode": {
    "name": "ipython",
    "version": 3
   },
   "file_extension": ".py",
   "mimetype": "text/x-python",
   "name": "python",
   "nbconvert_exporter": "python",
   "pygments_lexer": "ipython3",
   "version": "3.11.5"
  },
  "toc": {
   "base_numbering": 1,
   "nav_menu": {},
   "number_sections": true,
   "sideBar": true,
   "skip_h1_title": true,
   "title_cell": "Table of Contents",
   "title_sidebar": "Contents",
   "toc_cell": false,
   "toc_position": {},
   "toc_section_display": true,
   "toc_window_display": false
  }
 },
 "nbformat": 4,
 "nbformat_minor": 5
}
