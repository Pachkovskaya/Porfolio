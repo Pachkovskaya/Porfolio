{
 "cells": [
  {
   "cell_type": "markdown",
   "id": "2326e5e3",
   "metadata": {},
   "source": [
    "Исследование базы данных сервиса Stackoverflow.\n",
    "\n",
    "Цель проекта:\n",
    "Сформировать требуемые выгрузки базы дынных с помощью SQL. Рассчитать продуктовые метрики.\n",
    "\n",
    "В самостоятельном проекте  я работаю с базой данных StackOverflow — сервиса вопросов и ответов о программировании. StackOverflow похож на социальную сеть — пользователи сервиса задают вопросы, отвечают на посты, оставляют комментарии и ставят оценки другим ответам.\n",
    "\n",
    "Это версия базы, где хранятся данные о постах за 2008 год, но в таблицах есть информацию и о более поздних оценках, которые эти посты получили. \n",
    "\n",
    "Таблица stackoverflow.badges\n",
    "\n",
    "Хранит информацию о значках, которые присуждаются за разные достижения. Например, пользователь, правильно ответивший на большое количество вопросов про PostgreSQL, может получить значок postgresql. \n",
    "\n",
    "Поле\tОписание\n",
    "id\tИдентификатор значка, первичный ключ таблицы\n",
    "name\tНазвание значка\n",
    "user_id\tИдентификатор пользователя, которому присвоили значок, внешний ключ, отсылающий к таблице users\n",
    "creation_date\tДата присвоения значка\n",
    "Таблица stackoverflow.post_types\n",
    "Содержит информацию о типе постов. Их может быть два:\n",
    "Question — пост с вопросом;\n",
    "Answer — пост с ответом.\n",
    "Поле\tОписание\n",
    "id\t     Идентификатор типа поста, первичный ключ таблицы\n",
    "type\tТип поста\n",
    "Таблица stackoverflow.posts\n",
    "Содержит информацию о постах.\n",
    "Поле\tОписание\n",
    "id\tИдентификатор поста, первичный ключ таблицы\n",
    "title\tЗаголовок поста\n",
    "creation_date\tДата создания поста\n",
    "favorites_count\tЧисло, которое показывает, сколько раз пост добавили в «Закладки»\n",
    "last_activity_date\tДата последнего действия в посте, например комментария\n",
    "last_edit_date\tДата последнего изменения поста\n",
    "user_id\tИдентификатор пользователя, который создал пост, внешний ключ к таблице users\n",
    "parent_id\tЕсли пост написали в ответ на другую публикацию, в это поле попадёт идентификатор поста с вопросом\n",
    "post_type_id\tИдентификатор типа поста, внешний ключ к таблице post_types\n",
    "score\tКоличество очков, которое набрал пост\n",
    "views_count\tКоличество просмотров\n",
    "Таблица stackoverflow.users\n",
    "Содержит информацию о пользователях.\n",
    "Поле\tОписание\n",
    "id\tИдентификатор пользователя, первичный ключ таблицы\n",
    "creation_date\tДата регистрации пользователя\n",
    "display_name\tИмя пользователя\n",
    "last_access_date\tДата последнего входа\n",
    "location\tМестоположение\n",
    "reputation\tОчки репутации, которые получают за хорошие вопросы и полезные ответы\n",
    "views\tЧисло просмотров профиля пользователя\n",
    "Таблица stackoverflow.vote_types\n",
    "Содержит информацию о типах голосов. Голос — это метка, которую пользователи ставят посту. Типов бывает несколько: \n",
    "UpMod — такую отметку получают посты с вопросами или ответами, которые пользователи посчитали уместными и полезными.\n",
    "DownMod — такую отметку получают посты, которые показались пользователям наименее полезными.\n",
    "Close — такую метку ставят опытные пользователи сервиса, если заданный вопрос нужно доработать или он вообще не подходит для платформы.\n",
    "Offensive — такую метку могут поставить, если пользователь ответил на вопрос в грубой и оскорбительной манере, например, указав на неопытность автора поста.\n",
    "Spam — такую метку ставят в случае, если пост пользователя выглядит откровенной рекламой.\n",
    "Поле\tОписание\n",
    "id\tИдентификатор типа голоса, первичный ключ\n",
    "name\tНазвание метки\n",
    "Таблица stackoverflow.votes\n",
    "Содержит информацию о голосах за посты. \n",
    "Поле\tОписание\n",
    "id\tИдентификатор голоса, первичный ключ\n",
    "post_id\tИдентификатор поста, внешний ключ к таблице posts\n",
    "user_id\tИдентификатор пользователя, который поставил посту голос, внешний ключ к таблице users\n",
    "bounty_amount\tСумма вознаграждения, которое назначают, чтобы привлечь внимание к посту\n",
    "vote_type_id\tИдентификатор типа голоса, внешний ключ к таблице vote_types\n",
    "creation_date\tДата назначения голоса\n"
   ]
  },
  {
   "cell_type": "code",
   "execution_count": 1,
   "id": "b8ea7b62",
   "metadata": {},
   "outputs": [],
   "source": [
    "import pandas as pd\n",
    "import matplotlib.pyplot as plt\n",
    "import seaborn as sns\n",
    "from plotly import graph_objects as go\n",
    "from sqlalchemy import create_engine \n",
    "pd.set_option('display.float_format', lambda x: '%.2f' % x)"
   ]
  },
  {
   "cell_type": "markdown",
   "id": "d3425397",
   "metadata": {},
   "source": [
    "Конфигурация для подключения к базе данных data-analyst-advanced-sql\n",
    "Эта база данных содержит схему stackoverflow, с которой я работаю в проекте."
   ]
  },
  {
   "cell_type": "code",
   "execution_count": 2,
   "id": "011dd029",
   "metadata": {},
   "outputs": [],
   "source": [
    "db_config = {\n",
    "    'user': 'praktikum_student', # имя пользователя\n",
    "    'pwd': 'Sdf4$2;d-d30pp', # пароль\n",
    "    'host': 'rc1b-wcoijxj3yxfsf3fs.mdb.yandexcloud.net',\n",
    "    'port': 6432, # порт подключения\n",
    "    'db': 'data-analyst-advanced-sql' # название базы данных\n",
    "}  \n",
    "\n",
    "connection_string = 'postgresql://{}:{}@{}:{}/{}'.format(\n",
    "    db_config['user'],\n",
    "    db_config['pwd'],\n",
    "    db_config['host'],\n",
    "    db_config['port'],\n",
    "    db_config['db'],\n",
    ")"
   ]
  },
  {
   "cell_type": "markdown",
   "id": "36064272",
   "metadata": {},
   "source": [
    "Создание подключения"
   ]
  },
  {
   "cell_type": "code",
   "execution_count": 3,
   "id": "4df4ecf4",
   "metadata": {},
   "outputs": [
    {
     "ename": "ModuleNotFoundError",
     "evalue": "No module named 'psycopg2'",
     "output_type": "error",
     "traceback": [
      "\u001b[1;31m---------------------------------------------------------------------------\u001b[0m",
      "\u001b[1;31mModuleNotFoundError\u001b[0m                       Traceback (most recent call last)",
      "Cell \u001b[1;32mIn[3], line 1\u001b[0m\n\u001b[1;32m----> 1\u001b[0m engine \u001b[38;5;241m=\u001b[39m create_engine(connection_string)\n",
      "File \u001b[1;32m<string>:2\u001b[0m, in \u001b[0;36mcreate_engine\u001b[1;34m(url, **kwargs)\u001b[0m\n",
      "File \u001b[1;32mC:\\ProgramData\\anaconda3\\Lib\\site-packages\\sqlalchemy\\util\\deprecations.py:309\u001b[0m, in \u001b[0;36mdeprecated_params.<locals>.decorate.<locals>.warned\u001b[1;34m(fn, *args, **kwargs)\u001b[0m\n\u001b[0;32m    302\u001b[0m     \u001b[38;5;28;01mif\u001b[39;00m m \u001b[38;5;129;01min\u001b[39;00m kwargs:\n\u001b[0;32m    303\u001b[0m         _warn_with_version(\n\u001b[0;32m    304\u001b[0m             messages[m],\n\u001b[0;32m    305\u001b[0m             versions[m],\n\u001b[0;32m    306\u001b[0m             version_warnings[m],\n\u001b[0;32m    307\u001b[0m             stacklevel\u001b[38;5;241m=\u001b[39m\u001b[38;5;241m3\u001b[39m,\n\u001b[0;32m    308\u001b[0m         )\n\u001b[1;32m--> 309\u001b[0m \u001b[38;5;28;01mreturn\u001b[39;00m fn(\u001b[38;5;241m*\u001b[39margs, \u001b[38;5;241m*\u001b[39m\u001b[38;5;241m*\u001b[39mkwargs)\n",
      "File \u001b[1;32mC:\\ProgramData\\anaconda3\\Lib\\site-packages\\sqlalchemy\\engine\\create.py:560\u001b[0m, in \u001b[0;36mcreate_engine\u001b[1;34m(url, **kwargs)\u001b[0m\n\u001b[0;32m    558\u001b[0m         \u001b[38;5;28;01mif\u001b[39;00m k \u001b[38;5;129;01min\u001b[39;00m kwargs:\n\u001b[0;32m    559\u001b[0m             dbapi_args[k] \u001b[38;5;241m=\u001b[39m pop_kwarg(k)\n\u001b[1;32m--> 560\u001b[0m     dbapi \u001b[38;5;241m=\u001b[39m dialect_cls\u001b[38;5;241m.\u001b[39mdbapi(\u001b[38;5;241m*\u001b[39m\u001b[38;5;241m*\u001b[39mdbapi_args)\n\u001b[0;32m    562\u001b[0m dialect_args[\u001b[38;5;124m\"\u001b[39m\u001b[38;5;124mdbapi\u001b[39m\u001b[38;5;124m\"\u001b[39m] \u001b[38;5;241m=\u001b[39m dbapi\n\u001b[0;32m    564\u001b[0m dialect_args\u001b[38;5;241m.\u001b[39msetdefault(\u001b[38;5;124m\"\u001b[39m\u001b[38;5;124mcompiler_linting\u001b[39m\u001b[38;5;124m\"\u001b[39m, compiler\u001b[38;5;241m.\u001b[39mNO_LINTING)\n",
      "File \u001b[1;32mC:\\ProgramData\\anaconda3\\Lib\\site-packages\\sqlalchemy\\dialects\\postgresql\\psycopg2.py:782\u001b[0m, in \u001b[0;36mPGDialect_psycopg2.dbapi\u001b[1;34m(cls)\u001b[0m\n\u001b[0;32m    780\u001b[0m \u001b[38;5;129m@classmethod\u001b[39m\n\u001b[0;32m    781\u001b[0m \u001b[38;5;28;01mdef\u001b[39;00m \u001b[38;5;21mdbapi\u001b[39m(\u001b[38;5;28mcls\u001b[39m):\n\u001b[1;32m--> 782\u001b[0m     \u001b[38;5;28;01mimport\u001b[39;00m \u001b[38;5;21;01mpsycopg2\u001b[39;00m\n\u001b[0;32m    784\u001b[0m     \u001b[38;5;28;01mreturn\u001b[39;00m psycopg2\n",
      "\u001b[1;31mModuleNotFoundError\u001b[0m: No module named 'psycopg2'"
     ]
    }
   ],
   "source": [
    "engine = create_engine(connection_string) "
   ]
  },
  {
   "cell_type": "markdown",
   "id": "cca2f5ad",
   "metadata": {},
   "source": [
    "Пример запроса к базе данных\n",
    "\n",
    "sample_df является pandas-датафреймом."
   ]
  },
  {
   "cell_type": "code",
   "execution_count": null,
   "id": "d722be7f",
   "metadata": {},
   "outputs": [],
   "source": [
    "query = '''\n",
    "SELECT *\n",
    "FROM stackoverflow.users\n",
    "LIMIT 10;\n",
    "'''\n",
    "\n",
    "sample_df = pd.read_sql_query(query, con=engine) "
   ]
  },
  {
   "cell_type": "markdown",
   "id": "b7fecf07",
   "metadata": {},
   "source": [
    "# Задание 1\n",
    "\n",
    "Выведите общую сумму просмотров у постов, опубликованных в каждый месяц 2008 года. Если данных за какой-либо месяц в базе нет, такой месяц можно пропустить. Результат отсортируйте по убыванию общего количества просмотров."
   ]
  },
  {
   "cell_type": "code",
   "execution_count": null,
   "id": "5ca1899d",
   "metadata": {},
   "outputs": [],
   "source": [
    "query = '''\n",
    "SELECT \n",
    "       DATE_TRUNC('month',creation_date)::date,\n",
    "       SUM(views_count) AS sum_v\n",
    "FROM stackoverflow.posts\n",
    "WHERE creation_date::date BETWEEN '2008-01-01' AND '2008-12-31'\n",
    "GROUP BY DATE_TRUNC('month',creation_date)\n",
    "ORDER BY  sum_v DESC \n",
    "'''"
   ]
  },
  {
   "cell_type": "markdown",
   "id": "677d82f8",
   "metadata": {},
   "source": [
    "# Задание 2\n",
    "\n",
    "Выведите имена самых активных пользователей, которые в первый месяц после регистрации (включая день регистрации) дали больше 100 ответов. Вопросы, которые задавали пользователи, не учитывайте. Для каждого имени пользователя выведите количество уникальных значений user_id. Отсортируйте результат по полю с именами в лексикографическом порядке.\n"
   ]
  },
  {
   "cell_type": "code",
   "execution_count": null,
   "id": "2bfb61e2",
   "metadata": {},
   "outputs": [],
   "source": [
    "query = '''\n",
    "SELECT u.display_name,\n",
    "       COUNT(DISTINCT p.user_id)\n",
    "FROM stackoverflow.posts AS p\n",
    "JOIN stackoverflow.users AS u \n",
    "ON p.user_id=u.id\n",
    "JOIN stackoverflow.post_types AS pt\n",
    "ON pt.id=p.post_type_id\n",
    "WHERE p.creation_date::date BETWEEN u.creation_date::date AND (u.creation_date::date + INTERVAL '1 month') \n",
    "      AND pt.type LIKE 'Answer'\n",
    "GROUP BY u.display_name\n",
    "HAVING COUNT(p.id) > 100\n",
    "ORDER BY u.display_name;\n",
    "'''"
   ]
  },
  {
   "cell_type": "markdown",
   "id": "6931ec58",
   "metadata": {},
   "source": [
    "# Задание 3\n",
    "\n",
    ".\n",
    "Выведите количество постов за 2008 год по месяцам. Отберите посты от пользователей, которые зарегистрировались в сентябре 2008 года и сделали хотя бы один пост в декабре того же года. Отсортируйте таблицу по значению месяца по убыванию."
   ]
  },
  {
   "cell_type": "code",
   "execution_count": null,
   "id": "48c57e84",
   "metadata": {},
   "outputs": [],
   "source": [
    "query = '''\n",
    "WITH vib AS\n",
    "(\n",
    "SELECT u.id\n",
    "FROM stackoverflow.posts AS p\n",
    "JOIN stackoverflow.users AS u \n",
    "ON p.user_id=u.id\n",
    "WHERE (u.creation_date::date BETWEEN '2008-09-01' AND '2008-09-30')\n",
    "AND (p.creation_date::date BETWEEN '2008-12-01' AND '2008-12-31')\n",
    "GROUP BY u.id\n",
    ")\n",
    "\n",
    "SELECT DATE_TRUNC('month', p.creation_date)::date AS month,\n",
    "       COUNT(p.id)\n",
    "FROM stackoverflow.posts AS p\n",
    "WHERE p.user_id IN \n",
    "(\n",
    "SELECT *\n",
    "FROM vib\n",
    ")\n",
    "      AND DATE_TRUNC('year', p.creation_date)::date = '2008-01-01'\n",
    "GROUP BY DATE_TRUNC('month', p.creation_date)::date\n",
    "ORDER BY DATE_TRUNC('month', p.creation_date)::date DESC;\n",
    "'''"
   ]
  },
  {
   "cell_type": "markdown",
   "id": "171d7425",
   "metadata": {},
   "source": [
    "# Задание 4\n",
    "\n",
    "Используя данные о постах, выведите несколько полей:\n",
    "идентификатор пользователя, который написал пост;\n",
    "дата создания поста;\n",
    "количество просмотров у текущего поста;\n",
    "сумма просмотров постов автора с накоплением.\n",
    "Данные в таблице должны быть отсортированы по возрастанию идентификаторов пользователей, а данные об одном и том же пользователе — по возрастанию даты создания поста."
   ]
  },
  {
   "cell_type": "code",
   "execution_count": null,
   "id": "b6aaedfd",
   "metadata": {},
   "outputs": [],
   "source": [
    "query = '''\n",
    "SELECT user_id,\n",
    "       creation_date,\n",
    "       views_count,\n",
    "       SUM(views_count) OVER(PARTITION BY user_id ORDER BY creation_date)\n",
    "FROM stackoverflow.posts\n",
    "ORDER BY user_id, creation_date\n",
    "'''"
   ]
  },
  {
   "cell_type": "markdown",
   "id": "ed4212ae",
   "metadata": {},
   "source": [
    "# Задание 5\n",
    "\n",
    "Сколько в среднем дней в период с 1 по 7 декабря 2008 года включительно пользователи взаимодействовали с платформой? Для каждого пользователя отберите дни, в которые он или она опубликовали хотя бы один пост. Нужно получить одно целое число — не забудьте округлить результат."
   ]
  },
  {
   "cell_type": "code",
   "execution_count": null,
   "id": "824bbcf5",
   "metadata": {},
   "outputs": [],
   "source": [
    "query = '''\n",
    "WITH temp AS\n",
    "(\n",
    "SELECT user_id,\n",
    "       COUNT(DISTINCT DATE_TRUNC('day', creation_date)::date)\n",
    "FROM stackoverflow.posts\n",
    "WHERE creation_date::date BETWEEN '2008-12-01' AND '2008-12-07'\n",
    "GROUP BY user_id\n",
    ")\n",
    "SELECT ROUND(AVG(count))::int AS result\n",
    "FROM temp;\n",
    "'''"
   ]
  },
  {
   "cell_type": "markdown",
   "id": "53c41053",
   "metadata": {},
   "source": [
    "# Задание 6\n",
    "На сколько процентов менялось количество постов ежемесячно с 1 сентября по 31 декабря 2008 года? Отобразите таблицу со следующими полями:\n",
    "Номер месяца.\n",
    "Количество постов за месяц.\n",
    "Процент, который показывает, насколько изменилось количество постов в текущем месяце по сравнению с предыдущим.\n",
    "Если постов стало меньше, значение процента должно быть отрицательным, если больше — положительным. Округлите значение процента до двух знаков после запятой.\n",
    "Напомним, что при делении одного целого числа на другое в PostgreSQL в результате получится целое число, округлённое до ближайшего целого вниз. Чтобы этого избежать, переведите делимое в тип numeric.\n"
   ]
  },
  {
   "cell_type": "code",
   "execution_count": null,
   "id": "31e16e25",
   "metadata": {},
   "outputs": [],
   "source": [
    "query = '''\n",
    "WITH temp AS\n",
    "(\n",
    "SELECT EXTRACT(MONTH FROM creation_date)::int AS creation_month,\n",
    "       COUNT(id) AS posts_count\n",
    "FROM stackoverflow.posts\n",
    "WHERE EXTRACT(MONTH FROM creation_date)::int BETWEEN 9 AND 12\n",
    "GROUP BY creation_month\n",
    ")\n",
    "SELECT *,\n",
    "       ROUND((posts_count::numeric/LAG(posts_count) OVER()-1)*100, 2)\n",
    "FROM temp;\n",
    "'''"
   ]
  },
  {
   "cell_type": "markdown",
   "id": "12fb0bf7",
   "metadata": {},
   "source": [
    "# Задание 7\n",
    "\n",
    "Найдите пользователя, который опубликовал больше всего постов за всё время с момента регистрации. Выведите данные его активности за октябрь 2008 года в таком виде:\n",
    "номер недели;\n",
    "дата и время последнего поста, опубликованного на этой неделе.\n",
    "Подсказка"
   ]
  },
  {
   "cell_type": "code",
   "execution_count": null,
   "id": "d380fc0d",
   "metadata": {},
   "outputs": [],
   "source": [
    "query = '''\n",
    "WITH active_user AS\n",
    "(\n",
    "SELECT user_id,\n",
    "       COUNT(id)\n",
    "FROM stackoverflow.posts\n",
    "GROUP BY user_id\n",
    "ORDER BY COUNT(id) DESC\n",
    "LIMIT 1\n",
    ")\n",
    "SELECT EXTRACT(WEEK FROM p.creation_date)::int AS week_creation,\n",
    "       MAX(p.creation_date) AS creation_date\n",
    "FROM active_user AS au\n",
    "JOIN stackoverflow.posts AS p\n",
    "ON au.user_id=p.user_id\n",
    "WHERE DATE_TRUNC('month', p.creation_date)::date = '2008-10-01'\n",
    "GROUP BY week_creation;\n",
    "'''"
   ]
  },
  {
   "cell_type": "code",
   "execution_count": null,
   "id": "327906f2",
   "metadata": {},
   "outputs": [],
   "source": []
  },
  {
   "cell_type": "code",
   "execution_count": null,
   "id": "7d4e00c3",
   "metadata": {},
   "outputs": [],
   "source": []
  },
  {
   "cell_type": "code",
   "execution_count": null,
   "id": "33bad678",
   "metadata": {},
   "outputs": [],
   "source": []
  }
 ],
 "metadata": {
  "celltoolbar": "Отсутствует",
  "kernelspec": {
   "display_name": "Python 3 (ipykernel)",
   "language": "python",
   "name": "python3"
  },
  "language_info": {
   "codemirror_mode": {
    "name": "ipython",
    "version": 3
   },
   "file_extension": ".py",
   "mimetype": "text/x-python",
   "name": "python",
   "nbconvert_exporter": "python",
   "pygments_lexer": "ipython3",
   "version": "3.11.5"
  }
 },
 "nbformat": 4,
 "nbformat_minor": 5
}
